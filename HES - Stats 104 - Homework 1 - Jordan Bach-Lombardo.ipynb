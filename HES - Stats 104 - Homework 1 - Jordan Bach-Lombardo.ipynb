{
 "cells": [
  {
   "cell_type": "code",
   "execution_count": 120,
   "metadata": {},
   "outputs": [],
   "source": [
    "import pandas as pd\n",
    "import numpy as np\n",
    "import matplotlib.pyplot as plt\n",
    "import statsmodels.formula.api as smf\n",
    "from scipy import stats"
   ]
  },
  {
   "cell_type": "code",
   "execution_count": 2,
   "metadata": {},
   "outputs": [],
   "source": [
    "#===QUESTION 7==="
   ]
  },
  {
   "cell_type": "code",
   "execution_count": 3,
   "metadata": {},
   "outputs": [],
   "source": [
    "mall_survey = pd.read_csv('http://people.fas.harvard.edu/~mparzen/stat100/smallsurvey.csv')"
   ]
  },
  {
   "cell_type": "code",
   "execution_count": 4,
   "metadata": {},
   "outputs": [
    {
     "name": "stdout",
     "output_type": "stream",
     "text": [
      "Questions 7.a) and 7.b)\n",
      "Rows: 30\n",
      "Variables (columns): 10\n"
     ]
    }
   ],
   "source": [
    "print ('Questions 7.a) and 7.b)')\n",
    "print ('Rows:', mall_survey.shape[0])\n",
    "print ('Variables (columns):', mall_survey.shape[1])"
   ]
  },
  {
   "cell_type": "code",
   "execution_count": 22,
   "metadata": {},
   "outputs": [
    {
     "name": "stdout",
     "output_type": "stream",
     "text": [
      "Question 7.c)\n"
     ]
    },
    {
     "data": {
      "image/png": "[encoded data removed]",
      "text/plain": [
       "<Figure size 360x360 with 1 Axes>"
      ]
     },
     "metadata": {},
     "output_type": "display_data"
    }
   ],
   "source": [
    "print ('Question 7.c)')\n",
    "fig, ax = plt.subplots()\n",
    "mall_survey['residence'].value_counts().plot.pie(figsize = (5, 5), ax = ax)\n",
    "ax.yaxis.labelpad = 40"
   ]
  },
  {
   "cell_type": "code",
   "execution_count": 6,
   "metadata": {},
   "outputs": [
    {
     "data": {
      "text/plain": [
       "Urban       10\n",
       "Suburban    10\n",
       "Rural       10\n",
       "Name: residence, dtype: int64"
      ]
     },
     "execution_count": 6,
     "metadata": {},
     "output_type": "execute_result"
    }
   ],
   "source": [
    "mall_survey['residence'].value_counts()"
   ]
  },
  {
   "cell_type": "code",
   "execution_count": 7,
   "metadata": {},
   "outputs": [
    {
     "name": "stdout",
     "output_type": "stream",
     "text": [
      "Question 7.d)\n"
     ]
    },
    {
     "data": {
      "text/plain": [
       "Text(0.5,1,'Political affiliation')"
      ]
     },
     "execution_count": 7,
     "metadata": {},
     "output_type": "execute_result"
    },
    {
     "data": {
      "image/png": "[encoded data removed]",
      "text/plain": [
       "<Figure size 432x288 with 1 Axes>"
      ]
     },
     "metadata": {
      "needs_background": "light"
     },
     "output_type": "display_data"
    }
   ],
   "source": [
    "print ('Question 7.d)')\n",
    "fig, ax = plt.subplots()\n",
    "mall_survey['politicalparty'].value_counts().plot(kind = 'bar', ax = ax)\n",
    "ax.set_title('Political affiliation')"
   ]
  },
  {
   "cell_type": "code",
   "execution_count": 8,
   "metadata": {},
   "outputs": [
    {
     "data": {
      "text/plain": [
       "Republican     10\n",
       "Other           8\n",
       "Democrat        8\n",
       "Independent     4\n",
       "Name: politicalparty, dtype: int64"
      ]
     },
     "execution_count": 8,
     "metadata": {},
     "output_type": "execute_result"
    }
   ],
   "source": [
    "mall_survey['politicalparty'].value_counts()"
   ]
  },
  {
   "cell_type": "code",
   "execution_count": 9,
   "metadata": {},
   "outputs": [
    {
     "name": "stdout",
     "output_type": "stream",
     "text": [
      "Question 7.e)\n",
      "Mean income is $45.4.\n"
     ]
    }
   ],
   "source": [
    "print ('Question 7.e)')\n",
    "print ('Mean income is ${}.'.format(mall_survey['income'].mean()))"
   ]
  },
  {
   "cell_type": "code",
   "execution_count": 26,
   "metadata": {},
   "outputs": [
    {
     "name": "stdout",
     "output_type": "stream",
     "text": [
      "Question 7.f)\n",
      "Male mean income is $53.4 and has std 15.546244378811055\n",
      "Female mean income is $37.4 and has std 12.02259777015172\n"
     ]
    },
    {
     "data": {
      "text/html": [
       "<div>\n",
       "<style scoped>\n",
       "    .dataframe tbody tr th:only-of-type {\n",
       "        vertical-align: middle;\n",
       "    }\n",
       "\n",
       "    .dataframe tbody tr th {\n",
       "        vertical-align: top;\n",
       "    }\n",
       "\n",
       "    .dataframe thead tr th {\n",
       "        text-align: left;\n",
       "    }\n",
       "\n",
       "    .dataframe thead tr:last-of-type th {\n",
       "        text-align: right;\n",
       "    }\n",
       "</style>\n",
       "<table border=\"1\" class=\"dataframe\">\n",
       "  <thead>\n",
       "    <tr>\n",
       "      <th></th>\n",
       "      <th colspan=\"2\" halign=\"left\">income</th>\n",
       "    </tr>\n",
       "    <tr>\n",
       "      <th></th>\n",
       "      <th>mean</th>\n",
       "      <th>std</th>\n",
       "    </tr>\n",
       "    <tr>\n",
       "      <th>gender</th>\n",
       "      <th></th>\n",
       "      <th></th>\n",
       "    </tr>\n",
       "  </thead>\n",
       "  <tbody>\n",
       "    <tr>\n",
       "      <th>F</th>\n",
       "      <td>37.4</td>\n",
       "      <td>12.022598</td>\n",
       "    </tr>\n",
       "    <tr>\n",
       "      <th>M</th>\n",
       "      <td>53.4</td>\n",
       "      <td>15.546244</td>\n",
       "    </tr>\n",
       "  </tbody>\n",
       "</table>\n",
       "</div>"
      ],
      "text/plain": [
       "       income           \n",
       "         mean        std\n",
       "gender                  \n",
       "F        37.4  12.022598\n",
       "M        53.4  15.546244"
      ]
     },
     "execution_count": 26,
     "metadata": {},
     "output_type": "execute_result"
    }
   ],
   "source": [
    "print ('Question 7.f)')\n",
    "#Using method from class\n",
    "print ('Male mean income is ${} and has std {}'.format(mall_survey[mall_survey['gender'] == 'M']['income'].mean(), mall_survey[mall_survey['gender'] == 'M']['income'].std()))\n",
    "print ('Female mean income is ${} and has std {}'.format(mall_survey[mall_survey['gender'] == 'F']['income'].mean(), mall_survey[mall_survey['gender'] == 'F']['income'].std()))\n",
    "#To produce table for HW\n",
    "mall_survey.groupby('gender').agg({'income': ['mean', 'std']})"
   ]
  },
  {
   "cell_type": "code",
   "execution_count": 11,
   "metadata": {},
   "outputs": [
    {
     "name": "stdout",
     "output_type": "stream",
     "text": [
      "Question 7.g)\n",
      "Job happiness for someone with job satisfaction of 8 or greater: 37.25\n",
      "Job happiness for someone with job satisfaction of 3 or less: 51.416666666666664\n"
     ]
    }
   ],
   "source": [
    "print ('Question 7.g)')\n",
    "more_than_7 = mall_survey[mall_survey['jobhappy'] >= 8]['income'].mean()\n",
    "less_than_4 = mall_survey[mall_survey['jobhappy'] <= 3]['income'].mean()\n",
    "print ('Job happiness for someone with job satisfaction of 8 or greater: {}'.format(more_than_7))\n",
    "print ('Job happiness for someone with job satisfaction of 3 or less: {}'.format(less_than_4))"
   ]
  },
  {
   "cell_type": "code",
   "execution_count": 12,
   "metadata": {},
   "outputs": [],
   "source": [
    "#===QUESTION 8==="
   ]
  },
  {
   "cell_type": "code",
   "execution_count": 13,
   "metadata": {},
   "outputs": [],
   "source": [
    "cars_cr = pd.read_csv('http://people.fas.harvard.edu/~mparzen/stat100/cars10.csv')"
   ]
  },
  {
   "cell_type": "code",
   "execution_count": 14,
   "metadata": {},
   "outputs": [
    {
     "name": "stdout",
     "output_type": "stream",
     "text": [
      "Question 8.a)\n",
      "Mean car price is $6,165.26\n"
     ]
    }
   ],
   "source": [
    "print ('Question 8.a)')\n",
    "meanprice = cars_cr['price'].mean()\n",
    "print ('Mean car price is ${:,.2f}'.format(meanprice))"
   ]
  },
  {
   "cell_type": "code",
   "execution_count": 15,
   "metadata": {},
   "outputs": [
    {
     "name": "stdout",
     "output_type": "stream",
     "text": [
      "Question 8.b)\n",
      "Mean car price is $5,006.50\n"
     ]
    }
   ],
   "source": [
    "print ('Question 8.b)')\n",
    "medianprice = cars_cr['price'].median()\n",
    "print ('Mean car price is ${:,.2f}'.format(medianprice))"
   ]
  },
  {
   "cell_type": "code",
   "execution_count": 16,
   "metadata": {},
   "outputs": [
    {
     "name": "stdout",
     "output_type": "stream",
     "text": [
      "Question 8.c)\n"
     ]
    },
    {
     "data": {
      "text/plain": [
       "Text(0.5,0,'Car price')"
      ]
     },
     "execution_count": 16,
     "metadata": {},
     "output_type": "execute_result"
    },
    {
     "data": {
      "image/png": "[encoded data removed]",
      "text/plain": [
       "<Figure size 432x288 with 1 Axes>"
      ]
     },
     "metadata": {
      "needs_background": "light"
     },
     "output_type": "display_data"
    }
   ],
   "source": [
    "print ('Question 8.c)')\n",
    "fig, ax = plt.subplots()\n",
    "cars_cr['price'].hist()\n",
    "ax.set_title('Histogram of car price')\n",
    "ax.set_xlabel('Car price')"
   ]
  },
  {
   "cell_type": "code",
   "execution_count": 17,
   "metadata": {},
   "outputs": [
    {
     "name": "stdout",
     "output_type": "stream",
     "text": [
      "Question 8.d)\n"
     ]
    },
    {
     "data": {
      "text/html": [
       "<div>\n",
       "<style scoped>\n",
       "    .dataframe tbody tr th:only-of-type {\n",
       "        vertical-align: middle;\n",
       "    }\n",
       "\n",
       "    .dataframe tbody tr th {\n",
       "        vertical-align: top;\n",
       "    }\n",
       "\n",
       "    .dataframe thead th {\n",
       "        text-align: right;\n",
       "    }\n",
       "</style>\n",
       "<table border=\"1\" class=\"dataframe\">\n",
       "  <thead>\n",
       "    <tr style=\"text-align: right;\">\n",
       "      <th></th>\n",
       "      <th>price</th>\n",
       "    </tr>\n",
       "    <tr>\n",
       "      <th>foreign</th>\n",
       "      <th></th>\n",
       "    </tr>\n",
       "  </thead>\n",
       "  <tbody>\n",
       "    <tr>\n",
       "      <th>Domestic</th>\n",
       "      <td>6072.423077</td>\n",
       "    </tr>\n",
       "    <tr>\n",
       "      <th>Foreign</th>\n",
       "      <td>6384.681818</td>\n",
       "    </tr>\n",
       "  </tbody>\n",
       "</table>\n",
       "</div>"
      ],
      "text/plain": [
       "                price\n",
       "foreign              \n",
       "Domestic  6072.423077\n",
       "Foreign   6384.681818"
      ]
     },
     "execution_count": 17,
     "metadata": {},
     "output_type": "execute_result"
    }
   ],
   "source": [
    "print ('Question 8.d)')\n",
    "cars_cr.groupby('foreign').agg({'price': 'mean'})"
   ]
  },
  {
   "cell_type": "code",
   "execution_count": 18,
   "metadata": {},
   "outputs": [
    {
     "name": "stdout",
     "output_type": "stream",
     "text": [
      "Question 8.e)\n"
     ]
    },
    {
     "data": {
      "text/html": [
       "<div>\n",
       "<style scoped>\n",
       "    .dataframe tbody tr th:only-of-type {\n",
       "        vertical-align: middle;\n",
       "    }\n",
       "\n",
       "    .dataframe tbody tr th {\n",
       "        vertical-align: top;\n",
       "    }\n",
       "\n",
       "    .dataframe thead tr th {\n",
       "        text-align: left;\n",
       "    }\n",
       "\n",
       "    .dataframe thead tr:last-of-type th {\n",
       "        text-align: right;\n",
       "    }\n",
       "</style>\n",
       "<table border=\"1\" class=\"dataframe\">\n",
       "  <thead>\n",
       "    <tr>\n",
       "      <th></th>\n",
       "      <th colspan=\"6\" halign=\"left\">mpg</th>\n",
       "    </tr>\n",
       "    <tr>\n",
       "      <th></th>\n",
       "      <th>max</th>\n",
       "      <th>min</th>\n",
       "      <th>mean</th>\n",
       "      <th>median</th>\n",
       "      <th>std</th>\n",
       "      <th>count</th>\n",
       "    </tr>\n",
       "    <tr>\n",
       "      <th>foreign</th>\n",
       "      <th></th>\n",
       "      <th></th>\n",
       "      <th></th>\n",
       "      <th></th>\n",
       "      <th></th>\n",
       "      <th></th>\n",
       "    </tr>\n",
       "  </thead>\n",
       "  <tbody>\n",
       "    <tr>\n",
       "      <th>Domestic</th>\n",
       "      <td>34</td>\n",
       "      <td>12</td>\n",
       "      <td>19.826923</td>\n",
       "      <td>19.0</td>\n",
       "      <td>4.743297</td>\n",
       "      <td>52</td>\n",
       "    </tr>\n",
       "    <tr>\n",
       "      <th>Foreign</th>\n",
       "      <td>41</td>\n",
       "      <td>14</td>\n",
       "      <td>24.772727</td>\n",
       "      <td>24.5</td>\n",
       "      <td>6.611187</td>\n",
       "      <td>22</td>\n",
       "    </tr>\n",
       "  </tbody>\n",
       "</table>\n",
       "</div>"
      ],
      "text/plain": [
       "         mpg                                      \n",
       "         max min       mean median       std count\n",
       "foreign                                           \n",
       "Domestic  34  12  19.826923   19.0  4.743297    52\n",
       "Foreign   41  14  24.772727   24.5  6.611187    22"
      ]
     },
     "execution_count": 18,
     "metadata": {},
     "output_type": "execute_result"
    }
   ],
   "source": [
    "print ('Question 8.e)')\n",
    "cars_cr.groupby('foreign').agg({'mpg': ['max', 'min', 'mean', 'median', 'std', 'count']})"
   ]
  },
  {
   "cell_type": "code",
   "execution_count": 19,
   "metadata": {},
   "outputs": [
    {
     "data": {
      "text/plain": [
       "array([<matplotlib.axes._subplots.AxesSubplot object at 0x11745b4e0>,\n",
       "       <matplotlib.axes._subplots.AxesSubplot object at 0x11748b748>],\n",
       "      dtype=object)"
      ]
     },
     "execution_count": 19,
     "metadata": {},
     "output_type": "execute_result"
    },
    {
     "data": {
      "image/png": "[encoded data removed]",
      "text/plain": [
       "<Figure size 432x288 with 2 Axes>"
      ]
     },
     "metadata": {
      "needs_background": "light"
     },
     "output_type": "display_data"
    }
   ],
   "source": [
    "cars_cr.hist(column = 'mpg', by = 'foreign', sharex = True)"
   ]
  },
  {
   "cell_type": "code",
   "execution_count": 20,
   "metadata": {},
   "outputs": [
    {
     "name": "stdout",
     "output_type": "stream",
     "text": [
      "Question 8.f)\n"
     ]
    },
    {
     "data": {
      "text/plain": [
       "<matplotlib.axes._subplots.AxesSubplot at 0x11755e6d8>"
      ]
     },
     "execution_count": 20,
     "metadata": {},
     "output_type": "execute_result"
    },
    {
     "data": {
      "image/png": "[encoded data removed]",
      "text/plain": [
       "<Figure size 432x288 with 1 Axes>"
      ]
     },
     "metadata": {
      "needs_background": "light"
     },
     "output_type": "display_data"
    }
   ],
   "source": [
    "print ('Question 8.f)')\n",
    "cars_cr.plot.scatter(x = 'weight', y = 'length')"
   ]
  },
  {
   "cell_type": "code",
   "execution_count": 27,
   "metadata": {},
   "outputs": [],
   "source": [
    "#=== QUESTION 13 ==="
   ]
  },
  {
   "cell_type": "code",
   "execution_count": 30,
   "metadata": {},
   "outputs": [
    {
     "name": "stdout",
     "output_type": "stream",
     "text": [
      "Question 13.b)\n"
     ]
    },
    {
     "data": {
      "text/html": [
       "<div>\n",
       "<style scoped>\n",
       "    .dataframe tbody tr th:only-of-type {\n",
       "        vertical-align: middle;\n",
       "    }\n",
       "\n",
       "    .dataframe tbody tr th {\n",
       "        vertical-align: top;\n",
       "    }\n",
       "\n",
       "    .dataframe thead th {\n",
       "        text-align: right;\n",
       "    }\n",
       "</style>\n",
       "<table border=\"1\" class=\"dataframe\">\n",
       "  <thead>\n",
       "    <tr style=\"text-align: right;\">\n",
       "      <th></th>\n",
       "      <th>X</th>\n",
       "      <th>Y</th>\n",
       "    </tr>\n",
       "  </thead>\n",
       "  <tbody>\n",
       "    <tr>\n",
       "      <th>X</th>\n",
       "      <td>1.000000e+00</td>\n",
       "      <td>3.534593e-17</td>\n",
       "    </tr>\n",
       "    <tr>\n",
       "      <th>Y</th>\n",
       "      <td>3.534593e-17</td>\n",
       "      <td>1.000000e+00</td>\n",
       "    </tr>\n",
       "  </tbody>\n",
       "</table>\n",
       "</div>"
      ],
      "text/plain": [
       "              X             Y\n",
       "X  1.000000e+00  3.534593e-17\n",
       "Y  3.534593e-17  1.000000e+00"
      ]
     },
     "execution_count": 30,
     "metadata": {},
     "output_type": "execute_result"
    }
   ],
   "source": [
    "print ('Question 13.b)')\n",
    "blas = pd.read_csv('http://people.fas.harvard.edu/~mparzen/stat100/blas.csv')\n",
    "blas.corr()"
   ]
  },
  {
   "cell_type": "code",
   "execution_count": 33,
   "metadata": {},
   "outputs": [
    {
     "name": "stdout",
     "output_type": "stream",
     "text": [
      "Question 13.b)\n"
     ]
    },
    {
     "data": {
      "text/plain": [
       "<matplotlib.axes._subplots.AxesSubplot at 0x116537ac8>"
      ]
     },
     "execution_count": 33,
     "metadata": {},
     "output_type": "execute_result"
    },
    {
     "data": {
      "image/png": "[encoded data removed]",
      "text/plain": [
       "<Figure size 432x288 with 1 Axes>"
      ]
     },
     "metadata": {
      "needs_background": "light"
     },
     "output_type": "display_data"
    }
   ],
   "source": [
    "print ('Question 13.b)')\n",
    "blas.plot.scatter(x = 'X', y = 'Y')"
   ]
  },
  {
   "cell_type": "code",
   "execution_count": 34,
   "metadata": {},
   "outputs": [],
   "source": [
    "#=== QUESTION 15 ==="
   ]
  },
  {
   "cell_type": "code",
   "execution_count": 35,
   "metadata": {},
   "outputs": [],
   "source": [
    "monthlyreturns = pd.read_csv('/Users/jbachlombardo/Documents/Personal/HES - Stats 104/Homeworks/Homework datasets/hw1_returns/hw1_monthlyreturns.csv')"
   ]
  },
  {
   "cell_type": "code",
   "execution_count": 50,
   "metadata": {},
   "outputs": [
    {
     "name": "stdout",
     "output_type": "stream",
     "text": [
      "Question 15.b)\n",
      "V ~ SPY\n",
      " Intercept    0.00921\n",
      "SPY          0.89222\n",
      "dtype: float64 \n",
      "\n",
      "JNJ ~ SPY\n",
      " Intercept    0.005108\n",
      "SPY          0.615157\n",
      "dtype: float64 \n",
      "\n",
      "HD ~ SPY\n",
      " Intercept    0.002247\n",
      "SPY          1.137143\n",
      "dtype: float64\n"
     ]
    }
   ],
   "source": [
    "print ('Question 15.b)')\n",
    "reg_V_SPY = smf.ols('V ~ SPY', data = monthlyreturns).fit()\n",
    "reg_JNJ_SPY = smf.ols('JNJ ~ SPY', data = monthlyreturns).fit()\n",
    "reg_HD_SPY = smf.ols('HD ~ SPY', data = monthlyreturns).fit()\n",
    "print ('V ~ SPY\\n', reg_V_SPY.params, '\\n')\n",
    "print ('JNJ ~ SPY\\n', reg_JNJ_SPY.params, '\\n')\n",
    "print ('HD ~ SPY\\n', reg_HD_SPY.params)"
   ]
  },
  {
   "cell_type": "code",
   "execution_count": 51,
   "metadata": {},
   "outputs": [
    {
     "name": "stdout",
     "output_type": "stream",
     "text": [
      "Question 15.c)\n",
      "S - V: 0.04228078630710784\n",
      "S - JNJ: 0.04107081852757267\n",
      "S - HD: 0.05155322530518938\n"
     ]
    }
   ],
   "source": [
    "print ('Question 15.c)')\n",
    "print ('S - V:', monthlyreturns['V'].std())\n",
    "print ('S - JNJ:', monthlyreturns['JNJ'].std())\n",
    "print ('S - HD:', monthlyreturns['HD'].std())"
   ]
  },
  {
   "cell_type": "code",
   "execution_count": 58,
   "metadata": {},
   "outputs": [
    {
     "name": "stdout",
     "output_type": "stream",
     "text": [
      "Question 15.e)\n"
     ]
    },
    {
     "data": {
      "image/png": "[encoded data removed]",
      "text/plain": [
       "<Figure size 864x216 with 3 Axes>"
      ]
     },
     "metadata": {
      "needs_background": "light"
     },
     "output_type": "display_data"
    }
   ],
   "source": [
    "print ('Question 15.e)')\n",
    "fig, (ax1, ax2, ax3) = plt.subplots(ncols = 3, figsize = (12, 3))\n",
    "monthlyreturns['V'].hist(ax = ax1)\n",
    "ax1.set_title('V')\n",
    "monthlyreturns['JNJ'].hist(ax = ax2)\n",
    "ax2.set_title('JNJ')\n",
    "monthlyreturns['HD'].hist(ax = ax3)\n",
    "ax3.set_title('HD')\n",
    "plt.show()"
   ]
  },
  {
   "cell_type": "code",
   "execution_count": 67,
   "metadata": {},
   "outputs": [
    {
     "name": "stdout",
     "output_type": "stream",
     "text": [
      "Question 15.f)\n",
      "JNJ + HD: average return = 0.012911763317073168, standard deviation = 0.03638304269029814\n",
      "JNJ + V: average return = 0.015102135182926829, standard deviation = 0.03370790148755538\n",
      "V + HD: average return = 0.016422449597560975, standard deviation = 0.041063265622848656\n"
     ]
    }
   ],
   "source": [
    "print ('Question 15.f)')\n",
    "monthlyreturns['JNJHD'] = 0.5 * monthlyreturns['JNJ'] + 0.5 * monthlyreturns['HD']\n",
    "monthlyreturns['JNJV'] = 0.5 * monthlyreturns['JNJ'] + 0.5 * monthlyreturns['V']\n",
    "monthlyreturns['HDV'] = 0.5 * monthlyreturns['V'] + 0.5 * monthlyreturns['HD']\n",
    "print ('JNJ + HD: average return = {}, standard deviation = {}'.format(monthlyreturns['JNJHD'].mean(), monthlyreturns['JNJHD'].std()))\n",
    "print ('JNJ + V: average return = {}, standard deviation = {}'.format(monthlyreturns['JNJV'].mean(), monthlyreturns['JNJV'].std()))\n",
    "print ('V + HD: average return = {}, standard deviation = {}'.format(monthlyreturns['HDV'].mean(), monthlyreturns['HDV'].std()))"
   ]
  },
  {
   "cell_type": "code",
   "execution_count": 68,
   "metadata": {},
   "outputs": [],
   "source": [
    "#=== QUESTION 16 ==="
   ]
  },
  {
   "cell_type": "code",
   "execution_count": 69,
   "metadata": {},
   "outputs": [],
   "source": [
    "pizzasales = pd.read_csv('http://people.fas.harvard.edu/~mparzen/stat100/pizzasales1.csv')"
   ]
  },
  {
   "cell_type": "code",
   "execution_count": 78,
   "metadata": {},
   "outputs": [
    {
     "name": "stdout",
     "output_type": "stream",
     "text": [
      "Question 16.a)\n",
      "Intercept    141865.531400\n",
      "price        -24369.488336\n",
      "dtype: float64\n"
     ]
    }
   ],
   "source": [
    "print ('Question 16.a)')\n",
    "pizza_model = smf.ols('sales ~ price', data = pizzasales).fit()\n",
    "print (pizza_model.params)"
   ]
  },
  {
   "cell_type": "code",
   "execution_count": 79,
   "metadata": {},
   "outputs": [],
   "source": [
    "#=== QUESTION 17 ==="
   ]
  },
  {
   "cell_type": "code",
   "execution_count": 80,
   "metadata": {},
   "outputs": [],
   "source": [
    "movinglabor = pd.read_csv('http://people.fas.harvard.edu/~mparzen/stat100/moving.csv')"
   ]
  },
  {
   "cell_type": "code",
   "execution_count": 83,
   "metadata": {},
   "outputs": [
    {
     "name": "stdout",
     "output_type": "stream",
     "text": [
      "Question 17.a)\n"
     ]
    },
    {
     "data": {
      "text/plain": [
       "<matplotlib.axes._subplots.AxesSubplot at 0x1a1a9c41d0>"
      ]
     },
     "execution_count": 83,
     "metadata": {},
     "output_type": "execute_result"
    },
    {
     "data": {
      "image/png": "[encoded data removed]",
      "text/plain": [
       "<Figure size 432x288 with 1 Axes>"
      ]
     },
     "metadata": {
      "needs_background": "light"
     },
     "output_type": "display_data"
    }
   ],
   "source": [
    "print ('Question 17.a)')\n",
    "movinglabor.plot.scatter(x = 'feet', y = 'hours')"
   ]
  },
  {
   "cell_type": "code",
   "execution_count": 84,
   "metadata": {},
   "outputs": [
    {
     "name": "stdout",
     "output_type": "stream",
     "text": [
      "Question 17.b)\n"
     ]
    },
    {
     "data": {
      "text/plain": [
       "Intercept   -2.36966\n",
       "feet         0.05008\n",
       "dtype: float64"
      ]
     },
     "execution_count": 84,
     "metadata": {},
     "output_type": "execute_result"
    }
   ],
   "source": [
    "print ('Question 17.b)')\n",
    "moving_model = smf.ols('hours ~ feet', data = movinglabor).fit()\n",
    "moving_model.params"
   ]
  },
  {
   "cell_type": "code",
   "execution_count": 85,
   "metadata": {},
   "outputs": [],
   "source": [
    "#=== QUESTION 18 ==="
   ]
  },
  {
   "cell_type": "code",
   "execution_count": 86,
   "metadata": {},
   "outputs": [],
   "source": [
    "missingness = pd.read_csv('/Users/jbachlombardo/Documents/Personal/HES - Stats 104/Homeworks/Homework datasets/missing1.csv')"
   ]
  },
  {
   "cell_type": "code",
   "execution_count": 92,
   "metadata": {},
   "outputs": [],
   "source": [
    "#alcohol\n",
    "alcohol_missing = missingness['Heart.Health'][pd.isnull(missingness['Alcohol'])]\n",
    "alcohol_not_missing = missingness['Heart.Health'][~pd.isnull(missingness['Alcohol'])]\n",
    "#exercise\n",
    "exercise_missing = missingness['Heart.Health'][pd.isnull(missingness['Exercise'])]\n",
    "exercise_not_missing = missingness['Heart.Health'][~pd.isnull(missingness['Exercise'])]\n",
    "#smoking\n",
    "smoking_missing = missingness['Heart.Health'][pd.isnull(missingness['Smoke'])]\n",
    "smoking_not_missing = missingness['Heart.Health'][~pd.isnull(missingness['Smoke'])]"
   ]
  },
  {
   "cell_type": "code",
   "execution_count": 98,
   "metadata": {},
   "outputs": [],
   "source": [
    "table_data = {\n",
    "    'Alcohol - Missing': [alcohol_missing.mean(), alcohol_missing.median(), alcohol_missing.std()],\n",
    "    'Alcohol - Not missing': [alcohol_not_missing.mean(), alcohol_not_missing.median(), alcohol_not_missing.std()],\n",
    "    'Exercise - Missing': [exercise_missing.mean(), exercise_missing.median(), exercise_missing.std()],\n",
    "    'Exercise - Not missing': [exercise_not_missing.mean(), exercise_not_missing.median(), exercise_not_missing.std()],\n",
    "    'Smoking - Missing': [smoking_missing.mean(), smoking_missing.median(), smoking_missing.std()],\n",
    "    'Smoking - Not missing': [smoking_not_missing.mean(), smoking_not_missing.median(), smoking_not_missing.std()],\n",
    "}"
   ]
  },
  {
   "cell_type": "code",
   "execution_count": 105,
   "metadata": {},
   "outputs": [
    {
     "data": {
      "text/html": [
       "<div>\n",
       "<style scoped>\n",
       "    .dataframe tbody tr th:only-of-type {\n",
       "        vertical-align: middle;\n",
       "    }\n",
       "\n",
       "    .dataframe tbody tr th {\n",
       "        vertical-align: top;\n",
       "    }\n",
       "\n",
       "    .dataframe thead th {\n",
       "        text-align: right;\n",
       "    }\n",
       "</style>\n",
       "<table border=\"1\" class=\"dataframe\">\n",
       "  <thead>\n",
       "    <tr style=\"text-align: right;\">\n",
       "      <th></th>\n",
       "      <th>Mean</th>\n",
       "      <th>Median</th>\n",
       "      <th>Standard deviation</th>\n",
       "    </tr>\n",
       "  </thead>\n",
       "  <tbody>\n",
       "    <tr>\n",
       "      <th>Alcohol - Missing</th>\n",
       "      <td>47.788732</td>\n",
       "      <td>46.0</td>\n",
       "      <td>18.931392</td>\n",
       "    </tr>\n",
       "    <tr>\n",
       "      <th>Alcohol - Not missing</th>\n",
       "      <td>46.124865</td>\n",
       "      <td>45.0</td>\n",
       "      <td>20.596428</td>\n",
       "    </tr>\n",
       "    <tr>\n",
       "      <th>Exercise - Missing</th>\n",
       "      <td>53.035088</td>\n",
       "      <td>49.0</td>\n",
       "      <td>19.757426</td>\n",
       "    </tr>\n",
       "    <tr>\n",
       "      <th>Exercise - Not missing</th>\n",
       "      <td>45.832450</td>\n",
       "      <td>44.0</td>\n",
       "      <td>20.458947</td>\n",
       "    </tr>\n",
       "    <tr>\n",
       "      <th>Smoking - Missing</th>\n",
       "      <td>54.313131</td>\n",
       "      <td>53.0</td>\n",
       "      <td>20.511145</td>\n",
       "    </tr>\n",
       "    <tr>\n",
       "      <th>Smoking - Not missing</th>\n",
       "      <td>45.356271</td>\n",
       "      <td>44.0</td>\n",
       "      <td>20.291066</td>\n",
       "    </tr>\n",
       "  </tbody>\n",
       "</table>\n",
       "</div>"
      ],
      "text/plain": [
       "                             Mean  Median  Standard deviation\n",
       "Alcohol - Missing       47.788732    46.0           18.931392\n",
       "Alcohol - Not missing   46.124865    45.0           20.596428\n",
       "Exercise - Missing      53.035088    49.0           19.757426\n",
       "Exercise - Not missing  45.832450    44.0           20.458947\n",
       "Smoking - Missing       54.313131    53.0           20.511145\n",
       "Smoking - Not missing   45.356271    44.0           20.291066"
      ]
     },
     "execution_count": 105,
     "metadata": {},
     "output_type": "execute_result"
    }
   ],
   "source": [
    "table = pd.DataFrame.from_dict(data = table_data, orient = 'index', columns = ['Mean', 'Median', 'Standard deviation'])\n",
    "table"
   ]
  },
  {
   "cell_type": "code",
   "execution_count": 118,
   "metadata": {},
   "outputs": [
    {
     "data": {
      "image/png": "[encoded data removed]",
      "text/plain": [
       "<Figure size 432x720 with 6 Axes>"
      ]
     },
     "metadata": {
      "needs_background": "light"
     },
     "output_type": "display_data"
    }
   ],
   "source": [
    "fig, ((ax1, ax2), (ax3, ax4), (ax5, ax6)) = plt.subplots(nrows = 3, ncols = 2, figsize = (6, 10))\n",
    "ax1.hist(alcohol_missing, range = [0, 100])\n",
    "ax1.set_title('Alcohol - missing')\n",
    "ax2.hist(alcohol_not_missing, range = [0, 100])\n",
    "ax2.set_title('Alcohol - not missing')\n",
    "ax3.hist(exercise_missing, range = [0, 100])\n",
    "ax3.set_title('Exercise - missing')\n",
    "ax4.hist(exercise_not_missing, range = [0, 100])\n",
    "ax4.set_title('Exercise - not missing')\n",
    "ax5.hist(smoking_missing, range = [0, 100])\n",
    "ax5.set_title('smoking - missing')\n",
    "ax6.hist(smoking_not_missing, range = [0, 100])\n",
    "ax6.set_title('smoking - not missing')\n",
    "plt.tight_layout()\n",
    "plt.show()"
   ]
  },
  {
   "cell_type": "code",
   "execution_count": null,
   "metadata": {},
   "outputs": [],
   "source": []
  }
 ],
 "metadata": {
  "kernelspec": {
   "display_name": "Python 3",
   "language": "python",
   "name": "python3"
  },
  "language_info": {
   "codemirror_mode": {
    "name": "ipython",
    "version": 3
   },
   "file_extension": ".py",
   "mimetype": "text/x-python",
   "name": "python",
   "nbconvert_exporter": "python",
   "pygments_lexer": "ipython3",
   "version": "3.6.6"
  }
 },
 "nbformat": 4,
 "nbformat_minor": 2
}

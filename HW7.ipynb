{
 "cells": [
  {
   "cell_type": "code",
   "execution_count": 143,
   "metadata": {},
   "outputs": [],
   "source": [
    "from scipy import stats\n",
    "import numpy as np\n",
    "import pandas as pd\n",
    "import matplotlib.pyplot as plt\n",
    "import matplotlib as mpl\n",
    "import statsmodels.formula.api as smf\n",
    "import statsmodels.api as sm\n",
    "from statsmodels.nonparametric.smoothers_lowess import lowess\n",
    "from statsmodels.stats.outliers_influence import OLSInfluence\n",
    "from statsmodels.stats.diagnostic import het_breuschpagan\n",
    "import seaborn as sns"
   ]
  },
  {
   "cell_type": "code",
   "execution_count": 2,
   "metadata": {},
   "outputs": [],
   "source": [
    "data_fpath = '/Users/jbachlombardo/Documents/Personal/HES - Stats 104/Homeworks/HW7/Data/'"
   ]
  },
  {
   "cell_type": "markdown",
   "metadata": {},
   "source": [
    "<b><font size=4>Question 1</font></b>"
   ]
  },
  {
   "cell_type": "code",
   "execution_count": 51,
   "metadata": {},
   "outputs": [],
   "source": [
    "people = np.array([2,3,7,9,10,10,12,15,16,20])\n",
    "sales = np.array([10,11,13,14,18,20,20,22,22,26])\n",
    "df = pd.DataFrame(data = {'People': people, 'Sales': sales})"
   ]
  },
  {
   "cell_type": "code",
   "execution_count": 52,
   "metadata": {},
   "outputs": [
    {
     "name": "stdout",
     "output_type": "stream",
     "text": [
      "c)\n"
     ]
    },
    {
     "data": {
      "text/plain": [
       "1.4770119315056516"
      ]
     },
     "execution_count": 52,
     "metadata": {},
     "output_type": "execute_result"
    }
   ],
   "source": [
    "print ('c)')\n",
    "lm = smf.ols('Sales ~ People', data = df).fit()\n",
    "rse = np.sqrt(lm.scale)\n",
    "rse"
   ]
  },
  {
   "cell_type": "code",
   "execution_count": 53,
   "metadata": {},
   "outputs": [
    {
     "name": "stdout",
     "output_type": "stream",
     "text": [
      "d)\n"
     ]
    },
    {
     "data": {
      "image/png": "[encoded data removed]",
      "text/plain": [
       "<Figure size 432x288 with 1 Axes>"
      ]
     },
     "metadata": {
      "needs_background": "light"
     },
     "output_type": "display_data"
    }
   ],
   "source": [
    "print ('d)')\n",
    "e = lm.resid\n",
    "yhat = lm.fittedvalues\n",
    "sres = lm.get_influence().resid_studentized_internal\n",
    "fig, ax = plt.subplots()\n",
    "sns.residplot(yhat, sres, lowess = True, ax = ax)\n",
    "ax.set_xlabel('yhat')\n",
    "ax.set_ylabel('sres')\n",
    "plt.show()"
   ]
  },
  {
   "cell_type": "markdown",
   "metadata": {},
   "source": [
    "<b><font size=4>Question 2</font></b>"
   ]
  },
  {
   "cell_type": "code",
   "execution_count": 54,
   "metadata": {},
   "outputs": [],
   "source": [
    "x=np.array([-4,-2,1,3,-1,-5,4,2,0,-3,5])\n",
    "y=np.array([16,4,1,9,1,25,16,4,0,9,25])"
   ]
  },
  {
   "cell_type": "code",
   "execution_count": 55,
   "metadata": {},
   "outputs": [
    {
     "name": "stdout",
     "output_type": "stream",
     "text": [
      "a)\n"
     ]
    },
    {
     "data": {
      "image/png": "[encoded data removed]",
      "text/plain": [
       "<Figure size 432x288 with 1 Axes>"
      ]
     },
     "metadata": {
      "needs_background": "light"
     },
     "output_type": "display_data"
    }
   ],
   "source": [
    "print ('a)')\n",
    "fig, ax = plt.subplots()\n",
    "ax.scatter(x, y)\n",
    "plt.show()"
   ]
  },
  {
   "cell_type": "code",
   "execution_count": 56,
   "metadata": {},
   "outputs": [
    {
     "name": "stdout",
     "output_type": "stream",
     "text": [
      "b) and c)\n"
     ]
    },
    {
     "name": "stderr",
     "output_type": "stream",
     "text": [
      "/anaconda/lib/python3.6/site-packages/scipy/stats/stats.py:1416: UserWarning: kurtosistest only valid for n>=20 ... continuing anyway, n=11\n",
      "  \"anyway, n=%i\" % int(n))\n"
     ]
    },
    {
     "data": {
      "text/html": [
       "<table class=\"simpletable\">\n",
       "<caption>OLS Regression Results</caption>\n",
       "<tr>\n",
       "  <th>Dep. Variable:</th>            <td>y</td>        <th>  R-squared:         </th> <td>   0.000</td>\n",
       "</tr>\n",
       "<tr>\n",
       "  <th>Model:</th>                   <td>OLS</td>       <th>  Adj. R-squared:    </th> <td>  -0.111</td>\n",
       "</tr>\n",
       "<tr>\n",
       "  <th>Method:</th>             <td>Least Squares</td>  <th>  F-statistic:       </th> <td>   0.000</td>\n",
       "</tr>\n",
       "<tr>\n",
       "  <th>Date:</th>             <td>Sat, 20 Apr 2019</td> <th>  Prob (F-statistic):</th>  <td>  1.00</td> \n",
       "</tr>\n",
       "<tr>\n",
       "  <th>Time:</th>                 <td>12:43:55</td>     <th>  Log-Likelihood:    </th> <td> -39.570</td>\n",
       "</tr>\n",
       "<tr>\n",
       "  <th>No. Observations:</th>      <td>    11</td>      <th>  AIC:               </th> <td>   83.14</td>\n",
       "</tr>\n",
       "<tr>\n",
       "  <th>Df Residuals:</th>          <td>     9</td>      <th>  BIC:               </th> <td>   83.94</td>\n",
       "</tr>\n",
       "<tr>\n",
       "  <th>Df Model:</th>              <td>     1</td>      <th>                     </th>     <td> </td>   \n",
       "</tr>\n",
       "<tr>\n",
       "  <th>Covariance Type:</th>      <td>nonrobust</td>    <th>                     </th>     <td> </td>   \n",
       "</tr>\n",
       "</table>\n",
       "<table class=\"simpletable\">\n",
       "<tr>\n",
       "    <td></td>       <th>coef</th>     <th>std err</th>      <th>t</th>      <th>P>|t|</th>  <th>[0.025</th>    <th>0.975]</th>  \n",
       "</tr>\n",
       "<tr>\n",
       "  <th>const</th> <td>   10.0000</td> <td>    2.944</td> <td>    3.397</td> <td> 0.008</td> <td>    3.340</td> <td>   16.660</td>\n",
       "</tr>\n",
       "<tr>\n",
       "  <th>x1</th>    <td>-4.441e-16</td> <td>    0.931</td> <td>-4.77e-16</td> <td> 1.000</td> <td>   -2.106</td> <td>    2.106</td>\n",
       "</tr>\n",
       "</table>\n",
       "<table class=\"simpletable\">\n",
       "<tr>\n",
       "  <th>Omnibus:</th>       <td> 1.593</td> <th>  Durbin-Watson:     </th> <td>   1.672</td>\n",
       "</tr>\n",
       "<tr>\n",
       "  <th>Prob(Omnibus):</th> <td> 0.451</td> <th>  Jarque-Bera (JB):  </th> <td>   1.107</td>\n",
       "</tr>\n",
       "<tr>\n",
       "  <th>Skew:</th>          <td> 0.566</td> <th>  Prob(JB):          </th> <td>   0.575</td>\n",
       "</tr>\n",
       "<tr>\n",
       "  <th>Kurtosis:</th>      <td> 1.936</td> <th>  Cond. No.          </th> <td>    3.16</td>\n",
       "</tr>\n",
       "</table><br/><br/>Warnings:<br/>[1] Standard Errors assume that the covariance matrix of the errors is correctly specified."
      ],
      "text/plain": [
       "<class 'statsmodels.iolib.summary.Summary'>\n",
       "\"\"\"\n",
       "                            OLS Regression Results                            \n",
       "==============================================================================\n",
       "Dep. Variable:                      y   R-squared:                       0.000\n",
       "Model:                            OLS   Adj. R-squared:                 -0.111\n",
       "Method:                 Least Squares   F-statistic:                     0.000\n",
       "Date:                Sat, 20 Apr 2019   Prob (F-statistic):               1.00\n",
       "Time:                        12:43:55   Log-Likelihood:                -39.570\n",
       "No. Observations:                  11   AIC:                             83.14\n",
       "Df Residuals:                       9   BIC:                             83.94\n",
       "Df Model:                           1                                         \n",
       "Covariance Type:            nonrobust                                         \n",
       "==============================================================================\n",
       "                 coef    std err          t      P>|t|      [0.025      0.975]\n",
       "------------------------------------------------------------------------------\n",
       "const         10.0000      2.944      3.397      0.008       3.340      16.660\n",
       "x1         -4.441e-16      0.931  -4.77e-16      1.000      -2.106       2.106\n",
       "==============================================================================\n",
       "Omnibus:                        1.593   Durbin-Watson:                   1.672\n",
       "Prob(Omnibus):                  0.451   Jarque-Bera (JB):                1.107\n",
       "Skew:                           0.566   Prob(JB):                        0.575\n",
       "Kurtosis:                       1.936   Cond. No.                         3.16\n",
       "==============================================================================\n",
       "\n",
       "Warnings:\n",
       "[1] Standard Errors assume that the covariance matrix of the errors is correctly specified.\n",
       "\"\"\""
      ]
     },
     "execution_count": 56,
     "metadata": {},
     "output_type": "execute_result"
    }
   ],
   "source": [
    "print ('b) and c)')\n",
    "lm = sm.OLS(y, sm.add_constant(x)).fit()\n",
    "lm.summary()"
   ]
  },
  {
   "cell_type": "code",
   "execution_count": 57,
   "metadata": {},
   "outputs": [
    {
     "name": "stdout",
     "output_type": "stream",
     "text": [
      "e)\n"
     ]
    },
    {
     "data": {
      "image/png": "[encoded data removed]",
      "text/plain": [
       "<Figure size 432x288 with 1 Axes>"
      ]
     },
     "metadata": {
      "needs_background": "light"
     },
     "output_type": "display_data"
    }
   ],
   "source": [
    "print ('e)')\n",
    "yhat = lm.fittedvalues\n",
    "sres = lm.get_influence().resid_studentized_internal\n",
    "fig, ax = plt.subplots()\n",
    "sns.residplot(yhat, sres, lowess = True, ax = ax)\n",
    "ax.set_xlabel('yhat')\n",
    "ax.set_ylabel('sres')\n",
    "plt.show()"
   ]
  },
  {
   "cell_type": "markdown",
   "metadata": {},
   "source": [
    "<b><font size=4>Question 3</font></b>"
   ]
  },
  {
   "cell_type": "code",
   "execution_count": 58,
   "metadata": {},
   "outputs": [],
   "source": [
    "df = pd.read_csv(data_fpath + 'tire.csv')"
   ]
  },
  {
   "cell_type": "code",
   "execution_count": 61,
   "metadata": {},
   "outputs": [
    {
     "name": "stdout",
     "output_type": "stream",
     "text": [
      "a)\n",
      "RSE: 3.9097558077443257\n"
     ]
    },
    {
     "name": "stderr",
     "output_type": "stream",
     "text": [
      "/anaconda/lib/python3.6/site-packages/scipy/stats/stats.py:1416: UserWarning: kurtosistest only valid for n>=20 ... continuing anyway, n=14\n",
      "  \"anyway, n=%i\" % int(n))\n"
     ]
    },
    {
     "data": {
      "text/html": [
       "<table class=\"simpletable\">\n",
       "<caption>OLS Regression Results</caption>\n",
       "<tr>\n",
       "  <th>Dep. Variable:</th>         <td>mileage</td>     <th>  R-squared:         </th> <td>   0.013</td>\n",
       "</tr>\n",
       "<tr>\n",
       "  <th>Model:</th>                   <td>OLS</td>       <th>  Adj. R-squared:    </th> <td>  -0.069</td>\n",
       "</tr>\n",
       "<tr>\n",
       "  <th>Method:</th>             <td>Least Squares</td>  <th>  F-statistic:       </th> <td>  0.1572</td>\n",
       "</tr>\n",
       "<tr>\n",
       "  <th>Date:</th>             <td>Sat, 20 Apr 2019</td> <th>  Prob (F-statistic):</th>  <td> 0.699</td> \n",
       "</tr>\n",
       "<tr>\n",
       "  <th>Time:</th>                 <td>12:46:37</td>     <th>  Log-Likelihood:    </th> <td> -37.875</td>\n",
       "</tr>\n",
       "<tr>\n",
       "  <th>No. Observations:</th>      <td>    14</td>      <th>  AIC:               </th> <td>   79.75</td>\n",
       "</tr>\n",
       "<tr>\n",
       "  <th>Df Residuals:</th>          <td>    12</td>      <th>  BIC:               </th> <td>   81.03</td>\n",
       "</tr>\n",
       "<tr>\n",
       "  <th>Df Model:</th>              <td>     1</td>      <th>                     </th>     <td> </td>   \n",
       "</tr>\n",
       "<tr>\n",
       "  <th>Covariance Type:</th>      <td>nonrobust</td>    <th>                     </th>     <td> </td>   \n",
       "</tr>\n",
       "</table>\n",
       "<table class=\"simpletable\">\n",
       "<tr>\n",
       "      <td></td>         <th>coef</th>     <th>std err</th>      <th>t</th>      <th>P>|t|</th>  <th>[0.025</th>    <th>0.975]</th>  \n",
       "</tr>\n",
       "<tr>\n",
       "  <th>Intercept</th> <td>   40.3500</td> <td>   17.273</td> <td>    2.336</td> <td> 0.038</td> <td>    2.716</td> <td>   77.984</td>\n",
       "</tr>\n",
       "<tr>\n",
       "  <th>psi</th>       <td>   -0.2071</td> <td>    0.522</td> <td>   -0.396</td> <td> 0.699</td> <td>   -1.345</td> <td>    0.931</td>\n",
       "</tr>\n",
       "</table>\n",
       "<table class=\"simpletable\">\n",
       "<tr>\n",
       "  <th>Omnibus:</th>       <td> 2.415</td> <th>  Durbin-Watson:     </th> <td>   0.484</td>\n",
       "</tr>\n",
       "<tr>\n",
       "  <th>Prob(Omnibus):</th> <td> 0.299</td> <th>  Jarque-Bera (JB):  </th> <td>   1.247</td>\n",
       "</tr>\n",
       "<tr>\n",
       "  <th>Skew:</th>          <td>-0.392</td> <th>  Prob(JB):          </th> <td>   0.536</td>\n",
       "</tr>\n",
       "<tr>\n",
       "  <th>Kurtosis:</th>      <td> 1.766</td> <th>  Cond. No.          </th> <td>    547.</td>\n",
       "</tr>\n",
       "</table><br/><br/>Warnings:<br/>[1] Standard Errors assume that the covariance matrix of the errors is correctly specified."
      ],
      "text/plain": [
       "<class 'statsmodels.iolib.summary.Summary'>\n",
       "\"\"\"\n",
       "                            OLS Regression Results                            \n",
       "==============================================================================\n",
       "Dep. Variable:                mileage   R-squared:                       0.013\n",
       "Model:                            OLS   Adj. R-squared:                 -0.069\n",
       "Method:                 Least Squares   F-statistic:                    0.1572\n",
       "Date:                Sat, 20 Apr 2019   Prob (F-statistic):              0.699\n",
       "Time:                        12:46:37   Log-Likelihood:                -37.875\n",
       "No. Observations:                  14   AIC:                             79.75\n",
       "Df Residuals:                      12   BIC:                             81.03\n",
       "Df Model:                           1                                         \n",
       "Covariance Type:            nonrobust                                         \n",
       "==============================================================================\n",
       "                 coef    std err          t      P>|t|      [0.025      0.975]\n",
       "------------------------------------------------------------------------------\n",
       "Intercept     40.3500     17.273      2.336      0.038       2.716      77.984\n",
       "psi           -0.2071      0.522     -0.396      0.699      -1.345       0.931\n",
       "==============================================================================\n",
       "Omnibus:                        2.415   Durbin-Watson:                   0.484\n",
       "Prob(Omnibus):                  0.299   Jarque-Bera (JB):                1.247\n",
       "Skew:                          -0.392   Prob(JB):                        0.536\n",
       "Kurtosis:                       1.766   Cond. No.                         547.\n",
       "==============================================================================\n",
       "\n",
       "Warnings:\n",
       "[1] Standard Errors assume that the covariance matrix of the errors is correctly specified.\n",
       "\"\"\""
      ]
     },
     "execution_count": 61,
     "metadata": {},
     "output_type": "execute_result"
    }
   ],
   "source": [
    "print ('a)')\n",
    "lm = smf.ols('mileage ~ psi', data = df).fit()\n",
    "print ('RSE:', np.sqrt(lm.scale))\n",
    "lm.summary()"
   ]
  },
  {
   "cell_type": "code",
   "execution_count": 60,
   "metadata": {},
   "outputs": [
    {
     "name": "stdout",
     "output_type": "stream",
     "text": [
      "b)\n"
     ]
    },
    {
     "data": {
      "image/png": "[encoded data removed]",
      "text/plain": [
       "<Figure size 432x288 with 1 Axes>"
      ]
     },
     "metadata": {
      "needs_background": "light"
     },
     "output_type": "display_data"
    }
   ],
   "source": [
    "print ('b)')\n",
    "yhat = lm.fittedvalues\n",
    "sres = lm.get_influence().resid_studentized_internal\n",
    "fig, ax = plt.subplots()\n",
    "sns.residplot(yhat, sres, lowess = True, ax = ax)\n",
    "ax.set_xlabel('yhat')\n",
    "ax.set_ylabel('sres')\n",
    "plt.show()"
   ]
  },
  {
   "cell_type": "code",
   "execution_count": 62,
   "metadata": {},
   "outputs": [
    {
     "name": "stdout",
     "output_type": "stream",
     "text": [
      "c)\n",
      "RSE: 1.1048789869291673\n"
     ]
    },
    {
     "name": "stderr",
     "output_type": "stream",
     "text": [
      "/anaconda/lib/python3.6/site-packages/scipy/stats/stats.py:1416: UserWarning: kurtosistest only valid for n>=20 ... continuing anyway, n=14\n",
      "  \"anyway, n=%i\" % int(n))\n"
     ]
    },
    {
     "data": {
      "text/html": [
       "<table class=\"simpletable\">\n",
       "<caption>OLS Regression Results</caption>\n",
       "<tr>\n",
       "  <th>Dep. Variable:</th>         <td>mileage</td>     <th>  R-squared:         </th> <td>   0.928</td>\n",
       "</tr>\n",
       "<tr>\n",
       "  <th>Model:</th>                   <td>OLS</td>       <th>  Adj. R-squared:    </th> <td>   0.915</td>\n",
       "</tr>\n",
       "<tr>\n",
       "  <th>Method:</th>             <td>Least Squares</td>  <th>  F-statistic:       </th> <td>   70.62</td>\n",
       "</tr>\n",
       "<tr>\n",
       "  <th>Date:</th>             <td>Sat, 20 Apr 2019</td> <th>  Prob (F-statistic):</th> <td>5.30e-07</td>\n",
       "</tr>\n",
       "<tr>\n",
       "  <th>Time:</th>                 <td>12:47:06</td>     <th>  Log-Likelihood:    </th> <td> -19.573</td>\n",
       "</tr>\n",
       "<tr>\n",
       "  <th>No. Observations:</th>      <td>    14</td>      <th>  AIC:               </th> <td>   45.15</td>\n",
       "</tr>\n",
       "<tr>\n",
       "  <th>Df Residuals:</th>          <td>    11</td>      <th>  BIC:               </th> <td>   47.06</td>\n",
       "</tr>\n",
       "<tr>\n",
       "  <th>Df Model:</th>              <td>     2</td>      <th>                     </th>     <td> </td>   \n",
       "</tr>\n",
       "<tr>\n",
       "  <th>Covariance Type:</th>      <td>nonrobust</td>    <th>                     </th>     <td> </td>   \n",
       "</tr>\n",
       "</table>\n",
       "<table class=\"simpletable\">\n",
       "<tr>\n",
       "          <td></td>            <th>coef</th>     <th>std err</th>      <th>t</th>      <th>P>|t|</th>  <th>[0.025</th>    <th>0.975]</th>  \n",
       "</tr>\n",
       "<tr>\n",
       "  <th>Intercept</th>        <td>-1051.1083</td> <td>   92.618</td> <td>  -11.349</td> <td> 0.000</td> <td>-1254.958</td> <td> -847.258</td>\n",
       "</tr>\n",
       "<tr>\n",
       "  <th>psi</th>              <td>   66.1857</td> <td>    5.628</td> <td>   11.760</td> <td> 0.000</td> <td>   53.799</td> <td>   78.573</td>\n",
       "</tr>\n",
       "<tr>\n",
       "  <th>np.power(psi, 2)</th> <td>   -1.0060</td> <td>    0.085</td> <td>  -11.801</td> <td> 0.000</td> <td>   -1.194</td> <td>   -0.818</td>\n",
       "</tr>\n",
       "</table>\n",
       "<table class=\"simpletable\">\n",
       "<tr>\n",
       "  <th>Omnibus:</th>       <td> 1.181</td> <th>  Durbin-Watson:     </th> <td>   2.520</td>\n",
       "</tr>\n",
       "<tr>\n",
       "  <th>Prob(Omnibus):</th> <td> 0.554</td> <th>  Jarque-Bera (JB):  </th> <td>   0.995</td>\n",
       "</tr>\n",
       "<tr>\n",
       "  <th>Skew:</th>          <td>-0.522</td> <th>  Prob(JB):          </th> <td>   0.608</td>\n",
       "</tr>\n",
       "<tr>\n",
       "  <th>Kurtosis:</th>      <td> 2.217</td> <th>  Cond. No.          </th> <td>3.46e+05</td>\n",
       "</tr>\n",
       "</table><br/><br/>Warnings:<br/>[1] Standard Errors assume that the covariance matrix of the errors is correctly specified.<br/>[2] The condition number is large, 3.46e+05. This might indicate that there are<br/>strong multicollinearity or other numerical problems."
      ],
      "text/plain": [
       "<class 'statsmodels.iolib.summary.Summary'>\n",
       "\"\"\"\n",
       "                            OLS Regression Results                            \n",
       "==============================================================================\n",
       "Dep. Variable:                mileage   R-squared:                       0.928\n",
       "Model:                            OLS   Adj. R-squared:                  0.915\n",
       "Method:                 Least Squares   F-statistic:                     70.62\n",
       "Date:                Sat, 20 Apr 2019   Prob (F-statistic):           5.30e-07\n",
       "Time:                        12:47:06   Log-Likelihood:                -19.573\n",
       "No. Observations:                  14   AIC:                             45.15\n",
       "Df Residuals:                      11   BIC:                             47.06\n",
       "Df Model:                           2                                         \n",
       "Covariance Type:            nonrobust                                         \n",
       "====================================================================================\n",
       "                       coef    std err          t      P>|t|      [0.025      0.975]\n",
       "------------------------------------------------------------------------------------\n",
       "Intercept        -1051.1083     92.618    -11.349      0.000   -1254.958    -847.258\n",
       "psi                 66.1857      5.628     11.760      0.000      53.799      78.573\n",
       "np.power(psi, 2)    -1.0060      0.085    -11.801      0.000      -1.194      -0.818\n",
       "==============================================================================\n",
       "Omnibus:                        1.181   Durbin-Watson:                   2.520\n",
       "Prob(Omnibus):                  0.554   Jarque-Bera (JB):                0.995\n",
       "Skew:                          -0.522   Prob(JB):                        0.608\n",
       "Kurtosis:                       2.217   Cond. No.                     3.46e+05\n",
       "==============================================================================\n",
       "\n",
       "Warnings:\n",
       "[1] Standard Errors assume that the covariance matrix of the errors is correctly specified.\n",
       "[2] The condition number is large, 3.46e+05. This might indicate that there are\n",
       "strong multicollinearity or other numerical problems.\n",
       "\"\"\""
      ]
     },
     "execution_count": 62,
     "metadata": {},
     "output_type": "execute_result"
    }
   ],
   "source": [
    "print ('c)')\n",
    "lm2 = smf.ols('mileage ~ psi + np.power(psi, 2)', data = df).fit()\n",
    "print ('RSE:', np.sqrt(lm2.scale))\n",
    "lm2.summary()"
   ]
  },
  {
   "cell_type": "code",
   "execution_count": 63,
   "metadata": {},
   "outputs": [
    {
     "name": "stdout",
     "output_type": "stream",
     "text": [
      "d)\n"
     ]
    },
    {
     "data": {
      "image/png": "[encoded data removed]",
      "text/plain": [
       "<Figure size 432x288 with 1 Axes>"
      ]
     },
     "metadata": {
      "needs_background": "light"
     },
     "output_type": "display_data"
    }
   ],
   "source": [
    "print ('d)')\n",
    "yhat = lm2.fittedvalues\n",
    "sres = lm2.get_influence().resid_studentized_internal\n",
    "fig, ax = plt.subplots()\n",
    "sns.residplot(yhat, sres, lowess = True, ax = ax)\n",
    "ax.set_xlabel('yhat')\n",
    "ax.set_ylabel('sres')\n",
    "plt.show()"
   ]
  },
  {
   "cell_type": "markdown",
   "metadata": {},
   "source": [
    "<b><font size=4>Question 4</font></b>"
   ]
  },
  {
   "cell_type": "code",
   "execution_count": 65,
   "metadata": {},
   "outputs": [],
   "source": [
    "df = pd.read_csv(data_fpath + 'engine.csv')"
   ]
  },
  {
   "cell_type": "code",
   "execution_count": 67,
   "metadata": {},
   "outputs": [
    {
     "name": "stdout",
     "output_type": "stream",
     "text": [
      "b)\n",
      "RSE: 4.410348316574396\n"
     ]
    },
    {
     "name": "stderr",
     "output_type": "stream",
     "text": [
      "/anaconda/lib/python3.6/site-packages/scipy/stats/stats.py:1416: UserWarning: kurtosistest only valid for n>=20 ... continuing anyway, n=11\n",
      "  \"anyway, n=%i\" % int(n))\n"
     ]
    },
    {
     "data": {
      "text/html": [
       "<table class=\"simpletable\">\n",
       "<caption>OLS Regression Results</caption>\n",
       "<tr>\n",
       "  <th>Dep. Variable:</th>           <td>mpg</td>       <th>  R-squared:         </th> <td>   0.634</td>\n",
       "</tr>\n",
       "<tr>\n",
       "  <th>Model:</th>                   <td>OLS</td>       <th>  Adj. R-squared:    </th> <td>   0.594</td>\n",
       "</tr>\n",
       "<tr>\n",
       "  <th>Method:</th>             <td>Least Squares</td>  <th>  F-statistic:       </th> <td>   15.61</td>\n",
       "</tr>\n",
       "<tr>\n",
       "  <th>Date:</th>             <td>Sat, 20 Apr 2019</td> <th>  Prob (F-statistic):</th>  <td>0.00335</td>\n",
       "</tr>\n",
       "<tr>\n",
       "  <th>Time:</th>                 <td>13:47:54</td>     <th>  Log-Likelihood:    </th> <td> -30.828</td>\n",
       "</tr>\n",
       "<tr>\n",
       "  <th>No. Observations:</th>      <td>    11</td>      <th>  AIC:               </th> <td>   65.66</td>\n",
       "</tr>\n",
       "<tr>\n",
       "  <th>Df Residuals:</th>          <td>     9</td>      <th>  BIC:               </th> <td>   66.45</td>\n",
       "</tr>\n",
       "<tr>\n",
       "  <th>Df Model:</th>              <td>     1</td>      <th>                     </th>     <td> </td>   \n",
       "</tr>\n",
       "<tr>\n",
       "  <th>Covariance Type:</th>      <td>nonrobust</td>    <th>                     </th>     <td> </td>   \n",
       "</tr>\n",
       "</table>\n",
       "<table class=\"simpletable\">\n",
       "<tr>\n",
       "      <td></td>         <th>coef</th>     <th>std err</th>      <th>t</th>      <th>P>|t|</th>  <th>[0.025</th>    <th>0.975]</th>  \n",
       "</tr>\n",
       "<tr>\n",
       "  <th>Intercept</th> <td>   37.6770</td> <td>    2.909</td> <td>   12.952</td> <td> 0.000</td> <td>   31.097</td> <td>   44.258</td>\n",
       "</tr>\n",
       "<tr>\n",
       "  <th>size</th>      <td>   -0.0724</td> <td>    0.018</td> <td>   -3.951</td> <td> 0.003</td> <td>   -0.114</td> <td>   -0.031</td>\n",
       "</tr>\n",
       "</table>\n",
       "<table class=\"simpletable\">\n",
       "<tr>\n",
       "  <th>Omnibus:</th>       <td> 0.656</td> <th>  Durbin-Watson:     </th> <td>   2.779</td>\n",
       "</tr>\n",
       "<tr>\n",
       "  <th>Prob(Omnibus):</th> <td> 0.720</td> <th>  Jarque-Bera (JB):  </th> <td>   0.575</td>\n",
       "</tr>\n",
       "<tr>\n",
       "  <th>Skew:</th>          <td>-0.158</td> <th>  Prob(JB):          </th> <td>   0.750</td>\n",
       "</tr>\n",
       "<tr>\n",
       "  <th>Kurtosis:</th>      <td> 1.925</td> <th>  Cond. No.          </th> <td>    347.</td>\n",
       "</tr>\n",
       "</table><br/><br/>Warnings:<br/>[1] Standard Errors assume that the covariance matrix of the errors is correctly specified."
      ],
      "text/plain": [
       "<class 'statsmodels.iolib.summary.Summary'>\n",
       "\"\"\"\n",
       "                            OLS Regression Results                            \n",
       "==============================================================================\n",
       "Dep. Variable:                    mpg   R-squared:                       0.634\n",
       "Model:                            OLS   Adj. R-squared:                  0.594\n",
       "Method:                 Least Squares   F-statistic:                     15.61\n",
       "Date:                Sat, 20 Apr 2019   Prob (F-statistic):            0.00335\n",
       "Time:                        13:47:54   Log-Likelihood:                -30.828\n",
       "No. Observations:                  11   AIC:                             65.66\n",
       "Df Residuals:                       9   BIC:                             66.45\n",
       "Df Model:                           1                                         \n",
       "Covariance Type:            nonrobust                                         \n",
       "==============================================================================\n",
       "                 coef    std err          t      P>|t|      [0.025      0.975]\n",
       "------------------------------------------------------------------------------\n",
       "Intercept     37.6770      2.909     12.952      0.000      31.097      44.258\n",
       "size          -0.0724      0.018     -3.951      0.003      -0.114      -0.031\n",
       "==============================================================================\n",
       "Omnibus:                        0.656   Durbin-Watson:                   2.779\n",
       "Prob(Omnibus):                  0.720   Jarque-Bera (JB):                0.575\n",
       "Skew:                          -0.158   Prob(JB):                        0.750\n",
       "Kurtosis:                       1.925   Cond. No.                         347.\n",
       "==============================================================================\n",
       "\n",
       "Warnings:\n",
       "[1] Standard Errors assume that the covariance matrix of the errors is correctly specified.\n",
       "\"\"\""
      ]
     },
     "execution_count": 67,
     "metadata": {},
     "output_type": "execute_result"
    }
   ],
   "source": [
    "print ('b)')\n",
    "lm = smf.ols('mpg ~ size', data = df).fit()\n",
    "print ('RSE:', np.sqrt(lm.scale))\n",
    "lm.summary()"
   ]
  },
  {
   "cell_type": "code",
   "execution_count": 75,
   "metadata": {},
   "outputs": [
    {
     "name": "stdout",
     "output_type": "stream",
     "text": [
      "c)\n",
      "sum of residuals to 10 decimal points: 0.0000000000\n",
      "full sum of residuals: 1.2079226507921703e-13\n"
     ]
    }
   ],
   "source": [
    "print ('c)')\n",
    "e = lm.resid\n",
    "print ('sum of residuals to 10 decimal points: {:.10f}'.format(e.sum()))\n",
    "print ('full sum of residuals: {}'.format(e.sum()))"
   ]
  },
  {
   "cell_type": "code",
   "execution_count": 79,
   "metadata": {},
   "outputs": [
    {
     "name": "stdout",
     "output_type": "stream",
     "text": [
      "d)\n"
     ]
    },
    {
     "data": {
      "image/png": "[encoded data removed]",
      "text/plain": [
       "<Figure size 432x288 with 1 Axes>"
      ]
     },
     "metadata": {
      "needs_background": "light"
     },
     "output_type": "display_data"
    }
   ],
   "source": [
    "print ('d)')\n",
    "yhat = lm.fittedvalues\n",
    "fig, ax = plt.subplots()\n",
    "sns.residplot(yhat, e, lowess = True, ax = ax)\n",
    "ax.set_xlabel('yhat')\n",
    "ax.set_ylabel('e')\n",
    "plt.show()"
   ]
  },
  {
   "cell_type": "code",
   "execution_count": 83,
   "metadata": {},
   "outputs": [
    {
     "name": "stdout",
     "output_type": "stream",
     "text": [
      "d) continued\n"
     ]
    },
    {
     "data": {
      "image/png": "[encoded data removed]",
      "text/plain": [
       "<Figure size 432x288 with 1 Axes>"
      ]
     },
     "metadata": {
      "needs_background": "light"
     },
     "output_type": "display_data"
    }
   ],
   "source": [
    "print ('d) continued')\n",
    "endog_y = df['mpg'].values\n",
    "exog_x = df['size'].values\n",
    "lowess_sorted = lowess(endog_y, exog_x)\n",
    "x = [x[0] for x in lowess_sorted]\n",
    "y = [y[1] for y in lowess_sorted]\n",
    "fig, ax = plt.subplots()\n",
    "ax.plot(x, y, c = 'firebrick')\n",
    "df.plot.scatter(x = 'size', y = 'mpg', ax = ax)\n",
    "plt.show()"
   ]
  },
  {
   "cell_type": "markdown",
   "metadata": {},
   "source": [
    "<b><font size=4>Question 5</font></b>"
   ]
  },
  {
   "cell_type": "code",
   "execution_count": 87,
   "metadata": {},
   "outputs": [],
   "source": [
    "df = pd.read_csv(data_fpath + 'gpa.csv')"
   ]
  },
  {
   "cell_type": "code",
   "execution_count": 93,
   "metadata": {},
   "outputs": [
    {
     "name": "stdout",
     "output_type": "stream",
     "text": [
      "a)\n"
     ]
    },
    {
     "data": {
      "text/plain": [
       "<seaborn.axisgrid.FacetGrid at 0x109b42978>"
      ]
     },
     "execution_count": 93,
     "metadata": {},
     "output_type": "execute_result"
    },
    {
     "data": {
      "image/png": "[encoded data removed]",
      "text/plain": [
       "<Figure size 360x360 with 1 Axes>"
      ]
     },
     "metadata": {
      "needs_background": "light"
     },
     "output_type": "display_data"
    }
   ],
   "source": [
    "print ('a)')\n",
    "sns.lmplot(x = 'hs_gpa', y = 'college_gpa', data = df, ci = None, line_kws = {'color': 'firebrick'})"
   ]
  },
  {
   "cell_type": "code",
   "execution_count": 94,
   "metadata": {},
   "outputs": [
    {
     "name": "stdout",
     "output_type": "stream",
     "text": [
      "b)\n"
     ]
    },
    {
     "data": {
      "text/html": [
       "<table class=\"simpletable\">\n",
       "<caption>OLS Regression Results</caption>\n",
       "<tr>\n",
       "  <th>Dep. Variable:</th>       <td>college_gpa</td>   <th>  R-squared:         </th> <td>   0.295</td>\n",
       "</tr>\n",
       "<tr>\n",
       "  <th>Model:</th>                   <td>OLS</td>       <th>  Adj. R-squared:    </th> <td>   0.295</td>\n",
       "</tr>\n",
       "<tr>\n",
       "  <th>Method:</th>             <td>Least Squares</td>  <th>  F-statistic:       </th> <td>   418.1</td>\n",
       "</tr>\n",
       "<tr>\n",
       "  <th>Date:</th>             <td>Sat, 20 Apr 2019</td> <th>  Prob (F-statistic):</th> <td>6.93e-78</td>\n",
       "</tr>\n",
       "<tr>\n",
       "  <th>Time:</th>                 <td>14:00:51</td>     <th>  Log-Likelihood:    </th> <td> -943.48</td>\n",
       "</tr>\n",
       "<tr>\n",
       "  <th>No. Observations:</th>      <td>  1000</td>      <th>  AIC:               </th> <td>   1891.</td>\n",
       "</tr>\n",
       "<tr>\n",
       "  <th>Df Residuals:</th>          <td>   998</td>      <th>  BIC:               </th> <td>   1901.</td>\n",
       "</tr>\n",
       "<tr>\n",
       "  <th>Df Model:</th>              <td>     1</td>      <th>                     </th>     <td> </td>   \n",
       "</tr>\n",
       "<tr>\n",
       "  <th>Covariance Type:</th>      <td>nonrobust</td>    <th>                     </th>     <td> </td>   \n",
       "</tr>\n",
       "</table>\n",
       "<table class=\"simpletable\">\n",
       "<tr>\n",
       "      <td></td>         <th>coef</th>     <th>std err</th>      <th>t</th>      <th>P>|t|</th>  <th>[0.025</th>    <th>0.975]</th>  \n",
       "</tr>\n",
       "<tr>\n",
       "  <th>Intercept</th> <td>    0.0913</td> <td>    0.118</td> <td>    0.775</td> <td> 0.439</td> <td>   -0.140</td> <td>    0.323</td>\n",
       "</tr>\n",
       "<tr>\n",
       "  <th>hs_gpa</th>    <td>    0.7431</td> <td>    0.036</td> <td>   20.447</td> <td> 0.000</td> <td>    0.672</td> <td>    0.814</td>\n",
       "</tr>\n",
       "</table>\n",
       "<table class=\"simpletable\">\n",
       "<tr>\n",
       "  <th>Omnibus:</th>       <td>31.526</td> <th>  Durbin-Watson:     </th> <td>   2.043</td>\n",
       "</tr>\n",
       "<tr>\n",
       "  <th>Prob(Omnibus):</th> <td> 0.000</td> <th>  Jarque-Bera (JB):  </th> <td>  34.428</td>\n",
       "</tr>\n",
       "<tr>\n",
       "  <th>Skew:</th>          <td>-0.410</td> <th>  Prob(JB):          </th> <td>3.34e-08</td>\n",
       "</tr>\n",
       "<tr>\n",
       "  <th>Kurtosis:</th>      <td> 3.391</td> <th>  Cond. No.          </th> <td>    21.2</td>\n",
       "</tr>\n",
       "</table><br/><br/>Warnings:<br/>[1] Standard Errors assume that the covariance matrix of the errors is correctly specified."
      ],
      "text/plain": [
       "<class 'statsmodels.iolib.summary.Summary'>\n",
       "\"\"\"\n",
       "                            OLS Regression Results                            \n",
       "==============================================================================\n",
       "Dep. Variable:            college_gpa   R-squared:                       0.295\n",
       "Model:                            OLS   Adj. R-squared:                  0.295\n",
       "Method:                 Least Squares   F-statistic:                     418.1\n",
       "Date:                Sat, 20 Apr 2019   Prob (F-statistic):           6.93e-78\n",
       "Time:                        14:00:51   Log-Likelihood:                -943.48\n",
       "No. Observations:                1000   AIC:                             1891.\n",
       "Df Residuals:                     998   BIC:                             1901.\n",
       "Df Model:                           1                                         \n",
       "Covariance Type:            nonrobust                                         \n",
       "==============================================================================\n",
       "                 coef    std err          t      P>|t|      [0.025      0.975]\n",
       "------------------------------------------------------------------------------\n",
       "Intercept      0.0913      0.118      0.775      0.439      -0.140       0.323\n",
       "hs_gpa         0.7431      0.036     20.447      0.000       0.672       0.814\n",
       "==============================================================================\n",
       "Omnibus:                       31.526   Durbin-Watson:                   2.043\n",
       "Prob(Omnibus):                  0.000   Jarque-Bera (JB):               34.428\n",
       "Skew:                          -0.410   Prob(JB):                     3.34e-08\n",
       "Kurtosis:                       3.391   Cond. No.                         21.2\n",
       "==============================================================================\n",
       "\n",
       "Warnings:\n",
       "[1] Standard Errors assume that the covariance matrix of the errors is correctly specified.\n",
       "\"\"\""
      ]
     },
     "execution_count": 94,
     "metadata": {},
     "output_type": "execute_result"
    }
   ],
   "source": [
    "print ('b)')\n",
    "lm = smf.ols('college_gpa ~ hs_gpa', data = df).fit()\n",
    "lm.summary()"
   ]
  },
  {
   "cell_type": "code",
   "execution_count": 95,
   "metadata": {},
   "outputs": [
    {
     "name": "stdout",
     "output_type": "stream",
     "text": [
      "c)\n",
      "RSE: 0.6222204107474466\n"
     ]
    }
   ],
   "source": [
    "print ('c)')\n",
    "rse = np.sqrt(lm.scale)\n",
    "print ('RSE:', rse)"
   ]
  },
  {
   "cell_type": "code",
   "execution_count": 96,
   "metadata": {},
   "outputs": [
    {
     "name": "stdout",
     "output_type": "stream",
     "text": [
      "d)\n"
     ]
    },
    {
     "data": {
      "image/png": "[encoded data removed]",
      "text/plain": [
       "<Figure size 432x288 with 1 Axes>"
      ]
     },
     "metadata": {
      "needs_background": "light"
     },
     "output_type": "display_data"
    }
   ],
   "source": [
    "print ('d)')\n",
    "yhat = lm.fittedvalues\n",
    "sres = lm.get_influence().resid_studentized_internal\n",
    "fig, ax = plt.subplots()\n",
    "sns.residplot(yhat, sres, lowess = True, ax = ax)\n",
    "ax.set_xlabel('yhat')\n",
    "ax.set_ylabel('sres')\n",
    "plt.show()"
   ]
  },
  {
   "cell_type": "markdown",
   "metadata": {},
   "source": [
    "<b><font size=4>Question 6</font></b>"
   ]
  },
  {
   "cell_type": "code",
   "execution_count": 97,
   "metadata": {},
   "outputs": [],
   "source": [
    "df = pd.read_csv(data_fpath + 'explorer.csv')"
   ]
  },
  {
   "cell_type": "code",
   "execution_count": 99,
   "metadata": {},
   "outputs": [
    {
     "name": "stdout",
     "output_type": "stream",
     "text": [
      "a)\n"
     ]
    },
    {
     "data": {
      "text/plain": [
       "<matplotlib.axes._subplots.AxesSubplot at 0x1c1d0b7198>"
      ]
     },
     "execution_count": 99,
     "metadata": {},
     "output_type": "execute_result"
    },
    {
     "data": {
      "image/png": "[encoded data removed]",
      "text/plain": [
       "<Figure size 432x288 with 1 Axes>"
      ]
     },
     "metadata": {
      "needs_background": "light"
     },
     "output_type": "display_data"
    }
   ],
   "source": [
    "print ('a)')\n",
    "df.plot.scatter(x = 'miles', y = 'price')"
   ]
  },
  {
   "cell_type": "code",
   "execution_count": 107,
   "metadata": {},
   "outputs": [
    {
     "name": "stdout",
     "output_type": "stream",
     "text": [
      "b)\n"
     ]
    },
    {
     "data": {
      "text/html": [
       "<table class=\"simpletable\">\n",
       "<caption>OLS Regression Results</caption>\n",
       "<tr>\n",
       "  <th>Dep. Variable:</th>          <td>price</td>      <th>  R-squared:         </th> <td>   0.217</td>\n",
       "</tr>\n",
       "<tr>\n",
       "  <th>Model:</th>                   <td>OLS</td>       <th>  Adj. R-squared:    </th> <td>   0.196</td>\n",
       "</tr>\n",
       "<tr>\n",
       "  <th>Method:</th>             <td>Least Squares</td>  <th>  F-statistic:       </th> <td>   10.51</td>\n",
       "</tr>\n",
       "<tr>\n",
       "  <th>Date:</th>             <td>Sat, 20 Apr 2019</td> <th>  Prob (F-statistic):</th>  <td>0.00247</td>\n",
       "</tr>\n",
       "<tr>\n",
       "  <th>Time:</th>                 <td>14:23:09</td>     <th>  Log-Likelihood:    </th> <td> -354.57</td>\n",
       "</tr>\n",
       "<tr>\n",
       "  <th>No. Observations:</th>      <td>    40</td>      <th>  AIC:               </th> <td>   713.1</td>\n",
       "</tr>\n",
       "<tr>\n",
       "  <th>Df Residuals:</th>          <td>    38</td>      <th>  BIC:               </th> <td>   716.5</td>\n",
       "</tr>\n",
       "<tr>\n",
       "  <th>Df Model:</th>              <td>     1</td>      <th>                     </th>     <td> </td>   \n",
       "</tr>\n",
       "<tr>\n",
       "  <th>Covariance Type:</th>      <td>nonrobust</td>    <th>                     </th>     <td> </td>   \n",
       "</tr>\n",
       "</table>\n",
       "<table class=\"simpletable\">\n",
       "<tr>\n",
       "      <td></td>         <th>coef</th>     <th>std err</th>      <th>t</th>      <th>P>|t|</th>  <th>[0.025</th>    <th>0.975]</th>  \n",
       "</tr>\n",
       "<tr>\n",
       "  <th>Intercept</th> <td> 2.279e+04</td> <td>  946.099</td> <td>   24.088</td> <td> 0.000</td> <td> 2.09e+04</td> <td> 2.47e+04</td>\n",
       "</tr>\n",
       "<tr>\n",
       "  <th>miles</th>     <td>   -0.0644</td> <td>    0.020</td> <td>   -3.242</td> <td> 0.002</td> <td>   -0.105</td> <td>   -0.024</td>\n",
       "</tr>\n",
       "</table>\n",
       "<table class=\"simpletable\">\n",
       "<tr>\n",
       "  <th>Omnibus:</th>       <td> 1.839</td> <th>  Durbin-Watson:     </th> <td>   2.163</td>\n",
       "</tr>\n",
       "<tr>\n",
       "  <th>Prob(Omnibus):</th> <td> 0.399</td> <th>  Jarque-Bera (JB):  </th> <td>   1.274</td>\n",
       "</tr>\n",
       "<tr>\n",
       "  <th>Skew:</th>          <td> 0.436</td> <th>  Prob(JB):          </th> <td>   0.529</td>\n",
       "</tr>\n",
       "<tr>\n",
       "  <th>Kurtosis:</th>      <td> 3.050</td> <th>  Cond. No.          </th> <td>1.62e+05</td>\n",
       "</tr>\n",
       "</table><br/><br/>Warnings:<br/>[1] Standard Errors assume that the covariance matrix of the errors is correctly specified.<br/>[2] The condition number is large, 1.62e+05. This might indicate that there are<br/>strong multicollinearity or other numerical problems."
      ],
      "text/plain": [
       "<class 'statsmodels.iolib.summary.Summary'>\n",
       "\"\"\"\n",
       "                            OLS Regression Results                            \n",
       "==============================================================================\n",
       "Dep. Variable:                  price   R-squared:                       0.217\n",
       "Model:                            OLS   Adj. R-squared:                  0.196\n",
       "Method:                 Least Squares   F-statistic:                     10.51\n",
       "Date:                Sat, 20 Apr 2019   Prob (F-statistic):            0.00247\n",
       "Time:                        14:23:09   Log-Likelihood:                -354.57\n",
       "No. Observations:                  40   AIC:                             713.1\n",
       "Df Residuals:                      38   BIC:                             716.5\n",
       "Df Model:                           1                                         \n",
       "Covariance Type:            nonrobust                                         \n",
       "==============================================================================\n",
       "                 coef    std err          t      P>|t|      [0.025      0.975]\n",
       "------------------------------------------------------------------------------\n",
       "Intercept   2.279e+04    946.099     24.088      0.000    2.09e+04    2.47e+04\n",
       "miles         -0.0644      0.020     -3.242      0.002      -0.105      -0.024\n",
       "==============================================================================\n",
       "Omnibus:                        1.839   Durbin-Watson:                   2.163\n",
       "Prob(Omnibus):                  0.399   Jarque-Bera (JB):                1.274\n",
       "Skew:                           0.436   Prob(JB):                        0.529\n",
       "Kurtosis:                       3.050   Cond. No.                     1.62e+05\n",
       "==============================================================================\n",
       "\n",
       "Warnings:\n",
       "[1] Standard Errors assume that the covariance matrix of the errors is correctly specified.\n",
       "[2] The condition number is large, 1.62e+05. This might indicate that there are\n",
       "strong multicollinearity or other numerical problems.\n",
       "\"\"\""
      ]
     },
     "execution_count": 107,
     "metadata": {},
     "output_type": "execute_result"
    },
    {
     "data": {
      "image/png": "[encoded data removed]",
      "text/plain": [
       "<Figure size 360x360 with 1 Axes>"
      ]
     },
     "metadata": {
      "needs_background": "light"
     },
     "output_type": "display_data"
    }
   ],
   "source": [
    "print ('b)')\n",
    "lm = smf.ols('price ~ miles', data = df).fit()\n",
    "sns.lmplot(x = 'miles', y = 'price', data = df, ci = None, line_kws = {'color': 'firebrick'})\n",
    "lm.summary()"
   ]
  },
  {
   "cell_type": "code",
   "execution_count": 102,
   "metadata": {},
   "outputs": [
    {
     "name": "stdout",
     "output_type": "stream",
     "text": [
      "c)\n"
     ]
    },
    {
     "data": {
      "image/png": "[encoded data removed]",
      "text/plain": [
       "<Figure size 432x288 with 1 Axes>"
      ]
     },
     "metadata": {
      "needs_background": "light"
     },
     "output_type": "display_data"
    }
   ],
   "source": [
    "print ('c)')\n",
    "yhat = lm.fittedvalues\n",
    "sres = lm.get_influence().resid_studentized_internal\n",
    "fig, ax = plt.subplots()\n",
    "sns.residplot(yhat, sres, lowess = True, ax = ax)\n",
    "ax.set_xlabel('yhat')\n",
    "ax.set_ylabel('sres')\n",
    "plt.show()"
   ]
  },
  {
   "cell_type": "code",
   "execution_count": 104,
   "metadata": {},
   "outputs": [
    {
     "name": "stdout",
     "output_type": "stream",
     "text": [
      "d)\n",
      "90% conf int value: 1.6448536269514722\n"
     ]
    }
   ],
   "source": [
    "print ('d)')\n",
    "print ('90% conf int value:', stats.norm.ppf(0.95))"
   ]
  },
  {
   "cell_type": "code",
   "execution_count": 108,
   "metadata": {},
   "outputs": [
    {
     "name": "stdout",
     "output_type": "stream",
     "text": [
      "e)\n",
      "RSE: 1756.1596273324014\n",
      "CI: (17029.52713042849, 23913.672869571506)\n"
     ]
    }
   ],
   "source": [
    "print ('e)')\n",
    "rse = np.sqrt(lm.scale)\n",
    "print ('RSE:', rse)\n",
    "base = 22790 - (0.0644 * 36000)\n",
    "ci_lo = base - (1.96 * rse)\n",
    "ci_hi = base + (1.96 * rse)\n",
    "print ('CI:', (ci_lo, ci_hi))"
   ]
  },
  {
   "cell_type": "markdown",
   "metadata": {},
   "source": [
    "<b><font size=4>Question 7</font></b>"
   ]
  },
  {
   "cell_type": "code",
   "execution_count": 110,
   "metadata": {},
   "outputs": [],
   "source": [
    "df = pd.read_csv(data_fpath + 'height.csv')"
   ]
  },
  {
   "cell_type": "code",
   "execution_count": 112,
   "metadata": {},
   "outputs": [
    {
     "name": "stdout",
     "output_type": "stream",
     "text": [
      "a)\n"
     ]
    },
    {
     "data": {
      "text/plain": [
       "<matplotlib.axes._subplots.AxesSubplot at 0x1c1de48940>"
      ]
     },
     "execution_count": 112,
     "metadata": {},
     "output_type": "execute_result"
    },
    {
     "data": {
      "image/png": "[encoded data removed]",
      "text/plain": [
       "<Figure size 432x288 with 1 Axes>"
      ]
     },
     "metadata": {
      "needs_background": "light"
     },
     "output_type": "display_data"
    }
   ],
   "source": [
    "print ('a)')\n",
    "df.plot.scatter(x = 'stories', y = 'height')"
   ]
  },
  {
   "cell_type": "code",
   "execution_count": 113,
   "metadata": {},
   "outputs": [
    {
     "name": "stdout",
     "output_type": "stream",
     "text": [
      "b)\n",
      "RSE: 132.76438827596021\n"
     ]
    },
    {
     "name": "stderr",
     "output_type": "stream",
     "text": [
      "/anaconda/lib/python3.6/site-packages/scipy/stats/stats.py:1416: UserWarning: kurtosistest only valid for n>=20 ... continuing anyway, n=10\n",
      "  \"anyway, n=%i\" % int(n))\n"
     ]
    },
    {
     "data": {
      "text/html": [
       "<table class=\"simpletable\">\n",
       "<caption>OLS Regression Results</caption>\n",
       "<tr>\n",
       "  <th>Dep. Variable:</th>         <td>height</td>      <th>  R-squared:         </th> <td>   0.890</td>\n",
       "</tr>\n",
       "<tr>\n",
       "  <th>Model:</th>                   <td>OLS</td>       <th>  Adj. R-squared:    </th> <td>   0.877</td>\n",
       "</tr>\n",
       "<tr>\n",
       "  <th>Method:</th>             <td>Least Squares</td>  <th>  F-statistic:       </th> <td>   64.95</td>\n",
       "</tr>\n",
       "<tr>\n",
       "  <th>Date:</th>             <td>Sat, 20 Apr 2019</td> <th>  Prob (F-statistic):</th> <td>4.14e-05</td>\n",
       "</tr>\n",
       "<tr>\n",
       "  <th>Time:</th>                 <td>14:30:09</td>     <th>  Log-Likelihood:    </th> <td> -61.959</td>\n",
       "</tr>\n",
       "<tr>\n",
       "  <th>No. Observations:</th>      <td>    10</td>      <th>  AIC:               </th> <td>   127.9</td>\n",
       "</tr>\n",
       "<tr>\n",
       "  <th>Df Residuals:</th>          <td>     8</td>      <th>  BIC:               </th> <td>   128.5</td>\n",
       "</tr>\n",
       "<tr>\n",
       "  <th>Df Model:</th>              <td>     1</td>      <th>                     </th>     <td> </td>   \n",
       "</tr>\n",
       "<tr>\n",
       "  <th>Covariance Type:</th>      <td>nonrobust</td>    <th>                     </th>     <td> </td>   \n",
       "</tr>\n",
       "</table>\n",
       "<table class=\"simpletable\">\n",
       "<tr>\n",
       "      <td></td>         <th>coef</th>     <th>std err</th>      <th>t</th>      <th>P>|t|</th>  <th>[0.025</th>    <th>0.975]</th>  \n",
       "</tr>\n",
       "<tr>\n",
       "  <th>Intercept</th> <td>  102.4287</td> <td>   87.606</td> <td>    1.169</td> <td> 0.276</td> <td>  -99.591</td> <td>  304.449</td>\n",
       "</tr>\n",
       "<tr>\n",
       "  <th>stories</th>   <td>   11.7585</td> <td>    1.459</td> <td>    8.059</td> <td> 0.000</td> <td>    8.394</td> <td>   15.123</td>\n",
       "</tr>\n",
       "</table>\n",
       "<table class=\"simpletable\">\n",
       "<tr>\n",
       "  <th>Omnibus:</th>       <td> 4.153</td> <th>  Durbin-Watson:     </th> <td>   1.896</td>\n",
       "</tr>\n",
       "<tr>\n",
       "  <th>Prob(Omnibus):</th> <td> 0.125</td> <th>  Jarque-Bera (JB):  </th> <td>   1.233</td>\n",
       "</tr>\n",
       "<tr>\n",
       "  <th>Skew:</th>          <td> 0.793</td> <th>  Prob(JB):          </th> <td>   0.540</td>\n",
       "</tr>\n",
       "<tr>\n",
       "  <th>Kurtosis:</th>      <td> 3.668</td> <th>  Cond. No.          </th> <td>    125.</td>\n",
       "</tr>\n",
       "</table><br/><br/>Warnings:<br/>[1] Standard Errors assume that the covariance matrix of the errors is correctly specified."
      ],
      "text/plain": [
       "<class 'statsmodels.iolib.summary.Summary'>\n",
       "\"\"\"\n",
       "                            OLS Regression Results                            \n",
       "==============================================================================\n",
       "Dep. Variable:                 height   R-squared:                       0.890\n",
       "Model:                            OLS   Adj. R-squared:                  0.877\n",
       "Method:                 Least Squares   F-statistic:                     64.95\n",
       "Date:                Sat, 20 Apr 2019   Prob (F-statistic):           4.14e-05\n",
       "Time:                        14:30:09   Log-Likelihood:                -61.959\n",
       "No. Observations:                  10   AIC:                             127.9\n",
       "Df Residuals:                       8   BIC:                             128.5\n",
       "Df Model:                           1                                         \n",
       "Covariance Type:            nonrobust                                         \n",
       "==============================================================================\n",
       "                 coef    std err          t      P>|t|      [0.025      0.975]\n",
       "------------------------------------------------------------------------------\n",
       "Intercept    102.4287     87.606      1.169      0.276     -99.591     304.449\n",
       "stories       11.7585      1.459      8.059      0.000       8.394      15.123\n",
       "==============================================================================\n",
       "Omnibus:                        4.153   Durbin-Watson:                   1.896\n",
       "Prob(Omnibus):                  0.125   Jarque-Bera (JB):                1.233\n",
       "Skew:                           0.793   Prob(JB):                        0.540\n",
       "Kurtosis:                       3.668   Cond. No.                         125.\n",
       "==============================================================================\n",
       "\n",
       "Warnings:\n",
       "[1] Standard Errors assume that the covariance matrix of the errors is correctly specified.\n",
       "\"\"\""
      ]
     },
     "execution_count": 113,
     "metadata": {},
     "output_type": "execute_result"
    }
   ],
   "source": [
    "print ('b)')\n",
    "lm = smf.ols('height ~ stories', data = df).fit()\n",
    "print ('RSE:', np.sqrt(lm.scale))\n",
    "lm.summary()"
   ]
  },
  {
   "cell_type": "code",
   "execution_count": 114,
   "metadata": {},
   "outputs": [
    {
     "name": "stdout",
     "output_type": "stream",
     "text": [
      "f)\n"
     ]
    },
    {
     "data": {
      "image/png": "[encoded data removed]",
      "text/plain": [
       "<Figure size 432x288 with 1 Axes>"
      ]
     },
     "metadata": {
      "needs_background": "light"
     },
     "output_type": "display_data"
    }
   ],
   "source": [
    "print ('f)')\n",
    "yhat = lm.fittedvalues\n",
    "sres = lm.get_influence().resid_studentized_internal\n",
    "fig, ax = plt.subplots()\n",
    "sns.residplot(yhat, sres, lowess = True, ax = ax)\n",
    "ax.set_xlabel('yhat')\n",
    "ax.set_ylabel('sres')\n",
    "plt.show()"
   ]
  },
  {
   "cell_type": "markdown",
   "metadata": {},
   "source": [
    "<b><font size=4>Question 8</font></b>"
   ]
  },
  {
   "cell_type": "code",
   "execution_count": 115,
   "metadata": {},
   "outputs": [],
   "source": [
    "df = pd.read_csv(data_fpath + 'playbill.csv')"
   ]
  },
  {
   "cell_type": "code",
   "execution_count": 117,
   "metadata": {},
   "outputs": [
    {
     "name": "stdout",
     "output_type": "stream",
     "text": [
      "a)\n"
     ]
    },
    {
     "name": "stderr",
     "output_type": "stream",
     "text": [
      "/anaconda/lib/python3.6/site-packages/scipy/stats/stats.py:1416: UserWarning: kurtosistest only valid for n>=20 ... continuing anyway, n=18\n",
      "  \"anyway, n=%i\" % int(n))\n"
     ]
    },
    {
     "data": {
      "text/html": [
       "<table class=\"simpletable\">\n",
       "<caption>OLS Regression Results</caption>\n",
       "<tr>\n",
       "  <th>Dep. Variable:</th>       <td>CurrentWeek</td>   <th>  R-squared:         </th> <td>   0.997</td>\n",
       "</tr>\n",
       "<tr>\n",
       "  <th>Model:</th>                   <td>OLS</td>       <th>  Adj. R-squared:    </th> <td>   0.996</td>\n",
       "</tr>\n",
       "<tr>\n",
       "  <th>Method:</th>             <td>Least Squares</td>  <th>  F-statistic:       </th> <td>   4634.</td>\n",
       "</tr>\n",
       "<tr>\n",
       "  <th>Date:</th>             <td>Sat, 20 Apr 2019</td> <th>  Prob (F-statistic):</th> <td>3.87e-21</td>\n",
       "</tr>\n",
       "<tr>\n",
       "  <th>Time:</th>                 <td>15:33:38</td>     <th>  Log-Likelihood:    </th> <td> -200.85</td>\n",
       "</tr>\n",
       "<tr>\n",
       "  <th>No. Observations:</th>      <td>    18</td>      <th>  AIC:               </th> <td>   405.7</td>\n",
       "</tr>\n",
       "<tr>\n",
       "  <th>Df Residuals:</th>          <td>    16</td>      <th>  BIC:               </th> <td>   407.5</td>\n",
       "</tr>\n",
       "<tr>\n",
       "  <th>Df Model:</th>              <td>     1</td>      <th>                     </th>     <td> </td>   \n",
       "</tr>\n",
       "<tr>\n",
       "  <th>Covariance Type:</th>      <td>nonrobust</td>    <th>                     </th>     <td> </td>   \n",
       "</tr>\n",
       "</table>\n",
       "<table class=\"simpletable\">\n",
       "<tr>\n",
       "      <td></td>         <th>coef</th>     <th>std err</th>      <th>t</th>      <th>P>|t|</th>  <th>[0.025</th>    <th>0.975]</th>  \n",
       "</tr>\n",
       "<tr>\n",
       "  <th>Intercept</th> <td> 6804.8860</td> <td> 9929.318</td> <td>    0.685</td> <td> 0.503</td> <td>-1.42e+04</td> <td> 2.79e+04</td>\n",
       "</tr>\n",
       "<tr>\n",
       "  <th>LastWeek</th>  <td>    0.9821</td> <td>    0.014</td> <td>   68.071</td> <td> 0.000</td> <td>    0.951</td> <td>    1.013</td>\n",
       "</tr>\n",
       "</table>\n",
       "<table class=\"simpletable\">\n",
       "<tr>\n",
       "  <th>Omnibus:</th>       <td> 1.260</td> <th>  Durbin-Watson:     </th> <td>   1.438</td>\n",
       "</tr>\n",
       "<tr>\n",
       "  <th>Prob(Omnibus):</th> <td> 0.532</td> <th>  Jarque-Bera (JB):  </th> <td>   0.251</td>\n",
       "</tr>\n",
       "<tr>\n",
       "  <th>Skew:</th>          <td> 0.231</td> <th>  Prob(JB):          </th> <td>   0.882</td>\n",
       "</tr>\n",
       "<tr>\n",
       "  <th>Kurtosis:</th>      <td> 3.347</td> <th>  Cond. No.          </th> <td>1.61e+06</td>\n",
       "</tr>\n",
       "</table><br/><br/>Warnings:<br/>[1] Standard Errors assume that the covariance matrix of the errors is correctly specified.<br/>[2] The condition number is large, 1.61e+06. This might indicate that there are<br/>strong multicollinearity or other numerical problems."
      ],
      "text/plain": [
       "<class 'statsmodels.iolib.summary.Summary'>\n",
       "\"\"\"\n",
       "                            OLS Regression Results                            \n",
       "==============================================================================\n",
       "Dep. Variable:            CurrentWeek   R-squared:                       0.997\n",
       "Model:                            OLS   Adj. R-squared:                  0.996\n",
       "Method:                 Least Squares   F-statistic:                     4634.\n",
       "Date:                Sat, 20 Apr 2019   Prob (F-statistic):           3.87e-21\n",
       "Time:                        15:33:38   Log-Likelihood:                -200.85\n",
       "No. Observations:                  18   AIC:                             405.7\n",
       "Df Residuals:                      16   BIC:                             407.5\n",
       "Df Model:                           1                                         \n",
       "Covariance Type:            nonrobust                                         \n",
       "==============================================================================\n",
       "                 coef    std err          t      P>|t|      [0.025      0.975]\n",
       "------------------------------------------------------------------------------\n",
       "Intercept   6804.8860   9929.318      0.685      0.503   -1.42e+04    2.79e+04\n",
       "LastWeek       0.9821      0.014     68.071      0.000       0.951       1.013\n",
       "==============================================================================\n",
       "Omnibus:                        1.260   Durbin-Watson:                   1.438\n",
       "Prob(Omnibus):                  0.532   Jarque-Bera (JB):                0.251\n",
       "Skew:                           0.231   Prob(JB):                        0.882\n",
       "Kurtosis:                       3.347   Cond. No.                     1.61e+06\n",
       "==============================================================================\n",
       "\n",
       "Warnings:\n",
       "[1] Standard Errors assume that the covariance matrix of the errors is correctly specified.\n",
       "[2] The condition number is large, 1.61e+06. This might indicate that there are\n",
       "strong multicollinearity or other numerical problems.\n",
       "\"\"\""
      ]
     },
     "execution_count": 117,
     "metadata": {},
     "output_type": "execute_result"
    }
   ],
   "source": [
    "print ('a)')\n",
    "lm = smf.ols('CurrentWeek ~ LastWeek', data = df).fit()\n",
    "lm.summary()"
   ]
  },
  {
   "cell_type": "code",
   "execution_count": 120,
   "metadata": {},
   "outputs": [
    {
     "name": "stdout",
     "output_type": "stream",
     "text": [
      "d)\n"
     ]
    },
    {
     "data": {
      "image/png": "[encoded data removed]",
      "text/plain": [
       "<Figure size 432x288 with 1 Axes>"
      ]
     },
     "metadata": {
      "needs_background": "light"
     },
     "output_type": "display_data"
    }
   ],
   "source": [
    "print ('d)')\n",
    "yhat = lm.fittedvalues\n",
    "sres = lm.get_influence().resid_studentized_internal\n",
    "fig, ax = plt.subplots()\n",
    "sns.residplot(yhat, sres, lowess = True, ax = ax)\n",
    "ax.set_xlabel('yhat')\n",
    "ax.set_ylabel('sres')\n",
    "plt.show()"
   ]
  },
  {
   "cell_type": "markdown",
   "metadata": {},
   "source": [
    "<b><font size=4>Question 9</font></b>"
   ]
  },
  {
   "cell_type": "code",
   "execution_count": 133,
   "metadata": {},
   "outputs": [],
   "source": [
    "df = pd.read_csv(data_fpath + 'delivery.csv')"
   ]
  },
  {
   "cell_type": "code",
   "execution_count": 136,
   "metadata": {},
   "outputs": [],
   "source": [
    "df.columns = [c.replace(' ', '_') for c in df.columns]"
   ]
  },
  {
   "cell_type": "code",
   "execution_count": 137,
   "metadata": {},
   "outputs": [
    {
     "name": "stdout",
     "output_type": "stream",
     "text": [
      "a)\n"
     ]
    },
    {
     "data": {
      "text/html": [
       "<table class=\"simpletable\">\n",
       "<caption>OLS Regression Results</caption>\n",
       "<tr>\n",
       "  <th>Dep. Variable:</th>      <td>Delivery_Time</td>  <th>  R-squared:         </th> <td>   0.972</td>\n",
       "</tr>\n",
       "<tr>\n",
       "  <th>Model:</th>                   <td>OLS</td>       <th>  Adj. R-squared:    </th> <td>   0.970</td>\n",
       "</tr>\n",
       "<tr>\n",
       "  <th>Method:</th>             <td>Least Squares</td>  <th>  F-statistic:       </th> <td>   619.2</td>\n",
       "</tr>\n",
       "<tr>\n",
       "  <th>Date:</th>             <td>Sat, 20 Apr 2019</td> <th>  Prob (F-statistic):</th> <td>2.15e-15</td>\n",
       "</tr>\n",
       "<tr>\n",
       "  <th>Time:</th>                 <td>15:49:33</td>     <th>  Log-Likelihood:    </th> <td> -41.053</td>\n",
       "</tr>\n",
       "<tr>\n",
       "  <th>No. Observations:</th>      <td>    20</td>      <th>  AIC:               </th> <td>   86.11</td>\n",
       "</tr>\n",
       "<tr>\n",
       "  <th>Df Residuals:</th>          <td>    18</td>      <th>  BIC:               </th> <td>   88.10</td>\n",
       "</tr>\n",
       "<tr>\n",
       "  <th>Df Model:</th>              <td>     1</td>      <th>                     </th>     <td> </td>   \n",
       "</tr>\n",
       "<tr>\n",
       "  <th>Covariance Type:</th>      <td>nonrobust</td>    <th>                     </th>     <td> </td>   \n",
       "</tr>\n",
       "</table>\n",
       "<table class=\"simpletable\">\n",
       "<tr>\n",
       "         <td></td>            <th>coef</th>     <th>std err</th>      <th>t</th>      <th>P>|t|</th>  <th>[0.025</th>    <th>0.975]</th>  \n",
       "</tr>\n",
       "<tr>\n",
       "  <th>Intercept</th>       <td>   24.8345</td> <td>    1.054</td> <td>   23.557</td> <td> 0.000</td> <td>   22.620</td> <td>   27.049</td>\n",
       "</tr>\n",
       "<tr>\n",
       "  <th>Number_of_Cases</th> <td>    0.1400</td> <td>    0.006</td> <td>   24.884</td> <td> 0.000</td> <td>    0.128</td> <td>    0.152</td>\n",
       "</tr>\n",
       "</table>\n",
       "<table class=\"simpletable\">\n",
       "<tr>\n",
       "  <th>Omnibus:</th>       <td> 4.029</td> <th>  Durbin-Watson:     </th> <td>   1.794</td>\n",
       "</tr>\n",
       "<tr>\n",
       "  <th>Prob(Omnibus):</th> <td> 0.133</td> <th>  Jarque-Bera (JB):  </th> <td>   2.012</td>\n",
       "</tr>\n",
       "<tr>\n",
       "  <th>Skew:</th>          <td>-0.651</td> <th>  Prob(JB):          </th> <td>   0.366</td>\n",
       "</tr>\n",
       "<tr>\n",
       "  <th>Kurtosis:</th>      <td> 3.849</td> <th>  Cond. No.          </th> <td>    445.</td>\n",
       "</tr>\n",
       "</table><br/><br/>Warnings:<br/>[1] Standard Errors assume that the covariance matrix of the errors is correctly specified."
      ],
      "text/plain": [
       "<class 'statsmodels.iolib.summary.Summary'>\n",
       "\"\"\"\n",
       "                            OLS Regression Results                            \n",
       "==============================================================================\n",
       "Dep. Variable:          Delivery_Time   R-squared:                       0.972\n",
       "Model:                            OLS   Adj. R-squared:                  0.970\n",
       "Method:                 Least Squares   F-statistic:                     619.2\n",
       "Date:                Sat, 20 Apr 2019   Prob (F-statistic):           2.15e-15\n",
       "Time:                        15:49:33   Log-Likelihood:                -41.053\n",
       "No. Observations:                  20   AIC:                             86.11\n",
       "Df Residuals:                      18   BIC:                             88.10\n",
       "Df Model:                           1                                         \n",
       "Covariance Type:            nonrobust                                         \n",
       "===================================================================================\n",
       "                      coef    std err          t      P>|t|      [0.025      0.975]\n",
       "-----------------------------------------------------------------------------------\n",
       "Intercept          24.8345      1.054     23.557      0.000      22.620      27.049\n",
       "Number_of_Cases     0.1400      0.006     24.884      0.000       0.128       0.152\n",
       "==============================================================================\n",
       "Omnibus:                        4.029   Durbin-Watson:                   1.794\n",
       "Prob(Omnibus):                  0.133   Jarque-Bera (JB):                2.012\n",
       "Skew:                          -0.651   Prob(JB):                        0.366\n",
       "Kurtosis:                       3.849   Cond. No.                         445.\n",
       "==============================================================================\n",
       "\n",
       "Warnings:\n",
       "[1] Standard Errors assume that the covariance matrix of the errors is correctly specified.\n",
       "\"\"\""
      ]
     },
     "execution_count": 137,
     "metadata": {},
     "output_type": "execute_result"
    }
   ],
   "source": [
    "print ('a)')\n",
    "lm = smf.ols('Delivery_Time ~ Number_of_Cases', data = df).fit()\n",
    "lm.summary()"
   ]
  },
  {
   "cell_type": "code",
   "execution_count": 138,
   "metadata": {},
   "outputs": [
    {
     "name": "stdout",
     "output_type": "stream",
     "text": [
      "c)\n"
     ]
    },
    {
     "data": {
      "image/png": "[encoded data removed]",
      "text/plain": [
       "<Figure size 432x288 with 1 Axes>"
      ]
     },
     "metadata": {
      "needs_background": "light"
     },
     "output_type": "display_data"
    }
   ],
   "source": [
    "print ('c)')\n",
    "yhat = lm.fittedvalues\n",
    "sres = lm.get_influence().resid_studentized_internal\n",
    "fig, ax = plt.subplots()\n",
    "sns.residplot(yhat, sres, lowess = True, ax = ax)\n",
    "ax.set_xlabel('yhat')\n",
    "ax.set_ylabel('sres')\n",
    "plt.show()"
   ]
  },
  {
   "cell_type": "code",
   "execution_count": 140,
   "metadata": {},
   "outputs": [
    {
     "data": {
      "text/plain": [
       "<matplotlib.axes._subplots.AxesSubplot at 0x1c1ed7d4e0>"
      ]
     },
     "execution_count": 140,
     "metadata": {},
     "output_type": "execute_result"
    },
    {
     "data": {
      "image/png": "[encoded data removed]",
      "text/plain": [
       "<Figure size 432x288 with 1 Axes>"
      ]
     },
     "metadata": {
      "needs_background": "light"
     },
     "output_type": "display_data"
    }
   ],
   "source": [
    "df.plot.scatter(x = 'Number_of_Cases', y = 'Delivery_Time')"
   ]
  },
  {
   "cell_type": "code",
   "execution_count": 157,
   "metadata": {},
   "outputs": [
    {
     "name": "stdout",
     "output_type": "stream",
     "text": [
      "e)\n",
      "resids are normal (null = normal): pval = 0.885694054429834\n",
      "pval on resids (studentized, aligns with bptest(studentize = True) not ncvTest) (null = homo): 0.4428474243267956\n"
     ]
    }
   ],
   "source": [
    "print ('e)')\n",
    "print ('resids are normal (null = normal): pval = {}'.format(stats.anderson(lm.resid)[0]))\n",
    "_, p_val, __, f_p_val = het_breuschpagan(lm.resid, lm.model.exog)\n",
    "print ('pval on resids (studentized, aligns with bptest(studentize = True) not ncvTest) (null = homo):', f_p_val)"
   ]
  },
  {
   "cell_type": "code",
   "execution_count": 158,
   "metadata": {},
   "outputs": [
    {
     "name": "stdout",
     "output_type": "stream",
     "text": [
      "h)\n",
      "RSE: 1.9865029822874876\n",
      "CI: (41.94145415471653, 49.728545845283485)\n"
     ]
    }
   ],
   "source": [
    "print ('h)')\n",
    "rse = np.sqrt(lm.scale)\n",
    "print ('RSE:', rse)\n",
    "base = 24.835 + (0.140 * 150)\n",
    "ci_lo = base - (1.96 * rse)\n",
    "ci_hi = base + (1.96 * rse)\n",
    "print ('CI:', (ci_lo, ci_hi))"
   ]
  },
  {
   "cell_type": "markdown",
   "metadata": {},
   "source": [
    "<b><font size=4>Question 10</font></b>"
   ]
  },
  {
   "cell_type": "code",
   "execution_count": 181,
   "metadata": {},
   "outputs": [],
   "source": [
    "df = pd.read_csv(data_fpath + 'nbavalues.csv')"
   ]
  },
  {
   "cell_type": "code",
   "execution_count": 182,
   "metadata": {},
   "outputs": [
    {
     "name": "stdout",
     "output_type": "stream",
     "text": [
      "a)\n"
     ]
    },
    {
     "data": {
      "text/html": [
       "<table class=\"simpletable\">\n",
       "<caption>OLS Regression Results</caption>\n",
       "<tr>\n",
       "  <th>Dep. Variable:</th>          <td>Value</td>      <th>  R-squared:         </th> <td>   0.981</td>\n",
       "</tr>\n",
       "<tr>\n",
       "  <th>Model:</th>                   <td>OLS</td>       <th>  Adj. R-squared:    </th> <td>   0.980</td>\n",
       "</tr>\n",
       "<tr>\n",
       "  <th>Method:</th>             <td>Least Squares</td>  <th>  F-statistic:       </th> <td>   1446.</td>\n",
       "</tr>\n",
       "<tr>\n",
       "  <th>Date:</th>             <td>Sat, 20 Apr 2019</td> <th>  Prob (F-statistic):</th> <td>1.21e-25</td>\n",
       "</tr>\n",
       "<tr>\n",
       "  <th>Time:</th>                 <td>17:15:49</td>     <th>  Log-Likelihood:    </th> <td> -119.83</td>\n",
       "</tr>\n",
       "<tr>\n",
       "  <th>No. Observations:</th>      <td>    30</td>      <th>  AIC:               </th> <td>   243.7</td>\n",
       "</tr>\n",
       "<tr>\n",
       "  <th>Df Residuals:</th>          <td>    28</td>      <th>  BIC:               </th> <td>   246.5</td>\n",
       "</tr>\n",
       "<tr>\n",
       "  <th>Df Model:</th>              <td>     1</td>      <th>                     </th>     <td> </td>   \n",
       "</tr>\n",
       "<tr>\n",
       "  <th>Covariance Type:</th>      <td>nonrobust</td>    <th>                     </th>     <td> </td>   \n",
       "</tr>\n",
       "</table>\n",
       "<table class=\"simpletable\">\n",
       "<tr>\n",
       "      <td></td>         <th>coef</th>     <th>std err</th>      <th>t</th>      <th>P>|t|</th>  <th>[0.025</th>    <th>0.975]</th>  \n",
       "</tr>\n",
       "<tr>\n",
       "  <th>Intercept</th> <td>   -6.2448</td> <td>   10.126</td> <td>   -0.617</td> <td> 0.542</td> <td>  -26.987</td> <td>   14.497</td>\n",
       "</tr>\n",
       "<tr>\n",
       "  <th>Revenue</th>   <td>    2.9576</td> <td>    0.078</td> <td>   38.021</td> <td> 0.000</td> <td>    2.798</td> <td>    3.117</td>\n",
       "</tr>\n",
       "</table>\n",
       "<table class=\"simpletable\">\n",
       "<tr>\n",
       "  <th>Omnibus:</th>       <td>25.378</td> <th>  Durbin-Watson:     </th> <td>   1.628</td>\n",
       "</tr>\n",
       "<tr>\n",
       "  <th>Prob(Omnibus):</th> <td> 0.000</td> <th>  Jarque-Bera (JB):  </th> <td>  49.403</td>\n",
       "</tr>\n",
       "<tr>\n",
       "  <th>Skew:</th>          <td> 1.842</td> <th>  Prob(JB):          </th> <td>1.87e-11</td>\n",
       "</tr>\n",
       "<tr>\n",
       "  <th>Kurtosis:</th>      <td> 8.095</td> <th>  Cond. No.          </th> <td>    531.</td>\n",
       "</tr>\n",
       "</table><br/><br/>Warnings:<br/>[1] Standard Errors assume that the covariance matrix of the errors is correctly specified."
      ],
      "text/plain": [
       "<class 'statsmodels.iolib.summary.Summary'>\n",
       "\"\"\"\n",
       "                            OLS Regression Results                            \n",
       "==============================================================================\n",
       "Dep. Variable:                  Value   R-squared:                       0.981\n",
       "Model:                            OLS   Adj. R-squared:                  0.980\n",
       "Method:                 Least Squares   F-statistic:                     1446.\n",
       "Date:                Sat, 20 Apr 2019   Prob (F-statistic):           1.21e-25\n",
       "Time:                        17:15:49   Log-Likelihood:                -119.83\n",
       "No. Observations:                  30   AIC:                             243.7\n",
       "Df Residuals:                      28   BIC:                             246.5\n",
       "Df Model:                           1                                         \n",
       "Covariance Type:            nonrobust                                         \n",
       "==============================================================================\n",
       "                 coef    std err          t      P>|t|      [0.025      0.975]\n",
       "------------------------------------------------------------------------------\n",
       "Intercept     -6.2448     10.126     -0.617      0.542     -26.987      14.497\n",
       "Revenue        2.9576      0.078     38.021      0.000       2.798       3.117\n",
       "==============================================================================\n",
       "Omnibus:                       25.378   Durbin-Watson:                   1.628\n",
       "Prob(Omnibus):                  0.000   Jarque-Bera (JB):               49.403\n",
       "Skew:                           1.842   Prob(JB):                     1.87e-11\n",
       "Kurtosis:                       8.095   Cond. No.                         531.\n",
       "==============================================================================\n",
       "\n",
       "Warnings:\n",
       "[1] Standard Errors assume that the covariance matrix of the errors is correctly specified.\n",
       "\"\"\""
      ]
     },
     "execution_count": 182,
     "metadata": {},
     "output_type": "execute_result"
    }
   ],
   "source": [
    "print ('a)')\n",
    "lm = smf.ols('Value ~ Revenue', data = df).fit()\n",
    "lm.summary()"
   ]
  },
  {
   "cell_type": "code",
   "execution_count": 183,
   "metadata": {},
   "outputs": [
    {
     "name": "stdout",
     "output_type": "stream",
     "text": [
      "f)\n",
      "RSE: 13.596465205535585\n",
      "CI: (410.74099326909584, 464.0391368747953)\n"
     ]
    }
   ],
   "source": [
    "print ('f)')\n",
    "rse = np.sqrt(lm.scale)\n",
    "print ('RSE:', rse)\n",
    "pred_val_x = 150\n",
    "base = lm.params[0] + (lm.params[1] * pred_val_x)\n",
    "ci_lo = base - (1.96 * rse)\n",
    "ci_hi = base + (1.96 * rse)\n",
    "print ('CI:', (ci_lo, ci_hi))"
   ]
  },
  {
   "cell_type": "code",
   "execution_count": 184,
   "metadata": {},
   "outputs": [
    {
     "name": "stdout",
     "output_type": "stream",
     "text": [
      "g)\n"
     ]
    },
    {
     "data": {
      "image/png": "[encoded data removed]",
      "text/plain": [
       "<Figure size 432x288 with 1 Axes>"
      ]
     },
     "metadata": {
      "needs_background": "light"
     },
     "output_type": "display_data"
    }
   ],
   "source": [
    "print ('g)')\n",
    "yhat = lm.fittedvalues\n",
    "sres = lm.get_influence().resid_studentized_internal\n",
    "fig, ax = plt.subplots()\n",
    "sns.residplot(yhat, sres, lowess = True, ax = ax)\n",
    "ax.set_xlabel('yhat')\n",
    "ax.set_ylabel('sres')\n",
    "plt.show()"
   ]
  },
  {
   "cell_type": "markdown",
   "metadata": {},
   "source": [
    "<b>h) soccer team values</b>"
   ]
  },
  {
   "cell_type": "code",
   "execution_count": 185,
   "metadata": {},
   "outputs": [],
   "source": [
    "df_soccer = pd.read_csv(data_fpath + 'soccervalues.csv')"
   ]
  },
  {
   "cell_type": "code",
   "execution_count": 186,
   "metadata": {},
   "outputs": [],
   "source": [
    "df_soccer.columns = ['Team', 'Country', 'Revenue', 'Value']"
   ]
  },
  {
   "cell_type": "code",
   "execution_count": 187,
   "metadata": {},
   "outputs": [
    {
     "name": "stdout",
     "output_type": "stream",
     "text": [
      "a)\n"
     ]
    },
    {
     "data": {
      "text/html": [
       "<table class=\"simpletable\">\n",
       "<caption>OLS Regression Results</caption>\n",
       "<tr>\n",
       "  <th>Dep. Variable:</th>          <td>Value</td>      <th>  R-squared:         </th> <td>   0.785</td>\n",
       "</tr>\n",
       "<tr>\n",
       "  <th>Model:</th>                   <td>OLS</td>       <th>  Adj. R-squared:    </th> <td>   0.773</td>\n",
       "</tr>\n",
       "<tr>\n",
       "  <th>Method:</th>             <td>Least Squares</td>  <th>  F-statistic:       </th> <td>   65.73</td>\n",
       "</tr>\n",
       "<tr>\n",
       "  <th>Date:</th>             <td>Sat, 20 Apr 2019</td> <th>  Prob (F-statistic):</th> <td>2.02e-07</td>\n",
       "</tr>\n",
       "<tr>\n",
       "  <th>Time:</th>                 <td>17:15:56</td>     <th>  Log-Likelihood:    </th> <td> -134.42</td>\n",
       "</tr>\n",
       "<tr>\n",
       "  <th>No. Observations:</th>      <td>    20</td>      <th>  AIC:               </th> <td>   272.8</td>\n",
       "</tr>\n",
       "<tr>\n",
       "  <th>Df Residuals:</th>          <td>    18</td>      <th>  BIC:               </th> <td>   274.8</td>\n",
       "</tr>\n",
       "<tr>\n",
       "  <th>Df Model:</th>              <td>     1</td>      <th>                     </th>     <td> </td>   \n",
       "</tr>\n",
       "<tr>\n",
       "  <th>Covariance Type:</th>      <td>nonrobust</td>    <th>                     </th>     <td> </td>   \n",
       "</tr>\n",
       "</table>\n",
       "<table class=\"simpletable\">\n",
       "<tr>\n",
       "      <td></td>         <th>coef</th>     <th>std err</th>      <th>t</th>      <th>P>|t|</th>  <th>[0.025</th>    <th>0.975]</th>  \n",
       "</tr>\n",
       "<tr>\n",
       "  <th>Intercept</th> <td> -219.2456</td> <td>  115.190</td> <td>   -1.903</td> <td> 0.073</td> <td> -461.250</td> <td>   22.759</td>\n",
       "</tr>\n",
       "<tr>\n",
       "  <th>Revenue</th>   <td>    3.0757</td> <td>    0.379</td> <td>    8.108</td> <td> 0.000</td> <td>    2.279</td> <td>    3.873</td>\n",
       "</tr>\n",
       "</table>\n",
       "<table class=\"simpletable\">\n",
       "<tr>\n",
       "  <th>Omnibus:</th>       <td>14.116</td> <th>  Durbin-Watson:     </th> <td>   1.991</td>\n",
       "</tr>\n",
       "<tr>\n",
       "  <th>Prob(Omnibus):</th> <td> 0.001</td> <th>  Jarque-Bera (JB):  </th> <td>  14.043</td>\n",
       "</tr>\n",
       "<tr>\n",
       "  <th>Skew:</th>          <td> 1.352</td> <th>  Prob(JB):          </th> <td>0.000892</td>\n",
       "</tr>\n",
       "<tr>\n",
       "  <th>Kurtosis:</th>      <td> 6.088</td> <th>  Cond. No.          </th> <td>    739.</td>\n",
       "</tr>\n",
       "</table><br/><br/>Warnings:<br/>[1] Standard Errors assume that the covariance matrix of the errors is correctly specified."
      ],
      "text/plain": [
       "<class 'statsmodels.iolib.summary.Summary'>\n",
       "\"\"\"\n",
       "                            OLS Regression Results                            \n",
       "==============================================================================\n",
       "Dep. Variable:                  Value   R-squared:                       0.785\n",
       "Model:                            OLS   Adj. R-squared:                  0.773\n",
       "Method:                 Least Squares   F-statistic:                     65.73\n",
       "Date:                Sat, 20 Apr 2019   Prob (F-statistic):           2.02e-07\n",
       "Time:                        17:15:56   Log-Likelihood:                -134.42\n",
       "No. Observations:                  20   AIC:                             272.8\n",
       "Df Residuals:                      18   BIC:                             274.8\n",
       "Df Model:                           1                                         \n",
       "Covariance Type:            nonrobust                                         \n",
       "==============================================================================\n",
       "                 coef    std err          t      P>|t|      [0.025      0.975]\n",
       "------------------------------------------------------------------------------\n",
       "Intercept   -219.2456    115.190     -1.903      0.073    -461.250      22.759\n",
       "Revenue        3.0757      0.379      8.108      0.000       2.279       3.873\n",
       "==============================================================================\n",
       "Omnibus:                       14.116   Durbin-Watson:                   1.991\n",
       "Prob(Omnibus):                  0.001   Jarque-Bera (JB):               14.043\n",
       "Skew:                           1.352   Prob(JB):                     0.000892\n",
       "Kurtosis:                       6.088   Cond. No.                         739.\n",
       "==============================================================================\n",
       "\n",
       "Warnings:\n",
       "[1] Standard Errors assume that the covariance matrix of the errors is correctly specified.\n",
       "\"\"\""
      ]
     },
     "execution_count": 187,
     "metadata": {},
     "output_type": "execute_result"
    }
   ],
   "source": [
    "print ('a)')\n",
    "lm_soccer = smf.ols('Value ~ Revenue', data = df_soccer).fit()\n",
    "lm_soccer.summary()"
   ]
  },
  {
   "cell_type": "code",
   "execution_count": 188,
   "metadata": {},
   "outputs": [
    {
     "name": "stdout",
     "output_type": "stream",
     "text": [
      "f)\n",
      "RSE: 211.59491977721828\n",
      "CI: (-172.6231149377466, 656.828970588949)\n"
     ]
    }
   ],
   "source": [
    "print ('f)')\n",
    "rse = np.sqrt(lm_soccer.scale)\n",
    "print ('RSE:', rse)\n",
    "pred_val_x = 150\n",
    "base = lm_soccer.params[0] + (lm_soccer.params[1] * pred_val_x)\n",
    "ci_lo = base - (1.96 * rse)\n",
    "ci_hi = base + (1.96 * rse)\n",
    "print ('CI:', (ci_lo, ci_hi))"
   ]
  },
  {
   "cell_type": "code",
   "execution_count": 189,
   "metadata": {},
   "outputs": [
    {
     "name": "stdout",
     "output_type": "stream",
     "text": [
      "g)\n"
     ]
    },
    {
     "data": {
      "image/png": "[encoded data removed]",
      "text/plain": [
       "<Figure size 432x288 with 1 Axes>"
      ]
     },
     "metadata": {
      "needs_background": "light"
     },
     "output_type": "display_data"
    }
   ],
   "source": [
    "print ('g)')\n",
    "yhat = lm_soccer.fittedvalues\n",
    "sres = lm_soccer.get_influence().resid_studentized_internal\n",
    "fig, ax = plt.subplots()\n",
    "sns.residplot(yhat, sres, lowess = True, ax = ax)\n",
    "ax.set_xlabel('yhat')\n",
    "ax.set_ylabel('sres')\n",
    "plt.show()"
   ]
  },
  {
   "cell_type": "markdown",
   "metadata": {},
   "source": [
    "<b><font size=4>Question 11</font></b>"
   ]
  },
  {
   "cell_type": "code",
   "execution_count": 190,
   "metadata": {},
   "outputs": [],
   "source": [
    "df = pd.read_csv(data_fpath + 'food.csv')"
   ]
  },
  {
   "cell_type": "code",
   "execution_count": 192,
   "metadata": {},
   "outputs": [
    {
     "name": "stdout",
     "output_type": "stream",
     "text": [
      "a)\n"
     ]
    },
    {
     "data": {
      "text/html": [
       "<table class=\"simpletable\">\n",
       "<caption>OLS Regression Results</caption>\n",
       "<tr>\n",
       "  <th>Dep. Variable:</th>          <td>food</td>       <th>  R-squared:         </th> <td>   0.384</td>\n",
       "</tr>\n",
       "<tr>\n",
       "  <th>Model:</th>                   <td>OLS</td>       <th>  Adj. R-squared:    </th> <td>   0.348</td>\n",
       "</tr>\n",
       "<tr>\n",
       "  <th>Method:</th>             <td>Least Squares</td>  <th>  F-statistic:       </th> <td>   10.61</td>\n",
       "</tr>\n",
       "<tr>\n",
       "  <th>Date:</th>             <td>Sat, 20 Apr 2019</td> <th>  Prob (F-statistic):</th> <td>1.57e-05</td>\n",
       "</tr>\n",
       "<tr>\n",
       "  <th>Time:</th>                 <td>17:21:12</td>     <th>  Log-Likelihood:    </th> <td> -345.74</td>\n",
       "</tr>\n",
       "<tr>\n",
       "  <th>No. Observations:</th>      <td>    55</td>      <th>  AIC:               </th> <td>   699.5</td>\n",
       "</tr>\n",
       "<tr>\n",
       "  <th>Df Residuals:</th>          <td>    51</td>      <th>  BIC:               </th> <td>   707.5</td>\n",
       "</tr>\n",
       "<tr>\n",
       "  <th>Df Model:</th>              <td>     3</td>      <th>                     </th>     <td> </td>   \n",
       "</tr>\n",
       "<tr>\n",
       "  <th>Covariance Type:</th>      <td>nonrobust</td>    <th>                     </th>     <td> </td>   \n",
       "</tr>\n",
       "</table>\n",
       "<table class=\"simpletable\">\n",
       "<tr>\n",
       "      <td></td>         <th>coef</th>     <th>std err</th>      <th>t</th>      <th>P>|t|</th>  <th>[0.025</th>    <th>0.975]</th>  \n",
       "</tr>\n",
       "<tr>\n",
       "  <th>Intercept</th> <td>  592.6149</td> <td>   90.491</td> <td>    6.549</td> <td> 0.000</td> <td>  410.947</td> <td>  774.283</td>\n",
       "</tr>\n",
       "<tr>\n",
       "  <th>people</th>    <td>   44.2289</td> <td>   12.209</td> <td>    3.623</td> <td> 0.001</td> <td>   19.719</td> <td>   68.739</td>\n",
       "</tr>\n",
       "<tr>\n",
       "  <th>income</th>    <td>    0.2522</td> <td>    0.070</td> <td>    3.611</td> <td> 0.001</td> <td>    0.112</td> <td>    0.392</td>\n",
       "</tr>\n",
       "<tr>\n",
       "  <th>teens</th>     <td>   27.8032</td> <td>   24.502</td> <td>    1.135</td> <td> 0.262</td> <td>  -21.387</td> <td>   76.993</td>\n",
       "</tr>\n",
       "</table>\n",
       "<table class=\"simpletable\">\n",
       "<tr>\n",
       "  <th>Omnibus:</th>       <td> 9.848</td> <th>  Durbin-Watson:     </th> <td>   1.636</td>\n",
       "</tr>\n",
       "<tr>\n",
       "  <th>Prob(Omnibus):</th> <td> 0.007</td> <th>  Jarque-Bera (JB):  </th> <td>   9.787</td>\n",
       "</tr>\n",
       "<tr>\n",
       "  <th>Skew:</th>          <td> 0.815</td> <th>  Prob(JB):          </th> <td> 0.00750</td>\n",
       "</tr>\n",
       "<tr>\n",
       "  <th>Kurtosis:</th>      <td> 4.271</td> <th>  Cond. No.          </th> <td>5.80e+03</td>\n",
       "</tr>\n",
       "</table><br/><br/>Warnings:<br/>[1] Standard Errors assume that the covariance matrix of the errors is correctly specified.<br/>[2] The condition number is large, 5.8e+03. This might indicate that there are<br/>strong multicollinearity or other numerical problems."
      ],
      "text/plain": [
       "<class 'statsmodels.iolib.summary.Summary'>\n",
       "\"\"\"\n",
       "                            OLS Regression Results                            \n",
       "==============================================================================\n",
       "Dep. Variable:                   food   R-squared:                       0.384\n",
       "Model:                            OLS   Adj. R-squared:                  0.348\n",
       "Method:                 Least Squares   F-statistic:                     10.61\n",
       "Date:                Sat, 20 Apr 2019   Prob (F-statistic):           1.57e-05\n",
       "Time:                        17:21:12   Log-Likelihood:                -345.74\n",
       "No. Observations:                  55   AIC:                             699.5\n",
       "Df Residuals:                      51   BIC:                             707.5\n",
       "Df Model:                           3                                         \n",
       "Covariance Type:            nonrobust                                         \n",
       "==============================================================================\n",
       "                 coef    std err          t      P>|t|      [0.025      0.975]\n",
       "------------------------------------------------------------------------------\n",
       "Intercept    592.6149     90.491      6.549      0.000     410.947     774.283\n",
       "people        44.2289     12.209      3.623      0.001      19.719      68.739\n",
       "income         0.2522      0.070      3.611      0.001       0.112       0.392\n",
       "teens         27.8032     24.502      1.135      0.262     -21.387      76.993\n",
       "==============================================================================\n",
       "Omnibus:                        9.848   Durbin-Watson:                   1.636\n",
       "Prob(Omnibus):                  0.007   Jarque-Bera (JB):                9.787\n",
       "Skew:                           0.815   Prob(JB):                      0.00750\n",
       "Kurtosis:                       4.271   Cond. No.                     5.80e+03\n",
       "==============================================================================\n",
       "\n",
       "Warnings:\n",
       "[1] Standard Errors assume that the covariance matrix of the errors is correctly specified.\n",
       "[2] The condition number is large, 5.8e+03. This might indicate that there are\n",
       "strong multicollinearity or other numerical problems.\n",
       "\"\"\""
      ]
     },
     "execution_count": 192,
     "metadata": {},
     "output_type": "execute_result"
    }
   ],
   "source": [
    "print ('a)')\n",
    "lm = smf.ols('food ~ people + income + teens', data = df).fit()\n",
    "lm.summary()"
   ]
  },
  {
   "cell_type": "code",
   "execution_count": 196,
   "metadata": {},
   "outputs": [
    {
     "name": "stdout",
     "output_type": "stream",
     "text": [
      "d)\n"
     ]
    },
    {
     "data": {
      "text/plain": [
       "1144.2349360168714"
      ]
     },
     "execution_count": 196,
     "metadata": {},
     "output_type": "execute_result"
    }
   ],
   "source": [
    "print ('d)')\n",
    "lm.params[0] + lm.params[1]*5 + lm.params[2]*1200 + lm.params[3]*1"
   ]
  },
  {
   "cell_type": "code",
   "execution_count": 197,
   "metadata": {},
   "outputs": [
    {
     "name": "stdout",
     "output_type": "stream",
     "text": [
      "f)\n"
     ]
    },
    {
     "data": {
      "image/png": "[encoded data removed]",
      "text/plain": [
       "<Figure size 432x288 with 1 Axes>"
      ]
     },
     "metadata": {
      "needs_background": "light"
     },
     "output_type": "display_data"
    }
   ],
   "source": [
    "print ('f)')\n",
    "yhat = lm.fittedvalues\n",
    "sres = lm.get_influence().resid_studentized_internal\n",
    "fig, ax = plt.subplots()\n",
    "sns.residplot(yhat, sres, lowess = True, ax = ax)\n",
    "ax.set_xlabel('yhat')\n",
    "ax.set_ylabel('sres')\n",
    "plt.show()"
   ]
  },
  {
   "cell_type": "markdown",
   "metadata": {},
   "source": [
    "<b><font size=4>Question 12</font></b>"
   ]
  },
  {
   "cell_type": "code",
   "execution_count": 198,
   "metadata": {},
   "outputs": [],
   "source": [
    "df = pd.read_csv(data_fpath + 'laptops.csv')"
   ]
  },
  {
   "cell_type": "code",
   "execution_count": 203,
   "metadata": {},
   "outputs": [
    {
     "name": "stdout",
     "output_type": "stream",
     "text": [
      "a)\n"
     ]
    },
    {
     "data": {
      "text/html": [
       "<table class=\"simpletable\">\n",
       "<caption>OLS Regression Results</caption>\n",
       "<tr>\n",
       "  <th>Dep. Variable:</th>          <td>price</td>      <th>  R-squared:         </th> <td>   0.117</td>\n",
       "</tr>\n",
       "<tr>\n",
       "  <th>Model:</th>                   <td>OLS</td>       <th>  Adj. R-squared:    </th> <td>   0.040</td>\n",
       "</tr>\n",
       "<tr>\n",
       "  <th>Method:</th>             <td>Least Squares</td>  <th>  F-statistic:       </th> <td>   1.514</td>\n",
       "</tr>\n",
       "<tr>\n",
       "  <th>Date:</th>             <td>Sat, 20 Apr 2019</td> <th>  Prob (F-statistic):</th>  <td> 0.200</td> \n",
       "</tr>\n",
       "<tr>\n",
       "  <th>Time:</th>                 <td>17:35:18</td>     <th>  Log-Likelihood:    </th> <td> -477.99</td>\n",
       "</tr>\n",
       "<tr>\n",
       "  <th>No. Observations:</th>      <td>    63</td>      <th>  AIC:               </th> <td>   968.0</td>\n",
       "</tr>\n",
       "<tr>\n",
       "  <th>Df Residuals:</th>          <td>    57</td>      <th>  BIC:               </th> <td>   980.8</td>\n",
       "</tr>\n",
       "<tr>\n",
       "  <th>Df Model:</th>              <td>     5</td>      <th>                     </th>     <td> </td>   \n",
       "</tr>\n",
       "<tr>\n",
       "  <th>Covariance Type:</th>      <td>nonrobust</td>    <th>                     </th>     <td> </td>   \n",
       "</tr>\n",
       "</table>\n",
       "<table class=\"simpletable\">\n",
       "<tr>\n",
       "       <td></td>         <th>coef</th>     <th>std err</th>      <th>t</th>      <th>P>|t|</th>  <th>[0.025</th>    <th>0.975]</th>  \n",
       "</tr>\n",
       "<tr>\n",
       "  <th>Intercept</th>  <td>  761.4987</td> <td>  946.954</td> <td>    0.804</td> <td> 0.425</td> <td>-1134.744</td> <td> 2657.741</td>\n",
       "</tr>\n",
       "<tr>\n",
       "  <th>screensize</th> <td>    4.1113</td> <td>   96.206</td> <td>    0.043</td> <td> 0.966</td> <td> -188.539</td> <td>  196.761</td>\n",
       "</tr>\n",
       "<tr>\n",
       "  <th>ram</th>        <td>   12.8642</td> <td>   74.411</td> <td>    0.173</td> <td> 0.863</td> <td> -136.141</td> <td>  161.870</td>\n",
       "</tr>\n",
       "<tr>\n",
       "  <th>harddrive</th>  <td>    0.6561</td> <td>    0.459</td> <td>    1.429</td> <td> 0.159</td> <td>   -0.263</td> <td>    1.576</td>\n",
       "</tr>\n",
       "<tr>\n",
       "  <th>usbports</th>   <td> -206.5346</td> <td>  123.563</td> <td>   -1.671</td> <td> 0.100</td> <td> -453.965</td> <td>   40.896</td>\n",
       "</tr>\n",
       "<tr>\n",
       "  <th>weight</th>     <td>   51.6251</td> <td>   99.210</td> <td>    0.520</td> <td> 0.605</td> <td> -147.040</td> <td>  250.290</td>\n",
       "</tr>\n",
       "</table>\n",
       "<table class=\"simpletable\">\n",
       "<tr>\n",
       "  <th>Omnibus:</th>       <td> 9.835</td> <th>  Durbin-Watson:     </th> <td>   1.792</td>\n",
       "</tr>\n",
       "<tr>\n",
       "  <th>Prob(Omnibus):</th> <td> 0.007</td> <th>  Jarque-Bera (JB):  </th> <td>  10.384</td>\n",
       "</tr>\n",
       "<tr>\n",
       "  <th>Skew:</th>          <td> 0.993</td> <th>  Prob(JB):          </th> <td> 0.00556</td>\n",
       "</tr>\n",
       "<tr>\n",
       "  <th>Kurtosis:</th>      <td> 3.102</td> <th>  Cond. No.          </th> <td>8.40e+03</td>\n",
       "</tr>\n",
       "</table><br/><br/>Warnings:<br/>[1] Standard Errors assume that the covariance matrix of the errors is correctly specified.<br/>[2] The condition number is large, 8.4e+03. This might indicate that there are<br/>strong multicollinearity or other numerical problems."
      ],
      "text/plain": [
       "<class 'statsmodels.iolib.summary.Summary'>\n",
       "\"\"\"\n",
       "                            OLS Regression Results                            \n",
       "==============================================================================\n",
       "Dep. Variable:                  price   R-squared:                       0.117\n",
       "Model:                            OLS   Adj. R-squared:                  0.040\n",
       "Method:                 Least Squares   F-statistic:                     1.514\n",
       "Date:                Sat, 20 Apr 2019   Prob (F-statistic):              0.200\n",
       "Time:                        17:35:18   Log-Likelihood:                -477.99\n",
       "No. Observations:                  63   AIC:                             968.0\n",
       "Df Residuals:                      57   BIC:                             980.8\n",
       "Df Model:                           5                                         \n",
       "Covariance Type:            nonrobust                                         \n",
       "==============================================================================\n",
       "                 coef    std err          t      P>|t|      [0.025      0.975]\n",
       "------------------------------------------------------------------------------\n",
       "Intercept    761.4987    946.954      0.804      0.425   -1134.744    2657.741\n",
       "screensize     4.1113     96.206      0.043      0.966    -188.539     196.761\n",
       "ram           12.8642     74.411      0.173      0.863    -136.141     161.870\n",
       "harddrive      0.6561      0.459      1.429      0.159      -0.263       1.576\n",
       "usbports    -206.5346    123.563     -1.671      0.100    -453.965      40.896\n",
       "weight        51.6251     99.210      0.520      0.605    -147.040     250.290\n",
       "==============================================================================\n",
       "Omnibus:                        9.835   Durbin-Watson:                   1.792\n",
       "Prob(Omnibus):                  0.007   Jarque-Bera (JB):               10.384\n",
       "Skew:                           0.993   Prob(JB):                      0.00556\n",
       "Kurtosis:                       3.102   Cond. No.                     8.40e+03\n",
       "==============================================================================\n",
       "\n",
       "Warnings:\n",
       "[1] Standard Errors assume that the covariance matrix of the errors is correctly specified.\n",
       "[2] The condition number is large, 8.4e+03. This might indicate that there are\n",
       "strong multicollinearity or other numerical problems.\n",
       "\"\"\""
      ]
     },
     "execution_count": 203,
     "metadata": {},
     "output_type": "execute_result"
    }
   ],
   "source": [
    "print ('a)')\n",
    "lm = smf.ols('price ~ screensize + ram + harddrive + usbports + weight', data = df).fit()\n",
    "lm.summary()"
   ]
  },
  {
   "cell_type": "code",
   "execution_count": 204,
   "metadata": {},
   "outputs": [
    {
     "name": "stdout",
     "output_type": "stream",
     "text": [
      "d)\n"
     ]
    },
    {
     "data": {
      "image/png": "[encoded data removed]",
      "text/plain": [
       "<Figure size 432x288 with 1 Axes>"
      ]
     },
     "metadata": {
      "needs_background": "light"
     },
     "output_type": "display_data"
    }
   ],
   "source": [
    "print ('d)')\n",
    "yhat = lm.fittedvalues\n",
    "sres = lm.get_influence().resid_studentized_internal\n",
    "fig, ax = plt.subplots()\n",
    "sns.residplot(yhat, sres, lowess = True, ax = ax)\n",
    "ax.set_xlabel('yhat')\n",
    "ax.set_ylabel('sres')\n",
    "plt.show()"
   ]
  },
  {
   "cell_type": "markdown",
   "metadata": {},
   "source": [
    "<b><font size=4>Question 13</font></b>"
   ]
  },
  {
   "cell_type": "code",
   "execution_count": 206,
   "metadata": {},
   "outputs": [],
   "source": [
    "df = pd.read_csv(data_fpath + 'aapl.csv')"
   ]
  },
  {
   "cell_type": "code",
   "execution_count": 210,
   "metadata": {},
   "outputs": [
    {
     "name": "stdout",
     "output_type": "stream",
     "text": [
      "a)\n"
     ]
    },
    {
     "data": {
      "text/plain": [
       "<matplotlib.axes._subplots.AxesSubplot at 0x1c1f148eb8>"
      ]
     },
     "execution_count": 210,
     "metadata": {},
     "output_type": "execute_result"
    },
    {
     "data": {
      "image/png": "[encoded data removed]",
      "text/plain": [
       "<Figure size 432x288 with 1 Axes>"
      ]
     },
     "metadata": {
      "needs_background": "light"
     },
     "output_type": "display_data"
    }
   ],
   "source": [
    "print ('a)')\n",
    "df.plot.scatter(x = 'VFINX', y = 'AAPL')"
   ]
  },
  {
   "cell_type": "code",
   "execution_count": 211,
   "metadata": {},
   "outputs": [
    {
     "name": "stdout",
     "output_type": "stream",
     "text": [
      "b)\n"
     ]
    },
    {
     "data": {
      "text/html": [
       "<table class=\"simpletable\">\n",
       "<caption>OLS Regression Results</caption>\n",
       "<tr>\n",
       "  <th>Dep. Variable:</th>          <td>AAPL</td>       <th>  R-squared:         </th> <td>   0.144</td>\n",
       "</tr>\n",
       "<tr>\n",
       "  <th>Model:</th>                   <td>OLS</td>       <th>  Adj. R-squared:    </th> <td>   0.120</td>\n",
       "</tr>\n",
       "<tr>\n",
       "  <th>Method:</th>             <td>Least Squares</td>  <th>  F-statistic:       </th> <td>   5.902</td>\n",
       "</tr>\n",
       "<tr>\n",
       "  <th>Date:</th>             <td>Sat, 20 Apr 2019</td> <th>  Prob (F-statistic):</th>  <td>0.0204</td> \n",
       "</tr>\n",
       "<tr>\n",
       "  <th>Time:</th>                 <td>17:45:31</td>     <th>  Log-Likelihood:    </th> <td>  45.422</td>\n",
       "</tr>\n",
       "<tr>\n",
       "  <th>No. Observations:</th>      <td>    37</td>      <th>  AIC:               </th> <td>  -86.84</td>\n",
       "</tr>\n",
       "<tr>\n",
       "  <th>Df Residuals:</th>          <td>    35</td>      <th>  BIC:               </th> <td>  -83.62</td>\n",
       "</tr>\n",
       "<tr>\n",
       "  <th>Df Model:</th>              <td>     1</td>      <th>                     </th>     <td> </td>   \n",
       "</tr>\n",
       "<tr>\n",
       "  <th>Covariance Type:</th>      <td>nonrobust</td>    <th>                     </th>     <td> </td>   \n",
       "</tr>\n",
       "</table>\n",
       "<table class=\"simpletable\">\n",
       "<tr>\n",
       "      <td></td>         <th>coef</th>     <th>std err</th>      <th>t</th>      <th>P>|t|</th>  <th>[0.025</th>    <th>0.975]</th>  \n",
       "</tr>\n",
       "<tr>\n",
       "  <th>Intercept</th> <td>    0.0097</td> <td>    0.013</td> <td>    0.762</td> <td> 0.451</td> <td>   -0.016</td> <td>    0.036</td>\n",
       "</tr>\n",
       "<tr>\n",
       "  <th>VFINX</th>     <td>    0.9606</td> <td>    0.395</td> <td>    2.429</td> <td> 0.020</td> <td>    0.158</td> <td>    1.763</td>\n",
       "</tr>\n",
       "</table>\n",
       "<table class=\"simpletable\">\n",
       "<tr>\n",
       "  <th>Omnibus:</th>       <td> 4.478</td> <th>  Durbin-Watson:     </th> <td>   2.306</td>\n",
       "</tr>\n",
       "<tr>\n",
       "  <th>Prob(Omnibus):</th> <td> 0.107</td> <th>  Jarque-Bera (JB):  </th> <td>   3.151</td>\n",
       "</tr>\n",
       "<tr>\n",
       "  <th>Skew:</th>          <td>-0.513</td> <th>  Prob(JB):          </th> <td>   0.207</td>\n",
       "</tr>\n",
       "<tr>\n",
       "  <th>Kurtosis:</th>      <td> 3.997</td> <th>  Cond. No.          </th> <td>    33.0</td>\n",
       "</tr>\n",
       "</table><br/><br/>Warnings:<br/>[1] Standard Errors assume that the covariance matrix of the errors is correctly specified."
      ],
      "text/plain": [
       "<class 'statsmodels.iolib.summary.Summary'>\n",
       "\"\"\"\n",
       "                            OLS Regression Results                            \n",
       "==============================================================================\n",
       "Dep. Variable:                   AAPL   R-squared:                       0.144\n",
       "Model:                            OLS   Adj. R-squared:                  0.120\n",
       "Method:                 Least Squares   F-statistic:                     5.902\n",
       "Date:                Sat, 20 Apr 2019   Prob (F-statistic):             0.0204\n",
       "Time:                        17:45:31   Log-Likelihood:                 45.422\n",
       "No. Observations:                  37   AIC:                            -86.84\n",
       "Df Residuals:                      35   BIC:                            -83.62\n",
       "Df Model:                           1                                         \n",
       "Covariance Type:            nonrobust                                         \n",
       "==============================================================================\n",
       "                 coef    std err          t      P>|t|      [0.025      0.975]\n",
       "------------------------------------------------------------------------------\n",
       "Intercept      0.0097      0.013      0.762      0.451      -0.016       0.036\n",
       "VFINX          0.9606      0.395      2.429      0.020       0.158       1.763\n",
       "==============================================================================\n",
       "Omnibus:                        4.478   Durbin-Watson:                   2.306\n",
       "Prob(Omnibus):                  0.107   Jarque-Bera (JB):                3.151\n",
       "Skew:                          -0.513   Prob(JB):                        0.207\n",
       "Kurtosis:                       3.997   Cond. No.                         33.0\n",
       "==============================================================================\n",
       "\n",
       "Warnings:\n",
       "[1] Standard Errors assume that the covariance matrix of the errors is correctly specified.\n",
       "\"\"\""
      ]
     },
     "execution_count": 211,
     "metadata": {},
     "output_type": "execute_result"
    }
   ],
   "source": [
    "print ('b)')\n",
    "lm = smf.ols('AAPL ~ VFINX', data = df).fit()\n",
    "lm.summary()"
   ]
  },
  {
   "cell_type": "code",
   "execution_count": 213,
   "metadata": {},
   "outputs": [
    {
     "data": {
      "text/plain": [
       "0.1864"
      ]
     },
     "execution_count": 213,
     "metadata": {},
     "output_type": "execute_result"
    }
   ],
   "source": [
    "0.9606 - 1.96*0.395"
   ]
  },
  {
   "cell_type": "code",
   "execution_count": null,
   "metadata": {},
   "outputs": [],
   "source": []
  }
 ],
 "metadata": {
  "kernelspec": {
   "display_name": "Python 3",
   "language": "python",
   "name": "python3"
  },
  "language_info": {
   "codemirror_mode": {
    "name": "ipython",
    "version": 3
   },
   "file_extension": ".py",
   "mimetype": "text/x-python",
   "name": "python",
   "nbconvert_exporter": "python",
   "pygments_lexer": "ipython3",
   "version": "3.6.8"
  }
 },
 "nbformat": 4,
 "nbformat_minor": 2
}

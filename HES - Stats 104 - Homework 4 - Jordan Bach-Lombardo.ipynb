{
 "cells": [
  {
   "cell_type": "code",
   "execution_count": 2,
   "metadata": {},
   "outputs": [],
   "source": [
    "import pandas as pd\n",
    "import numpy as np\n",
    "from scipy import stats\n",
    "import matplotlib.pyplot as plt"
   ]
  },
  {
   "cell_type": "code",
   "execution_count": 46,
   "metadata": {},
   "outputs": [],
   "source": [
    "def get_conf_interval_from_sample(n, mean, sigma, alpha = 0.95) :\n",
    "    \"\"\"Get confidence interval from sample data with sample of n, mean, sigma,\n",
    "    where df = n-1 and confidence interval is set at 95%.\n",
    "    Equivalent to getting confidence interval using t.test / tsum.test in R\"\"\"\n",
    "    df = n-1\n",
    "    scale = sigma / np.sqrt(n)\n",
    "    return stats.t.interval(alpha=alpha, df=df, loc=mean, scale=scale)"
   ]
  },
  {
   "cell_type": "markdown",
   "metadata": {},
   "source": [
    "<b><font size=4>Question 7</font></b>"
   ]
  },
  {
   "cell_type": "code",
   "execution_count": 43,
   "metadata": {},
   "outputs": [
    {
     "name": "stdout",
     "output_type": "stream",
     "text": [
      "b)\n"
     ]
    },
    {
     "data": {
      "text/plain": [
       "0.5762892028332067"
      ]
     },
     "execution_count": 43,
     "metadata": {},
     "output_type": "execute_result"
    }
   ],
   "source": [
    "print ('b)')\n",
    "mean = 215000\n",
    "sigma = 25000\n",
    "n = 100\n",
    "scale = sigma / np.sqrt(n)\n",
    "stats.norm.cdf(217000, mean, scale) - stats.norm.cdf(213000, mean, scale)"
   ]
  },
  {
   "cell_type": "markdown",
   "metadata": {},
   "source": [
    "<b><font size=4>Question 12</font></b>"
   ]
  },
  {
   "cell_type": "code",
   "execution_count": 45,
   "metadata": {},
   "outputs": [
    {
     "data": {
      "text/plain": [
       "(1143.517597933666, 1396.482402066334)"
      ]
     },
     "execution_count": 45,
     "metadata": {},
     "output_type": "execute_result"
    }
   ],
   "source": [
    "get_conf_interval_from_sample(45, 1270, 421)"
   ]
  },
  {
   "cell_type": "markdown",
   "metadata": {},
   "source": [
    "<b><font size=4>Question 13</font></b>"
   ]
  },
  {
   "cell_type": "code",
   "execution_count": 48,
   "metadata": {},
   "outputs": [
    {
     "data": {
      "text/plain": [
       "(44.79492690784037, 49.20507309215963)"
      ]
     },
     "execution_count": 48,
     "metadata": {},
     "output_type": "execute_result"
    }
   ],
   "source": [
    "get_conf_interval_from_sample(53, 47, 8)"
   ]
  },
  {
   "cell_type": "markdown",
   "metadata": {},
   "source": [
    "<b><font size=4>Question 14</font></b>"
   ]
  },
  {
   "cell_type": "code",
   "execution_count": 51,
   "metadata": {},
   "outputs": [
    {
     "data": {
      "text/plain": [
       "(1495.895089545389, 1704.104910454611)"
      ]
     },
     "execution_count": 51,
     "metadata": {},
     "output_type": "execute_result"
    }
   ],
   "source": [
    "get_conf_interval_from_sample(250, 1600, 997, alpha = 0.90)"
   ]
  },
  {
   "cell_type": "markdown",
   "metadata": {},
   "source": [
    "<b><font size=4>Question 15</font></b>"
   ]
  },
  {
   "cell_type": "code",
   "execution_count": 52,
   "metadata": {},
   "outputs": [],
   "source": [
    "survey = pd.read_csv('http://people.fas.harvard.edu/~mparzen/stat100/stat111_survey.csv')"
   ]
  },
  {
   "cell_type": "code",
   "execution_count": 59,
   "metadata": {},
   "outputs": [
    {
     "name": "stdout",
     "output_type": "stream",
     "text": [
      "a) sleep\n",
      "n: 92\n",
      "mean: 7.961111111111111\n",
      "sigma: 6.1663402079798795\n",
      "confidence interval: 0.9\n",
      "(6.89278268465232, 9.029439537569901)\n"
     ]
    }
   ],
   "source": [
    "print ('a) sleep')\n",
    "sleep = survey['sleep']\n",
    "n_sleep = len(sleep)\n",
    "mean_sleep = sleep.mean()\n",
    "s_sleep = sleep.std()\n",
    "conf_int = 0.9\n",
    "print (\"\"\"n: {}\n",
    "mean: {}\n",
    "sigma: {}\n",
    "confidence interval: {}\"\"\".format(n_sleep, mean_sleep, s_sleep, conf_int))\n",
    "print(get_conf_interval_from_sample(n_sleep, mean_sleep, s_sleep, alpha = conf_int))"
   ]
  },
  {
   "cell_type": "code",
   "execution_count": 60,
   "metadata": {},
   "outputs": [
    {
     "name": "stdout",
     "output_type": "stream",
     "text": [
      "b) haircut\n",
      "n: 92\n",
      "mean: 33.49444444444445\n",
      "sigma: 39.3757820999155\n",
      "confidence interval: 0.99\n",
      "(22.69388380697559, 44.2950050819133)\n"
     ]
    }
   ],
   "source": [
    "print ('b) haircut')\n",
    "haircut = survey['haircut']\n",
    "n_haircut = len(haircut)\n",
    "mean_haircut = haircut.mean()\n",
    "s_haircut = haircut.std()\n",
    "conf_int = 0.99\n",
    "print (\"\"\"n: {}\n",
    "mean: {}\n",
    "sigma: {}\n",
    "confidence interval: {}\"\"\".format(n_haircut, mean_haircut, s_haircut, conf_int))\n",
    "print(get_conf_interval_from_sample(n_haircut, mean_haircut, s_haircut, alpha = conf_int))"
   ]
  },
  {
   "cell_type": "markdown",
   "metadata": {},
   "source": [
    "Quiz problems"
   ]
  },
  {
   "cell_type": "code",
   "execution_count": 61,
   "metadata": {},
   "outputs": [
    {
     "data": {
      "text/plain": [
       "(1138.0645700369241, 1361.9354299630759)"
      ]
     },
     "execution_count": 61,
     "metadata": {},
     "output_type": "execute_result"
    }
   ],
   "source": [
    "#14\n",
    "get_conf_interval_from_sample(40, 1250, 350)"
   ]
  },
  {
   "cell_type": "code",
   "execution_count": 62,
   "metadata": {},
   "outputs": [
    {
     "data": {
      "text/plain": [
       "0.1477482905108629"
      ]
     },
     "execution_count": 62,
     "metadata": {},
     "output_type": "execute_result"
    }
   ],
   "source": [
    "#12\n",
    "mean = 90\n",
    "sigma = 35\n",
    "n = 40\n",
    "scale = sigma / np.sqrt(n)\n",
    "stats.norm.cdf(100, mean, scale) - stats.norm.cdf(95, mean, scale)"
   ]
  },
  {
   "cell_type": "code",
   "execution_count": 63,
   "metadata": {},
   "outputs": [
    {
     "name": "stdout",
     "output_type": "stream",
     "text": [
      "0.5765536096569266 -0.9609226827615429\n"
     ]
    }
   ],
   "source": [
    "#11\n",
    "b = 0.16\n",
    "a = 0.112\n",
    "p = 0.142\n",
    "n = 125\n",
    "s2 = (0.142 * 0.858) / n\n",
    "\n",
    "high = (b-p)/np.sqrt(s2)\n",
    "low = (a-p)/np.sqrt(s2)\n",
    "print (high, low)"
   ]
  },
  {
   "cell_type": "code",
   "execution_count": null,
   "metadata": {},
   "outputs": [],
   "source": []
  }
 ],
 "metadata": {
  "kernelspec": {
   "display_name": "Python 3",
   "language": "python",
   "name": "python3"
  },
  "language_info": {
   "codemirror_mode": {
    "name": "ipython",
    "version": 3
   },
   "file_extension": ".py",
   "mimetype": "text/x-python",
   "name": "python",
   "nbconvert_exporter": "python",
   "pygments_lexer": "ipython3",
   "version": "3.6.8"
  }
 },
 "nbformat": 4,
 "nbformat_minor": 2
}

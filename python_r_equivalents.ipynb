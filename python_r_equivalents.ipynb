{
 "cells": [
  {
   "cell_type": "code",
   "execution_count": 83,
   "metadata": {},
   "outputs": [],
   "source": [
    "from scipy import stats\n",
    "import numpy as np\n",
    "import pandas as pd\n",
    "import matplotlib.pyplot as plt\n",
    "import matplotlib as mpl\n",
    "import statsmodels.api as sm\n",
    "import statsmodels.formula.api as smf\n",
    "from statsmodels.nonparametric.smoothers_lowess import lowess\n",
    "from statsmodels.stats.outliers_influence import OLSInfluence, variance_inflation_factor\n",
    "from statsmodels.stats.diagnostic import het_breuschpagan\n",
    "from statsmodels.discrete.discrete_model import Logit\n",
    "import seaborn as sns\n",
    "from statsmodels.stats.proportion import proportion_confint, proportions_ztest, proportions_chisquare\n",
    "from pandas_datareader import DataReader\n",
    "from statsmodels.stats.multicomp import pairwise_tukeyhsd\n",
    "from statsmodels.stats.multicomp import MultiComparison\n",
    "import itertools"
   ]
  },
  {
   "cell_type": "code",
   "execution_count": 2,
   "metadata": {},
   "outputs": [],
   "source": [
    "def dot_plot(data) :\n",
    "    \"\"\"Make a R-type dotplot for integer results\"\"\"\n",
    "    if data.dtype != 'int' :\n",
    "        raise ValueError('Data is not all integers.')\n",
    "    else :\n",
    "        x = np.arange(np.min(data), np.max(data) + 1)\n",
    "        y = np.bincount(data)[np.min(data):]\n",
    "        \n",
    "        plot_x = []\n",
    "        plot_y = []\n",
    "        \n",
    "        for a, b in zip(x, y) :\n",
    "            count = b\n",
    "            while b >= 1 :\n",
    "                plot_x.append(a)\n",
    "                plot_y.append(b)\n",
    "                b -= 1\n",
    "                if b == 1 :\n",
    "                    plot_x.append(a)\n",
    "                    plot_y.append(1)\n",
    "                    break\n",
    "        \n",
    "        plt.figure(figsize = (12, 5))\n",
    "        plt.plot(plot_x, plot_y, linestyle = 'None', marker = 'o', markerfacecolor = 'white', markeredgecolor = 'firebrick')\n",
    "        plt.xticks([int(x_x) for x_x in np.arange(np.min(x), np.max(x) + 1)])\n",
    "        if np.max(y) > 25 :\n",
    "            plt.yticks([int(y_y) for y_y in np.arange(1, np.max(y) + 5) if y_y % 5 == 0])\n",
    "        else :\n",
    "            plt.yticks([int(y_y) for y_y in np.arange(1, np.max(y) + 1)])\n",
    "        plt.show()"
   ]
  },
  {
   "cell_type": "code",
   "execution_count": 3,
   "metadata": {},
   "outputs": [],
   "source": [
    "def ecdf_plot(data) :\n",
    "    x = np.sort(data)\n",
    "    y = np.arange(1, len(x) + 1) / len(x)\n",
    "    plt.figure(figsize = (8, 5))\n",
    "    plt.plot(x, y)\n",
    "    plt.show()"
   ]
  },
  {
   "cell_type": "code",
   "execution_count": 4,
   "metadata": {},
   "outputs": [],
   "source": [
    "def outliers_by_IQR(data) :\n",
    "    q1 = np.percentile(data, 25)\n",
    "    q3 = np.percentile(data, 75)\n",
    "    data_no_outliers = data[(data > (q1 - (1.5 * (q3-q1)))) & (data < (q3 + (1.5 * (q3-q1))))]\n",
    "    print ('Lower:', q1 - (1.5 * (q3-q1)))\n",
    "    print ('Upper:', q3 + (1.5 * (q3-q1)))\n",
    "    return data_no_outliers"
   ]
  },
  {
   "cell_type": "code",
   "execution_count": 5,
   "metadata": {},
   "outputs": [],
   "source": [
    "df = pd.read_csv(\"http://www.datadescant.com/stat104/survey.csv\")"
   ]
  },
  {
   "cell_type": "code",
   "execution_count": 6,
   "metadata": {},
   "outputs": [
    {
     "data": {
      "text/plain": [
       "DescribeResult(nobs=127, minmax=(50, 80), mean=67.67716535433071, variance=25.696537932758403, skewness=-0.7639407845995339, kurtosis=1.3235195058817055)"
      ]
     },
     "execution_count": 6,
     "metadata": {},
     "output_type": "execute_result"
    }
   ],
   "source": [
    "stats.describe(df['height'])"
   ]
  },
  {
   "cell_type": "code",
   "execution_count": 7,
   "metadata": {},
   "outputs": [
    {
     "data": {
      "text/plain": [
       "0.00    50.0\n",
       "0.25    64.0\n",
       "0.50    68.0\n",
       "0.75    71.0\n",
       "1.00    80.0\n",
       "Name: height, dtype: float64"
      ]
     },
     "execution_count": 7,
     "metadata": {},
     "output_type": "execute_result"
    }
   ],
   "source": [
    "df['height'].quantile([0, 0.25, 0.5, 0.75, 1])"
   ]
  },
  {
   "cell_type": "code",
   "execution_count": 8,
   "metadata": {},
   "outputs": [
    {
     "data": {
      "image/png": "[encoded data removed]",
      "text/plain": [
       "<Figure size 864x360 with 1 Axes>"
      ]
     },
     "metadata": {
      "needs_background": "light"
     },
     "output_type": "display_data"
    }
   ],
   "source": [
    "dot_plot(df['height'])"
   ]
  },
  {
   "cell_type": "code",
   "execution_count": 9,
   "metadata": {},
   "outputs": [
    {
     "data": {
      "image/png": "[encoded data removed]",
      "text/plain": [
       "<Figure size 576x360 with 1 Axes>"
      ]
     },
     "metadata": {
      "needs_background": "light"
     },
     "output_type": "display_data"
    }
   ],
   "source": [
    "ecdf_plot(df['height'])"
   ]
  },
  {
   "cell_type": "code",
   "execution_count": 10,
   "metadata": {},
   "outputs": [
    {
     "name": "stdout",
     "output_type": "stream",
     "text": [
      "Lower: 53.5\n",
      "Upper: 81.5\n"
     ]
    }
   ],
   "source": [
    "height_no_outliers = outliers_by_IQR(df['height'])"
   ]
  },
  {
   "cell_type": "code",
   "execution_count": 11,
   "metadata": {},
   "outputs": [
    {
     "name": "stdout",
     "output_type": "stream",
     "text": [
      "dbinom (density) = 0.11718750000000014\n",
      "pbinom (probability) = 0.988746865835491\n"
     ]
    }
   ],
   "source": [
    "#Discrete\n",
    "print ('dbinom (density) =', stats.binom.pmf(7, 10, .5))\n",
    "print ('pbinom (probability) =', stats.binom.cdf(5, 20, .1))"
   ]
  },
  {
   "cell_type": "code",
   "execution_count": 12,
   "metadata": {},
   "outputs": [
    {
     "name": "stdout",
     "output_type": "stream",
     "text": [
      "pnorm = 0.7733726476231317\n",
      "qnorm = 4689.250217873636\n"
     ]
    }
   ],
   "source": [
    "#Continuous\n",
    "print ('pnorm =', stats.norm.cdf(38000,35000,4000))\n",
    "print ('qnorm =', stats.norm.ppf(0.02, 5100, 200))"
   ]
  },
  {
   "cell_type": "code",
   "execution_count": 13,
   "metadata": {},
   "outputs": [
    {
     "data": {
      "text/plain": [
       "(61.04013918989445, 68.95986081010555)"
      ]
     },
     "execution_count": 13,
     "metadata": {},
     "output_type": "execute_result"
    }
   ],
   "source": [
    "#Student's t test -- tsum.test\n",
    "def get_conf_interval_from_sample(n, mean, sigma, alpha = 0.95) :\n",
    "    \"\"\"Get confidence interval from sample data with sample of n, mean, sigma, where df = n-1\n",
    "    Equivalent to getting confidence interval using t.test / tsum.test in R\"\"\"\n",
    "    df = n-1\n",
    "    scale = sigma / np.sqrt(n)\n",
    "    return stats.t.interval(alpha=alpha, df=df, loc=mean, scale=scale)\n",
    "\n",
    "get_conf_interval_from_sample(121, 65, 22)"
   ]
  },
  {
   "cell_type": "code",
   "execution_count": 14,
   "metadata": {},
   "outputs": [
    {
     "name": "stdout",
     "output_type": "stream",
     "text": [
      "asymptotic / Wald CI: (0.3039817664728938, 0.4960182335271062)\n",
      "Agresti-Coull CI: (0.3093314332131455, 0.4980672664282516)\n"
     ]
    }
   ],
   "source": [
    "#equivalent to binom.confint in R\n",
    "print ('asymptotic / Wald CI:', proportion_confint(40, 100))\n",
    "#count = # of p, nobs = # of trials\n",
    "#defaults: alpha = 0.05, method = 'normal' (asymptotic / Wald)\n",
    "#Agresti-Coull CI: method = 'agresti_coull'\n",
    "print ('Agresti-Coull CI:', proportion_confint(40, 100, method = 'agresti_coull'))"
   ]
  },
  {
   "cell_type": "code",
   "execution_count": 15,
   "metadata": {},
   "outputs": [],
   "source": [
    "accord = pd.read_csv('http://people.fas.harvard.edu/~mparzen/stat104/accordprices.csv')"
   ]
  },
  {
   "cell_type": "code",
   "execution_count": 18,
   "metadata": {},
   "outputs": [],
   "source": [
    "accord = accord.iloc[:,:3]"
   ]
  },
  {
   "cell_type": "code",
   "execution_count": 20,
   "metadata": {},
   "outputs": [],
   "source": [
    "accord = accord.dropna()"
   ]
  },
  {
   "cell_type": "code",
   "execution_count": 21,
   "metadata": {},
   "outputs": [
    {
     "data": {
      "text/html": [
       "<table class=\"simpletable\">\n",
       "<caption>OLS Regression Results</caption>\n",
       "<tr>\n",
       "  <th>Dep. Variable:</th>            <td>y</td>        <th>  R-squared:         </th> <td>   0.650</td>\n",
       "</tr>\n",
       "<tr>\n",
       "  <th>Model:</th>                   <td>OLS</td>       <th>  Adj. R-squared:    </th> <td>   0.647</td>\n",
       "</tr>\n",
       "<tr>\n",
       "  <th>Method:</th>             <td>Least Squares</td>  <th>  F-statistic:       </th> <td>   182.1</td>\n",
       "</tr>\n",
       "<tr>\n",
       "  <th>Date:</th>             <td>Thu, 25 Apr 2019</td> <th>  Prob (F-statistic):</th> <td>4.44e-24</td>\n",
       "</tr>\n",
       "<tr>\n",
       "  <th>Time:</th>                 <td>21:13:46</td>     <th>  Log-Likelihood:    </th> <td> -712.30</td>\n",
       "</tr>\n",
       "<tr>\n",
       "  <th>No. Observations:</th>      <td>   100</td>      <th>  AIC:               </th> <td>   1429.</td>\n",
       "</tr>\n",
       "<tr>\n",
       "  <th>Df Residuals:</th>          <td>    98</td>      <th>  BIC:               </th> <td>   1434.</td>\n",
       "</tr>\n",
       "<tr>\n",
       "  <th>Df Model:</th>              <td>     1</td>      <th>                     </th>     <td> </td>   \n",
       "</tr>\n",
       "<tr>\n",
       "  <th>Covariance Type:</th>      <td>nonrobust</td>    <th>                     </th>     <td> </td>   \n",
       "</tr>\n",
       "</table>\n",
       "<table class=\"simpletable\">\n",
       "<tr>\n",
       "    <td></td>       <th>coef</th>     <th>std err</th>      <th>t</th>      <th>P>|t|</th>  <th>[0.025</th>    <th>0.975]</th>  \n",
       "</tr>\n",
       "<tr>\n",
       "  <th>const</th> <td> 1.707e+04</td> <td>  169.025</td> <td>  100.972</td> <td> 0.000</td> <td> 1.67e+04</td> <td> 1.74e+04</td>\n",
       "</tr>\n",
       "<tr>\n",
       "  <th>x1</th>    <td>   -0.0623</td> <td>    0.005</td> <td>  -13.495</td> <td> 0.000</td> <td>   -0.071</td> <td>   -0.053</td>\n",
       "</tr>\n",
       "</table>\n",
       "<table class=\"simpletable\">\n",
       "<tr>\n",
       "  <th>Omnibus:</th>       <td> 1.495</td> <th>  Durbin-Watson:     </th> <td>   1.887</td>\n",
       "</tr>\n",
       "<tr>\n",
       "  <th>Prob(Omnibus):</th> <td> 0.474</td> <th>  Jarque-Bera (JB):  </th> <td>   1.208</td>\n",
       "</tr>\n",
       "<tr>\n",
       "  <th>Skew:</th>          <td> 0.025</td> <th>  Prob(JB):          </th> <td>   0.547</td>\n",
       "</tr>\n",
       "<tr>\n",
       "  <th>Kurtosis:</th>      <td> 2.464</td> <th>  Cond. No.          </th> <td>2.04e+05</td>\n",
       "</tr>\n",
       "</table><br/><br/>Warnings:<br/>[1] Standard Errors assume that the covariance matrix of the errors is correctly specified.<br/>[2] The condition number is large, 2.04e+05. This might indicate that there are<br/>strong multicollinearity or other numerical problems."
      ],
      "text/plain": [
       "<class 'statsmodels.iolib.summary.Summary'>\n",
       "\"\"\"\n",
       "                            OLS Regression Results                            \n",
       "==============================================================================\n",
       "Dep. Variable:                      y   R-squared:                       0.650\n",
       "Model:                            OLS   Adj. R-squared:                  0.647\n",
       "Method:                 Least Squares   F-statistic:                     182.1\n",
       "Date:                Thu, 25 Apr 2019   Prob (F-statistic):           4.44e-24\n",
       "Time:                        21:13:46   Log-Likelihood:                -712.30\n",
       "No. Observations:                 100   AIC:                             1429.\n",
       "Df Residuals:                      98   BIC:                             1434.\n",
       "Df Model:                           1                                         \n",
       "Covariance Type:            nonrobust                                         \n",
       "==============================================================================\n",
       "                 coef    std err          t      P>|t|      [0.025      0.975]\n",
       "------------------------------------------------------------------------------\n",
       "const       1.707e+04    169.025    100.972      0.000    1.67e+04    1.74e+04\n",
       "x1            -0.0623      0.005    -13.495      0.000      -0.071      -0.053\n",
       "==============================================================================\n",
       "Omnibus:                        1.495   Durbin-Watson:                   1.887\n",
       "Prob(Omnibus):                  0.474   Jarque-Bera (JB):                1.208\n",
       "Skew:                           0.025   Prob(JB):                        0.547\n",
       "Kurtosis:                       2.464   Cond. No.                     2.04e+05\n",
       "==============================================================================\n",
       "\n",
       "Warnings:\n",
       "[1] Standard Errors assume that the covariance matrix of the errors is correctly specified.\n",
       "[2] The condition number is large, 2.04e+05. This might indicate that there are\n",
       "strong multicollinearity or other numerical problems.\n",
       "\"\"\""
      ]
     },
     "execution_count": 21,
     "metadata": {},
     "output_type": "execute_result"
    }
   ],
   "source": [
    "#NOTE: if using sm.OLS (no formula) v smf.ols (with formula), you must add the constant\n",
    "results = sm.OLS(accord['Price'].values, sm.add_constant(accord['Odometer'].values)).fit()\n",
    "results.summary()"
   ]
  },
  {
   "cell_type": "code",
   "execution_count": 22,
   "metadata": {},
   "outputs": [],
   "source": [
    "results_f = smf.ols('Price ~ Odometer', data = accord).fit()"
   ]
  },
  {
   "cell_type": "code",
   "execution_count": 23,
   "metadata": {},
   "outputs": [
    {
     "data": {
      "text/html": [
       "<table class=\"simpletable\">\n",
       "<caption>OLS Regression Results</caption>\n",
       "<tr>\n",
       "  <th>Dep. Variable:</th>          <td>Price</td>      <th>  R-squared:         </th> <td>   0.650</td>\n",
       "</tr>\n",
       "<tr>\n",
       "  <th>Model:</th>                   <td>OLS</td>       <th>  Adj. R-squared:    </th> <td>   0.647</td>\n",
       "</tr>\n",
       "<tr>\n",
       "  <th>Method:</th>             <td>Least Squares</td>  <th>  F-statistic:       </th> <td>   182.1</td>\n",
       "</tr>\n",
       "<tr>\n",
       "  <th>Date:</th>             <td>Thu, 25 Apr 2019</td> <th>  Prob (F-statistic):</th> <td>4.44e-24</td>\n",
       "</tr>\n",
       "<tr>\n",
       "  <th>Time:</th>                 <td>21:13:51</td>     <th>  Log-Likelihood:    </th> <td> -712.30</td>\n",
       "</tr>\n",
       "<tr>\n",
       "  <th>No. Observations:</th>      <td>   100</td>      <th>  AIC:               </th> <td>   1429.</td>\n",
       "</tr>\n",
       "<tr>\n",
       "  <th>Df Residuals:</th>          <td>    98</td>      <th>  BIC:               </th> <td>   1434.</td>\n",
       "</tr>\n",
       "<tr>\n",
       "  <th>Df Model:</th>              <td>     1</td>      <th>                     </th>     <td> </td>   \n",
       "</tr>\n",
       "<tr>\n",
       "  <th>Covariance Type:</th>      <td>nonrobust</td>    <th>                     </th>     <td> </td>   \n",
       "</tr>\n",
       "</table>\n",
       "<table class=\"simpletable\">\n",
       "<tr>\n",
       "      <td></td>         <th>coef</th>     <th>std err</th>      <th>t</th>      <th>P>|t|</th>  <th>[0.025</th>    <th>0.975]</th>  \n",
       "</tr>\n",
       "<tr>\n",
       "  <th>Intercept</th> <td> 1.707e+04</td> <td>  169.025</td> <td>  100.972</td> <td> 0.000</td> <td> 1.67e+04</td> <td> 1.74e+04</td>\n",
       "</tr>\n",
       "<tr>\n",
       "  <th>Odometer</th>  <td>   -0.0623</td> <td>    0.005</td> <td>  -13.495</td> <td> 0.000</td> <td>   -0.071</td> <td>   -0.053</td>\n",
       "</tr>\n",
       "</table>\n",
       "<table class=\"simpletable\">\n",
       "<tr>\n",
       "  <th>Omnibus:</th>       <td> 1.495</td> <th>  Durbin-Watson:     </th> <td>   1.887</td>\n",
       "</tr>\n",
       "<tr>\n",
       "  <th>Prob(Omnibus):</th> <td> 0.474</td> <th>  Jarque-Bera (JB):  </th> <td>   1.208</td>\n",
       "</tr>\n",
       "<tr>\n",
       "  <th>Skew:</th>          <td> 0.025</td> <th>  Prob(JB):          </th> <td>   0.547</td>\n",
       "</tr>\n",
       "<tr>\n",
       "  <th>Kurtosis:</th>      <td> 2.464</td> <th>  Cond. No.          </th> <td>2.04e+05</td>\n",
       "</tr>\n",
       "</table><br/><br/>Warnings:<br/>[1] Standard Errors assume that the covariance matrix of the errors is correctly specified.<br/>[2] The condition number is large, 2.04e+05. This might indicate that there are<br/>strong multicollinearity or other numerical problems."
      ],
      "text/plain": [
       "<class 'statsmodels.iolib.summary.Summary'>\n",
       "\"\"\"\n",
       "                            OLS Regression Results                            \n",
       "==============================================================================\n",
       "Dep. Variable:                  Price   R-squared:                       0.650\n",
       "Model:                            OLS   Adj. R-squared:                  0.647\n",
       "Method:                 Least Squares   F-statistic:                     182.1\n",
       "Date:                Thu, 25 Apr 2019   Prob (F-statistic):           4.44e-24\n",
       "Time:                        21:13:51   Log-Likelihood:                -712.30\n",
       "No. Observations:                 100   AIC:                             1429.\n",
       "Df Residuals:                      98   BIC:                             1434.\n",
       "Df Model:                           1                                         \n",
       "Covariance Type:            nonrobust                                         \n",
       "==============================================================================\n",
       "                 coef    std err          t      P>|t|      [0.025      0.975]\n",
       "------------------------------------------------------------------------------\n",
       "Intercept   1.707e+04    169.025    100.972      0.000    1.67e+04    1.74e+04\n",
       "Odometer      -0.0623      0.005    -13.495      0.000      -0.071      -0.053\n",
       "==============================================================================\n",
       "Omnibus:                        1.495   Durbin-Watson:                   1.887\n",
       "Prob(Omnibus):                  0.474   Jarque-Bera (JB):                1.208\n",
       "Skew:                           0.025   Prob(JB):                        0.547\n",
       "Kurtosis:                       2.464   Cond. No.                     2.04e+05\n",
       "==============================================================================\n",
       "\n",
       "Warnings:\n",
       "[1] Standard Errors assume that the covariance matrix of the errors is correctly specified.\n",
       "[2] The condition number is large, 2.04e+05. This might indicate that there are\n",
       "strong multicollinearity or other numerical problems.\n",
       "\"\"\""
      ]
     },
     "execution_count": 23,
     "metadata": {},
     "output_type": "execute_result"
    }
   ],
   "source": [
    "results_f.summary()"
   ]
  },
  {
   "cell_type": "code",
   "execution_count": 168,
   "metadata": {},
   "outputs": [
    {
     "data": {
      "text/plain": [
       "Intercept    17066.766070\n",
       "Odometer        -0.062315\n",
       "dtype: float64"
      ]
     },
     "execution_count": 168,
     "metadata": {},
     "output_type": "execute_result"
    }
   ],
   "source": [
    "#b0 and b1\n",
    "results_f.params"
   ]
  },
  {
   "cell_type": "code",
   "execution_count": 167,
   "metadata": {},
   "outputs": [
    {
     "data": {
      "text/plain": [
       "303.1375029266019"
      ]
     },
     "execution_count": 167,
     "metadata": {},
     "output_type": "execute_result"
    }
   ],
   "source": [
    "#Residual standard error\n",
    "np.sqrt(results_f.scale)"
   ]
  },
  {
   "cell_type": "code",
   "execution_count": 191,
   "metadata": {},
   "outputs": [
    {
     "data": {
      "text/plain": [
       "Intercept    169.024644\n",
       "Odometer       0.004618\n",
       "dtype: float64"
      ]
     },
     "execution_count": 191,
     "metadata": {},
     "output_type": "execute_result"
    }
   ],
   "source": [
    "#Standard errors for each variable\n",
    "results_f.bse"
   ]
  },
  {
   "cell_type": "code",
   "execution_count": 217,
   "metadata": {},
   "outputs": [
    {
     "data": {
      "text/plain": [
       "(-0.071, -0.053)"
      ]
     },
     "execution_count": 217,
     "metadata": {},
     "output_type": "execute_result"
    }
   ],
   "source": [
    "ci_x = tuple(results_f.conf_int().iloc[1])\n",
    "tuple(round(x, 3) for x in ci_x)"
   ]
  },
  {
   "cell_type": "code",
   "execution_count": 284,
   "metadata": {},
   "outputs": [],
   "source": [
    "def ols_fit_results_onevar(data, dep, ind, params = 'key', rounded = True, print_results = True) :\n",
    "    lm = smf.ols('{} ~ {}'.format(dep, ind), data = data).fit()\n",
    "    if params == 'key' :\n",
    "        b0 = lm.params[0]\n",
    "        b1 = lm.params[1]\n",
    "        rsq = lm.rsquared\n",
    "        rse = np.sqrt(lm.scale)\n",
    "        ci_y = tuple(lm.conf_int().iloc[0])\n",
    "        ci_x = tuple(lm.conf_int().iloc[1])\n",
    "        if print_results == True :\n",
    "            if rounded == True :\n",
    "                b0, b1, rsq, rse, ci_y, ci_x = round(b0, 3), round(b1, 3), round(rsq, 3), round(rse, 3), tuple(round(y, 3) for y in ci_y), tuple(round(x, 3) for x in ci_x)\n",
    "                print ('b0: {}\\nb1: {}\\nRSQ: {}\\nRSE: {}\\nci_y: {}\\nci_x: {}'.format(b0, b1, rsq, rse, ci_y, ci_x))\n",
    "            else :\n",
    "                print ('b0: {}\\nb1: {}\\nRSQ: {}\\nRSE: {}\\nci_y: {}\\nci_x: {}'.format(b0, b1, rsq, rse, ci_y, ci_x))\n",
    "        else :\n",
    "            if rounded == True :\n",
    "                b0, b1, rsq, rse, ci_y, ci_x = round(b0, 3), round(b1, 3), round(rsq, 3), round(rse, 3), tuple(round(y, 3) for y in ci_y), tuple(round(x, 3) for x in ci_x)\n",
    "                return b0, b1, rsq, rse, ci_y, ci_x\n",
    "            else :\n",
    "                return b0, b1, rsq, rse, ci_y, ci_x\n",
    "    else :\n",
    "        results = lm.summary()\n",
    "        if print_results == True :\n",
    "            print (results)\n",
    "        else :\n",
    "            return results"
   ]
  },
  {
   "cell_type": "code",
   "execution_count": 282,
   "metadata": {},
   "outputs": [
    {
     "name": "stdout",
     "output_type": "stream",
     "text": [
      "b0: 17066.766\n",
      "b1: -0.062\n",
      "RSQ: 0.65\n",
      "RSE: 303.138\n",
      "ci_y: (16731.342, 17402.19)\n",
      "ci_x: (-0.071, -0.053)\n"
     ]
    }
   ],
   "source": [
    "# b0, b1, rse, ci_y, ci_x = ols_fit_results(accord, 'Price', 'Odometer', print_results = False)\n",
    "ols_fit_results_onevar(accord, 'Price', 'Odometer')"
   ]
  },
  {
   "cell_type": "code",
   "execution_count": 243,
   "metadata": {},
   "outputs": [
    {
     "data": {
      "text/plain": [
       "<class 'statsmodels.stats.contrast.ContrastResults'>\n",
       "                             Test for Constraints                             \n",
       "==============================================================================\n",
       "                 coef    std err          t      P>|t|      [0.025      0.975]\n",
       "------------------------------------------------------------------------------\n",
       "c0            -0.0623      0.005      1.664      0.099      -0.071      -0.053\n",
       "=============================================================================="
      ]
     },
     "execution_count": 243,
     "metadata": {},
     "output_type": "execute_result"
    }
   ],
   "source": [
    "#Hypothesis test on regression (b1)\n",
    "hypothesis = 'Odometer = -0.07'\n",
    "results_f.t_test(hypothesis)"
   ]
  },
  {
   "cell_type": "code",
   "execution_count": 242,
   "metadata": {},
   "outputs": [
    {
     "data": {
      "text/plain": [
       "<seaborn.axisgrid.FacetGrid at 0x1c2413bdd8>"
      ]
     },
     "execution_count": 242,
     "metadata": {},
     "output_type": "execute_result"
    },
    {
     "data": {
      "image/png": "[encoded data removed]",
      "text/plain": [
       "<Figure size 360x360 with 1 Axes>"
      ]
     },
     "metadata": {
      "needs_background": "light"
     },
     "output_type": "display_data"
    }
   ],
   "source": [
    "sns.lmplot(x = 'Odometer', y = 'Price', data = accord, ci = None)"
   ]
  },
  {
   "cell_type": "code",
   "execution_count": 261,
   "metadata": {},
   "outputs": [
    {
     "data": {
      "text/plain": [
       "Power_divergenceResult(statistic=18.0, pvalue=0.0012340980408667957)"
      ]
     },
     "execution_count": 261,
     "metadata": {},
     "output_type": "execute_result"
    }
   ],
   "source": [
    "#Chi-square goodness of fit\n",
    "stats.chisquare([32, 28, 16, 14, 10], [20, 20, 20, 20, 20])"
   ]
  },
  {
   "cell_type": "code",
   "execution_count": 277,
   "metadata": {},
   "outputs": [
    {
     "name": "stdout",
     "output_type": "stream",
     "text": [
      "chi^2: 14.701859098145798\n",
      "p-value: 0.022706740169378573\n",
      "ddof: 6\n",
      "expected values:\n",
      "[[24.07894737 17.36842105 18.55263158]\n",
      " [12.44078947  8.97368421  9.58552632]\n",
      " [15.65131579 11.28947368 12.05921053]\n",
      " [ 8.82894737  6.36842105  6.80263158]]\n"
     ]
    }
   ],
   "source": [
    "#Chi-square test of independence (contingency table)\n",
    "table = np.array([[31, 13, 16],\n",
    "                 [8, 16, 7],\n",
    "                 [12, 10, 17],\n",
    "                 [10, 5, 7]])\n",
    "x2, p, df, e_table = stats.chi2_contingency(table)\n",
    "print ('chi^2: {}\\np-value: {}\\nddof: {}\\nexpected values:\\n{}'.format(x2, p, df, e_table))"
   ]
  },
  {
   "cell_type": "code",
   "execution_count": 92,
   "metadata": {},
   "outputs": [],
   "source": [
    "#LOWESS SCATTER\n",
    "def lowess_plot(data, x_name, y_name) :\n",
    "    endog_y = data[y_name].values\n",
    "    exog_x = data[x_name].values\n",
    "    lowess_sorted = lowess(endog_y, exog_x)\n",
    "    x = [x[0] for x in lowess_sorted]\n",
    "    y = [y[1] for y in lowess_sorted]\n",
    "    fig, ax = plt.subplots()\n",
    "    ax.plot(x, y, c = 'firebrick')\n",
    "    ax.scatter(exog_x, endog_y, alpha = 0.5)\n",
    "    ax.set_xlabel(x_name)\n",
    "    ax.set_ylabel(y_name)"
   ]
  },
  {
   "cell_type": "code",
   "execution_count": 93,
   "metadata": {},
   "outputs": [
    {
     "data": {
      "image/png": "[encoded data removed]",
      "text/plain": [
       "<Figure size 432x288 with 1 Axes>"
      ]
     },
     "metadata": {
      "needs_background": "light"
     },
     "output_type": "display_data"
    }
   ],
   "source": [
    "lowess_plot(accord, 'Odometer', 'Price')"
   ]
  },
  {
   "cell_type": "code",
   "execution_count": 99,
   "metadata": {},
   "outputs": [
    {
     "data": {
      "image/png": "[encoded data removed]",
      "text/plain": [
       "<Figure size 1008x288 with 2 Axes>"
      ]
     },
     "metadata": {
      "needs_background": "light"
     },
     "output_type": "display_data"
    },
    {
     "data": {
      "image/png": "[encoded data removed]",
      "text/plain": [
       "<Figure size 1008x288 with 2 Axes>"
      ]
     },
     "metadata": {
      "needs_background": "light"
     },
     "output_type": "display_data"
    }
   ],
   "source": [
    "accord = accord.iloc[:, :3]\n",
    "accord = accord.dropna()\n",
    "#Obtain residuals manually\n",
    "results_f = smf.ols('Price ~ Odometer', data = accord).fit()\n",
    "e = results_f.resid\n",
    "yhat = results_f.fittedvalues\n",
    "sres = results_f.get_influence().resid_studentized_internal\n",
    "#Matplotlib manual\n",
    "fig, (ax1, ax2) = plt.subplots(ncols = 2, figsize = (14, 4))\n",
    "ax1.scatter(yhat, e, alpha = 0.5)\n",
    "ax1.set_title('e')\n",
    "ax2.scatter(yhat, sres, alpha = 0.5)\n",
    "ax2.set_title('sres')\n",
    "plt.show()\n",
    "#Seaborn\n",
    "fig, (ax3, ax4) = plt.subplots(ncols = 2, figsize = (14, 4))\n",
    "sns.residplot(yhat, 'Price', data = accord, lowess = True, ax = ax3, scatter_kws={'alpha': 0.5}, line_kws={'color': 'firebrick'})\n",
    "ax3.set_title('e')\n",
    "sns.residplot(yhat, sres, lowess = True, ax = ax4, scatter_kws={'alpha': 0.5}, line_kws={'color': 'firebrick'})\n",
    "ax4.set_title('sres')\n",
    "plt.show()"
   ]
  },
  {
   "cell_type": "code",
   "execution_count": 100,
   "metadata": {},
   "outputs": [
    {
     "data": {
      "text/html": [
       "<div>\n",
       "<style scoped>\n",
       "    .dataframe tbody tr th:only-of-type {\n",
       "        vertical-align: middle;\n",
       "    }\n",
       "\n",
       "    .dataframe tbody tr th {\n",
       "        vertical-align: top;\n",
       "    }\n",
       "\n",
       "    .dataframe thead th {\n",
       "        text-align: right;\n",
       "    }\n",
       "</style>\n",
       "<table border=\"1\" class=\"dataframe\">\n",
       "  <thead>\n",
       "    <tr style=\"text-align: right;\">\n",
       "      <th></th>\n",
       "      <th>dfb_Intercept</th>\n",
       "      <th>dfb_Odometer</th>\n",
       "      <th>cooks_d</th>\n",
       "      <th>standard_resid</th>\n",
       "      <th>hat_diag</th>\n",
       "      <th>dffits_internal</th>\n",
       "      <th>student_resid</th>\n",
       "      <th>dffits</th>\n",
       "    </tr>\n",
       "  </thead>\n",
       "  <tbody>\n",
       "    <tr>\n",
       "      <th>0</th>\n",
       "      <td>0.000913</td>\n",
       "      <td>-0.007033</td>\n",
       "      <td>0.000591</td>\n",
       "      <td>-0.334653</td>\n",
       "      <td>0.010441</td>\n",
       "      <td>-0.034375</td>\n",
       "      <td>-0.333132</td>\n",
       "      <td>-0.034219</td>\n",
       "    </tr>\n",
       "    <tr>\n",
       "      <th>1</th>\n",
       "      <td>0.059547</td>\n",
       "      <td>-0.070120</td>\n",
       "      <td>0.003871</td>\n",
       "      <td>-0.520742</td>\n",
       "      <td>0.027761</td>\n",
       "      <td>-0.087994</td>\n",
       "      <td>-0.518797</td>\n",
       "      <td>-0.087665</td>\n",
       "    </tr>\n",
       "    <tr>\n",
       "      <th>2</th>\n",
       "      <td>0.085547</td>\n",
       "      <td>-0.099020</td>\n",
       "      <td>0.007134</td>\n",
       "      <td>-0.652814</td>\n",
       "      <td>0.032394</td>\n",
       "      <td>-0.119446</td>\n",
       "      <td>-0.650892</td>\n",
       "      <td>-0.119094</td>\n",
       "    </tr>\n",
       "    <tr>\n",
       "      <th>3</th>\n",
       "      <td>0.143203</td>\n",
       "      <td>-0.118105</td>\n",
       "      <td>0.018090</td>\n",
       "      <td>1.484682</td>\n",
       "      <td>0.016149</td>\n",
       "      <td>0.190211</td>\n",
       "      <td>1.493986</td>\n",
       "      <td>0.191403</td>\n",
       "    </tr>\n",
       "    <tr>\n",
       "      <th>4</th>\n",
       "      <td>0.132631</td>\n",
       "      <td>-0.105489</td>\n",
       "      <td>0.018216</td>\n",
       "      <td>1.584737</td>\n",
       "      <td>0.014300</td>\n",
       "      <td>0.190874</td>\n",
       "      <td>1.597229</td>\n",
       "      <td>0.192378</td>\n",
       "    </tr>\n",
       "  </tbody>\n",
       "</table>\n",
       "</div>"
      ],
      "text/plain": [
       "   dfb_Intercept  dfb_Odometer   cooks_d  standard_resid  hat_diag  \\\n",
       "0       0.000913     -0.007033  0.000591       -0.334653  0.010441   \n",
       "1       0.059547     -0.070120  0.003871       -0.520742  0.027761   \n",
       "2       0.085547     -0.099020  0.007134       -0.652814  0.032394   \n",
       "3       0.143203     -0.118105  0.018090        1.484682  0.016149   \n",
       "4       0.132631     -0.105489  0.018216        1.584737  0.014300   \n",
       "\n",
       "   dffits_internal  student_resid    dffits  \n",
       "0        -0.034375      -0.333132 -0.034219  \n",
       "1        -0.087994      -0.518797 -0.087665  \n",
       "2        -0.119446      -0.650892 -0.119094  \n",
       "3         0.190211       1.493986  0.191403  \n",
       "4         0.190874       1.597229  0.192378  "
      ]
     },
     "execution_count": 100,
     "metadata": {},
     "output_type": "execute_result"
    }
   ],
   "source": [
    "#Alt for getting standardized residual values (standard_resid) & Cook's Distance (cooks_d)\n",
    "OLSInfluence(results_f).summary_frame().head()"
   ]
  },
  {
   "cell_type": "code",
   "execution_count": 122,
   "metadata": {},
   "outputs": [
    {
     "data": {
      "text/plain": [
       "AndersonResult(statistic=0.22242477477628597, critical_values=array([0.555, 0.632, 0.759, 0.885, 1.053]), significance_level=array([15. , 10. ,  5. ,  2.5,  1. ]))"
      ]
     },
     "execution_count": 122,
     "metadata": {},
     "output_type": "execute_result"
    }
   ],
   "source": [
    "#normality test - ad.test equivalent in R\n",
    "stats.anderson(e)"
   ]
  },
  {
   "cell_type": "code",
   "execution_count": 46,
   "metadata": {},
   "outputs": [
    {
     "name": "stdout",
     "output_type": "stream",
     "text": [
      "Lagrange multiplier statistic - 0.6501084628052878\n",
      "p-value (USE) - 0.4200739039421577\n",
      "f-value - 0.6412752784039626\n",
      "f p-value - 0.42518655226815216\n"
     ]
    }
   ],
   "source": [
    "#aligns with R bptest where studentize = True, not with ncvTest where studentize = False\n",
    "#bptest aligns with first p-val [lagrange multiplier p-value]\n",
    "n_bp_results = ['Lagrange multiplier statistic', 'p-value (USE)','f-value', 'f p-value']\n",
    "bp_test = het_breuschpagan(results_f.resid, results_f.model.exog)\n",
    "for a, b in zip(n_bp_results, bp_test) :\n",
    "    print (a + ' -', b)"
   ]
  },
  {
   "cell_type": "code",
   "execution_count": 27,
   "metadata": {},
   "outputs": [],
   "source": [
    "multi_regress_data = pd.read_csv(\"http://www.datadescant.com/stat104/homer.csv\")"
   ]
  },
  {
   "cell_type": "code",
   "execution_count": 32,
   "metadata": {},
   "outputs": [],
   "source": [
    "m_lm = smf.ols('y ~ x1 + x2 + x3 + x4 + x5 + x6', data = multi_regress_data).fit()"
   ]
  },
  {
   "cell_type": "code",
   "execution_count": 44,
   "metadata": {},
   "outputs": [
    {
     "name": "stdout",
     "output_type": "stream",
     "text": [
      "x1: 1.7323765348323794\n",
      "x2: 2.6110757972151575\n",
      "x3: 2.662938611631941\n",
      "x4: 2.409069100198578\n",
      "x5: 2.5290245122725286\n",
      "x6: 1.8511074810977328\n"
     ]
    }
   ],
   "source": [
    "#NOTE: use lm.model.exog because includes intercept (underlying uses sm.OLS, not smf.ols) & therefore i+1 as 0 = b0\n",
    "for i, x in enumerate(['x1' , 'x2' , 'x3' , 'x4' , 'x5' , 'x6']) :\n",
    "    print ('x{}: {}'.format(i+1,variance_inflation_factor(m_lm.model.exog, i+1)))"
   ]
  },
  {
   "cell_type": "code",
   "execution_count": 39,
   "metadata": {},
   "outputs": [
    {
     "data": {
      "text/html": [
       "<div>\n",
       "<style scoped>\n",
       "    .dataframe tbody tr th:only-of-type {\n",
       "        vertical-align: middle;\n",
       "    }\n",
       "\n",
       "    .dataframe tbody tr th {\n",
       "        vertical-align: top;\n",
       "    }\n",
       "\n",
       "    .dataframe thead th {\n",
       "        text-align: right;\n",
       "    }\n",
       "</style>\n",
       "<table border=\"1\" class=\"dataframe\">\n",
       "  <thead>\n",
       "    <tr style=\"text-align: right;\">\n",
       "      <th></th>\n",
       "      <th>y</th>\n",
       "      <th>x1</th>\n",
       "      <th>x2</th>\n",
       "      <th>x3</th>\n",
       "      <th>x4</th>\n",
       "      <th>x5</th>\n",
       "      <th>x6</th>\n",
       "    </tr>\n",
       "  </thead>\n",
       "  <tbody>\n",
       "    <tr>\n",
       "      <th>y</th>\n",
       "      <td>1.000000</td>\n",
       "      <td>0.153736</td>\n",
       "      <td>0.020611</td>\n",
       "      <td>0.091575</td>\n",
       "      <td>0.071136</td>\n",
       "      <td>0.014765</td>\n",
       "      <td>0.397071</td>\n",
       "    </tr>\n",
       "    <tr>\n",
       "      <th>x1</th>\n",
       "      <td>0.153736</td>\n",
       "      <td>1.000000</td>\n",
       "      <td>0.531987</td>\n",
       "      <td>-0.381736</td>\n",
       "      <td>0.271562</td>\n",
       "      <td>0.155619</td>\n",
       "      <td>-0.050922</td>\n",
       "    </tr>\n",
       "    <tr>\n",
       "      <th>x2</th>\n",
       "      <td>0.020611</td>\n",
       "      <td>0.531987</td>\n",
       "      <td>1.000000</td>\n",
       "      <td>-0.689806</td>\n",
       "      <td>0.459447</td>\n",
       "      <td>0.316200</td>\n",
       "      <td>-0.266501</td>\n",
       "    </tr>\n",
       "    <tr>\n",
       "      <th>x3</th>\n",
       "      <td>0.091575</td>\n",
       "      <td>-0.381736</td>\n",
       "      <td>-0.689806</td>\n",
       "      <td>1.000000</td>\n",
       "      <td>-0.643747</td>\n",
       "      <td>-0.443262</td>\n",
       "      <td>0.387561</td>\n",
       "    </tr>\n",
       "    <tr>\n",
       "      <th>x4</th>\n",
       "      <td>0.071136</td>\n",
       "      <td>0.271562</td>\n",
       "      <td>0.459447</td>\n",
       "      <td>-0.643747</td>\n",
       "      <td>1.000000</td>\n",
       "      <td>0.643857</td>\n",
       "      <td>-0.384961</td>\n",
       "    </tr>\n",
       "    <tr>\n",
       "      <th>x5</th>\n",
       "      <td>0.014765</td>\n",
       "      <td>0.155619</td>\n",
       "      <td>0.316200</td>\n",
       "      <td>-0.443262</td>\n",
       "      <td>0.643857</td>\n",
       "      <td>1.000000</td>\n",
       "      <td>-0.644329</td>\n",
       "    </tr>\n",
       "    <tr>\n",
       "      <th>x6</th>\n",
       "      <td>0.397071</td>\n",
       "      <td>-0.050922</td>\n",
       "      <td>-0.266501</td>\n",
       "      <td>0.387561</td>\n",
       "      <td>-0.384961</td>\n",
       "      <td>-0.644329</td>\n",
       "      <td>1.000000</td>\n",
       "    </tr>\n",
       "  </tbody>\n",
       "</table>\n",
       "</div>"
      ],
      "text/plain": [
       "           y        x1        x2        x3        x4        x5        x6\n",
       "y   1.000000  0.153736  0.020611  0.091575  0.071136  0.014765  0.397071\n",
       "x1  0.153736  1.000000  0.531987 -0.381736  0.271562  0.155619 -0.050922\n",
       "x2  0.020611  0.531987  1.000000 -0.689806  0.459447  0.316200 -0.266501\n",
       "x3  0.091575 -0.381736 -0.689806  1.000000 -0.643747 -0.443262  0.387561\n",
       "x4  0.071136  0.271562  0.459447 -0.643747  1.000000  0.643857 -0.384961\n",
       "x5  0.014765  0.155619  0.316200 -0.443262  0.643857  1.000000 -0.644329\n",
       "x6  0.397071 -0.050922 -0.266501  0.387561 -0.384961 -0.644329  1.000000"
      ]
     },
     "execution_count": 39,
     "metadata": {},
     "output_type": "execute_result"
    }
   ],
   "source": [
    "multi_regress_data.corr()"
   ]
  },
  {
   "cell_type": "code",
   "execution_count": 74,
   "metadata": {},
   "outputs": [
    {
     "name": "stdout",
     "output_type": "stream",
     "text": [
      "0.34563374549341913\n"
     ]
    }
   ],
   "source": [
    "#Data must be positive // gives array and best log\n",
    "array, maxlog = stats.boxcox(multi_regress_data.iloc[:,1][multi_regress_data.iloc[:,1]>0].values)\n",
    "print (maxlog)"
   ]
  },
  {
   "cell_type": "code",
   "execution_count": 62,
   "metadata": {},
   "outputs": [
    {
     "data": {
      "text/plain": [
       "array([[-0.60891704, -0.16690938,  0.78537324, -1.16848719,  0.2483076 ,\n",
       "        -1.03576379],\n",
       "       [ 0.47428091,  0.7271718 , -1.23572436,  0.05497696, -0.70118731,\n",
       "        -0.29068902],\n",
       "       [ 1.40095679,  1.64456488, -1.14759691,  1.29242692,  1.06187622,\n",
       "         0.81565833],\n",
       "       ...,\n",
       "       [ 0.53607452,  0.37863853,  0.91563319, -0.80739626, -1.82984436,\n",
       "         1.8701769 ],\n",
       "       [-0.00896646, -0.14673669, -1.39125022,  1.6055787 ,  0.86333791,\n",
       "        -0.12741053],\n",
       "       [-0.74506898, -1.0154916 ,  0.34366632, -1.20974354, -2.67880915,\n",
       "         2.63132672]])"
      ]
     },
     "execution_count": 62,
     "metadata": {},
     "output_type": "execute_result"
    }
   ],
   "source": [
    "#Yeo-Johnson allows for negative value transformations\n",
    "from sklearn.preprocessing import power_transform\n",
    "power_transform(multi_regress_data.iloc[:,1:], method='yeo-johnson', standardize=True, copy=True)"
   ]
  },
  {
   "cell_type": "code",
   "execution_count": 17,
   "metadata": {},
   "outputs": [
    {
     "name": "stdout",
     "output_type": "stream",
     "text": [
      "Optimization terminated successfully.\n",
      "         Current function value: 0.427860\n",
      "         Iterations 6\n"
     ]
    },
    {
     "data": {
      "text/html": [
       "<table class=\"simpletable\">\n",
       "<caption>Logit Regression Results</caption>\n",
       "<tr>\n",
       "  <th>Dep. Variable:</th>         <td>y</td>        <th>  No. Observations:  </th>  <td>  9578</td>  \n",
       "</tr>\n",
       "<tr>\n",
       "  <th>Model:</th>               <td>Logit</td>      <th>  Df Residuals:      </th>  <td>  9576</td>  \n",
       "</tr>\n",
       "<tr>\n",
       "  <th>Method:</th>               <td>MLE</td>       <th>  Df Model:          </th>  <td>     1</td>  \n",
       "</tr>\n",
       "<tr>\n",
       "  <th>Date:</th>          <td>Sat, 18 May 2019</td> <th>  Pseudo R-squ.:     </th>  <td>0.02706</td> \n",
       "</tr>\n",
       "<tr>\n",
       "  <th>Time:</th>              <td>11:49:52</td>     <th>  Log-Likelihood:    </th> <td> -4098.0</td> \n",
       "</tr>\n",
       "<tr>\n",
       "  <th>converged:</th>           <td>True</td>       <th>  LL-Null:           </th> <td> -4212.0</td> \n",
       "</tr>\n",
       "<tr>\n",
       "  <th> </th>                      <td> </td>        <th>  LLR p-value:       </th> <td>1.659e-51</td>\n",
       "</tr>\n",
       "</table>\n",
       "<table class=\"simpletable\">\n",
       "<tr>\n",
       "    <td></td>       <th>coef</th>     <th>std err</th>      <th>z</th>      <th>P>|z|</th>  <th>[0.025</th>    <th>0.975]</th>  \n",
       "</tr>\n",
       "<tr>\n",
       "  <th>const</th> <td>    6.7189</td> <td>    0.577</td> <td>   11.647</td> <td> 0.000</td> <td>    5.588</td> <td>    7.850</td>\n",
       "</tr>\n",
       "<tr>\n",
       "  <th>x1</th>    <td>   -0.0119</td> <td>    0.001</td> <td>  -14.430</td> <td> 0.000</td> <td>   -0.013</td> <td>   -0.010</td>\n",
       "</tr>\n",
       "</table>"
      ],
      "text/plain": [
       "<class 'statsmodels.iolib.summary.Summary'>\n",
       "\"\"\"\n",
       "                           Logit Regression Results                           \n",
       "==============================================================================\n",
       "Dep. Variable:                      y   No. Observations:                 9578\n",
       "Model:                          Logit   Df Residuals:                     9576\n",
       "Method:                           MLE   Df Model:                            1\n",
       "Date:                Sat, 18 May 2019   Pseudo R-squ.:                 0.02706\n",
       "Time:                        11:49:52   Log-Likelihood:                -4098.0\n",
       "converged:                       True   LL-Null:                       -4212.0\n",
       "                                        LLR p-value:                 1.659e-51\n",
       "==============================================================================\n",
       "                 coef    std err          z      P>|z|      [0.025      0.975]\n",
       "------------------------------------------------------------------------------\n",
       "const          6.7189      0.577     11.647      0.000       5.588       7.850\n",
       "x1            -0.0119      0.001    -14.430      0.000      -0.013      -0.010\n",
       "==============================================================================\n",
       "\"\"\""
      ]
     },
     "execution_count": 17,
     "metadata": {},
     "output_type": "execute_result"
    }
   ],
   "source": [
    "#Logistic -- ADD INTERCEPT IF USING SM VERSION, NOT SMF!!!\n",
    "df_logistic = pd.read_csv('http://www.datadescant.com/stat109/loans.csv')\n",
    "#On FICO only:\n",
    "y = df_logistic['default'].values\n",
    "x = df_logistic['fico'].values\n",
    "x = sm.add_constant(x)\n",
    "logistic_m_sm = Logit(y, x).fit()\n",
    "logistic_m_sm.summary()"
   ]
  },
  {
   "cell_type": "code",
   "execution_count": 18,
   "metadata": {},
   "outputs": [
    {
     "name": "stdout",
     "output_type": "stream",
     "text": [
      "Optimization terminated successfully.\n",
      "         Current function value: 0.427860\n",
      "         Iterations 6\n"
     ]
    },
    {
     "data": {
      "text/html": [
       "<table class=\"simpletable\">\n",
       "<caption>Logit Regression Results</caption>\n",
       "<tr>\n",
       "  <th>Dep. Variable:</th>      <td>default</td>     <th>  No. Observations:  </th>  <td>  9578</td>  \n",
       "</tr>\n",
       "<tr>\n",
       "  <th>Model:</th>               <td>Logit</td>      <th>  Df Residuals:      </th>  <td>  9576</td>  \n",
       "</tr>\n",
       "<tr>\n",
       "  <th>Method:</th>               <td>MLE</td>       <th>  Df Model:          </th>  <td>     1</td>  \n",
       "</tr>\n",
       "<tr>\n",
       "  <th>Date:</th>          <td>Sat, 18 May 2019</td> <th>  Pseudo R-squ.:     </th>  <td>0.02706</td> \n",
       "</tr>\n",
       "<tr>\n",
       "  <th>Time:</th>              <td>11:49:53</td>     <th>  Log-Likelihood:    </th> <td> -4098.0</td> \n",
       "</tr>\n",
       "<tr>\n",
       "  <th>converged:</th>           <td>True</td>       <th>  LL-Null:           </th> <td> -4212.0</td> \n",
       "</tr>\n",
       "<tr>\n",
       "  <th> </th>                      <td> </td>        <th>  LLR p-value:       </th> <td>1.659e-51</td>\n",
       "</tr>\n",
       "</table>\n",
       "<table class=\"simpletable\">\n",
       "<tr>\n",
       "      <td></td>         <th>coef</th>     <th>std err</th>      <th>z</th>      <th>P>|z|</th>  <th>[0.025</th>    <th>0.975]</th>  \n",
       "</tr>\n",
       "<tr>\n",
       "  <th>Intercept</th> <td>    6.7189</td> <td>    0.577</td> <td>   11.647</td> <td> 0.000</td> <td>    5.588</td> <td>    7.850</td>\n",
       "</tr>\n",
       "<tr>\n",
       "  <th>fico</th>      <td>   -0.0119</td> <td>    0.001</td> <td>  -14.430</td> <td> 0.000</td> <td>   -0.013</td> <td>   -0.010</td>\n",
       "</tr>\n",
       "</table>"
      ],
      "text/plain": [
       "<class 'statsmodels.iolib.summary.Summary'>\n",
       "\"\"\"\n",
       "                           Logit Regression Results                           \n",
       "==============================================================================\n",
       "Dep. Variable:                default   No. Observations:                 9578\n",
       "Model:                          Logit   Df Residuals:                     9576\n",
       "Method:                           MLE   Df Model:                            1\n",
       "Date:                Sat, 18 May 2019   Pseudo R-squ.:                 0.02706\n",
       "Time:                        11:49:53   Log-Likelihood:                -4098.0\n",
       "converged:                       True   LL-Null:                       -4212.0\n",
       "                                        LLR p-value:                 1.659e-51\n",
       "==============================================================================\n",
       "                 coef    std err          z      P>|z|      [0.025      0.975]\n",
       "------------------------------------------------------------------------------\n",
       "Intercept      6.7189      0.577     11.647      0.000       5.588       7.850\n",
       "fico          -0.0119      0.001    -14.430      0.000      -0.013      -0.010\n",
       "==============================================================================\n",
       "\"\"\""
      ]
     },
     "execution_count": 18,
     "metadata": {},
     "output_type": "execute_result"
    }
   ],
   "source": [
    "logistic_m_smf = smf.logit('default ~ fico', data = df_logistic).fit()\n",
    "logistic_m_smf.summary()"
   ]
  },
  {
   "cell_type": "code",
   "execution_count": 139,
   "metadata": {},
   "outputs": [],
   "source": [
    "#One-way ANOVA example\n",
    "auds = ['Pro-Pal Orgs', 'PIPD Lookalike', 'PIPD Engagement', 'Social Justice Lookalike']\n",
    "linkclicks = np.random.randint(40, 100, 20)\n",
    "data = pd.DataFrame(data = {'Audience': auds * 5, 'Link_clicks': linkclicks})"
   ]
  },
  {
   "cell_type": "code",
   "execution_count": 140,
   "metadata": {},
   "outputs": [],
   "source": [
    "data.loc[data['Audience'] == 'PIPD Lookalike', 'Link_clicks'] = data.loc[data['Audience'] == 'PIPD Lookalike', 'Link_clicks'] + 30\n",
    "data.loc[data['Audience'] == 'Pro-Pal Orgs', 'Link_clicks'] = data.loc[data['Audience'] == 'Pro-Pal Orgs', 'Link_clicks'] - 30"
   ]
  },
  {
   "cell_type": "code",
   "execution_count": 141,
   "metadata": {},
   "outputs": [
    {
     "name": "stdout",
     "output_type": "stream",
     "text": [
      "Audience\n",
      "PIPD Engagement             56.2\n",
      "PIPD Lookalike              91.8\n",
      "Pro-Pal Orgs                48.0\n",
      "Social Justice Lookalike    64.0\n",
      "Name: Link_clicks, dtype: float64\n"
     ]
    }
   ],
   "source": [
    "print (data.groupby('Audience')['Link_clicks'].mean())"
   ]
  },
  {
   "cell_type": "code",
   "execution_count": 142,
   "metadata": {},
   "outputs": [
    {
     "data": {
      "text/html": [
       "<table class=\"simpletable\">\n",
       "<caption>OLS Regression Results</caption>\n",
       "<tr>\n",
       "  <th>Dep. Variable:</th>       <td>Link_clicks</td>   <th>  R-squared:         </th> <td>   0.635</td>\n",
       "</tr>\n",
       "<tr>\n",
       "  <th>Model:</th>                   <td>OLS</td>       <th>  Adj. R-squared:    </th> <td>   0.566</td>\n",
       "</tr>\n",
       "<tr>\n",
       "  <th>Method:</th>             <td>Least Squares</td>  <th>  F-statistic:       </th> <td>   9.275</td>\n",
       "</tr>\n",
       "<tr>\n",
       "  <th>Date:</th>             <td>Thu, 27 Jun 2019</td> <th>  Prob (F-statistic):</th> <td>0.000866</td>\n",
       "</tr>\n",
       "<tr>\n",
       "  <th>Time:</th>                 <td>19:30:15</td>     <th>  Log-Likelihood:    </th> <td> -78.882</td>\n",
       "</tr>\n",
       "<tr>\n",
       "  <th>No. Observations:</th>      <td>    20</td>      <th>  AIC:               </th> <td>   165.8</td>\n",
       "</tr>\n",
       "<tr>\n",
       "  <th>Df Residuals:</th>          <td>    16</td>      <th>  BIC:               </th> <td>   169.7</td>\n",
       "</tr>\n",
       "<tr>\n",
       "  <th>Df Model:</th>              <td>     3</td>      <th>                     </th>     <td> </td>   \n",
       "</tr>\n",
       "<tr>\n",
       "  <th>Covariance Type:</th>      <td>nonrobust</td>    <th>                     </th>     <td> </td>   \n",
       "</tr>\n",
       "</table>\n",
       "<table class=\"simpletable\">\n",
       "<tr>\n",
       "                     <td></td>                        <th>coef</th>     <th>std err</th>      <th>t</th>      <th>P>|t|</th>  <th>[0.025</th>    <th>0.975]</th>  \n",
       "</tr>\n",
       "<tr>\n",
       "  <th>Intercept</th>                               <td>   56.2000</td> <td>    6.247</td> <td>    8.997</td> <td> 0.000</td> <td>   42.958</td> <td>   69.442</td>\n",
       "</tr>\n",
       "<tr>\n",
       "  <th>C(Audience)[T.PIPD Lookalike]</th>           <td>   35.6000</td> <td>    8.834</td> <td>    4.030</td> <td> 0.001</td> <td>   16.873</td> <td>   54.327</td>\n",
       "</tr>\n",
       "<tr>\n",
       "  <th>C(Audience)[T.Pro-Pal Orgs]</th>             <td>   -8.2000</td> <td>    8.834</td> <td>   -0.928</td> <td> 0.367</td> <td>  -26.927</td> <td>   10.527</td>\n",
       "</tr>\n",
       "<tr>\n",
       "  <th>C(Audience)[T.Social Justice Lookalike]</th> <td>    7.8000</td> <td>    8.834</td> <td>    0.883</td> <td> 0.390</td> <td>  -10.927</td> <td>   26.527</td>\n",
       "</tr>\n",
       "</table>\n",
       "<table class=\"simpletable\">\n",
       "<tr>\n",
       "  <th>Omnibus:</th>       <td> 2.568</td> <th>  Durbin-Watson:     </th> <td>   2.050</td>\n",
       "</tr>\n",
       "<tr>\n",
       "  <th>Prob(Omnibus):</th> <td> 0.277</td> <th>  Jarque-Bera (JB):  </th> <td>   1.223</td>\n",
       "</tr>\n",
       "<tr>\n",
       "  <th>Skew:</th>          <td>-0.182</td> <th>  Prob(JB):          </th> <td>   0.542</td>\n",
       "</tr>\n",
       "<tr>\n",
       "  <th>Kurtosis:</th>      <td> 1.844</td> <th>  Cond. No.          </th> <td>    4.79</td>\n",
       "</tr>\n",
       "</table><br/><br/>Warnings:<br/>[1] Standard Errors assume that the covariance matrix of the errors is correctly specified."
      ],
      "text/plain": [
       "<class 'statsmodels.iolib.summary.Summary'>\n",
       "\"\"\"\n",
       "                            OLS Regression Results                            \n",
       "==============================================================================\n",
       "Dep. Variable:            Link_clicks   R-squared:                       0.635\n",
       "Model:                            OLS   Adj. R-squared:                  0.566\n",
       "Method:                 Least Squares   F-statistic:                     9.275\n",
       "Date:                Thu, 27 Jun 2019   Prob (F-statistic):           0.000866\n",
       "Time:                        19:30:15   Log-Likelihood:                -78.882\n",
       "No. Observations:                  20   AIC:                             165.8\n",
       "Df Residuals:                      16   BIC:                             169.7\n",
       "Df Model:                           3                                         \n",
       "Covariance Type:            nonrobust                                         \n",
       "===========================================================================================================\n",
       "                                              coef    std err          t      P>|t|      [0.025      0.975]\n",
       "-----------------------------------------------------------------------------------------------------------\n",
       "Intercept                                  56.2000      6.247      8.997      0.000      42.958      69.442\n",
       "C(Audience)[T.PIPD Lookalike]              35.6000      8.834      4.030      0.001      16.873      54.327\n",
       "C(Audience)[T.Pro-Pal Orgs]                -8.2000      8.834     -0.928      0.367     -26.927      10.527\n",
       "C(Audience)[T.Social Justice Lookalike]     7.8000      8.834      0.883      0.390     -10.927      26.527\n",
       "==============================================================================\n",
       "Omnibus:                        2.568   Durbin-Watson:                   2.050\n",
       "Prob(Omnibus):                  0.277   Jarque-Bera (JB):                1.223\n",
       "Skew:                          -0.182   Prob(JB):                        0.542\n",
       "Kurtosis:                       1.844   Cond. No.                         4.79\n",
       "==============================================================================\n",
       "\n",
       "Warnings:\n",
       "[1] Standard Errors assume that the covariance matrix of the errors is correctly specified.\n",
       "\"\"\""
      ]
     },
     "execution_count": 142,
     "metadata": {},
     "output_type": "execute_result"
    }
   ],
   "source": [
    "formula = smf.ols('Link_clicks ~ C(Audience)', data = data).fit()\n",
    "formula.summary()"
   ]
  },
  {
   "cell_type": "code",
   "execution_count": 143,
   "metadata": {},
   "outputs": [
    {
     "data": {
      "text/html": [
       "<div>\n",
       "<style scoped>\n",
       "    .dataframe tbody tr th:only-of-type {\n",
       "        vertical-align: middle;\n",
       "    }\n",
       "\n",
       "    .dataframe tbody tr th {\n",
       "        vertical-align: top;\n",
       "    }\n",
       "\n",
       "    .dataframe thead th {\n",
       "        text-align: right;\n",
       "    }\n",
       "</style>\n",
       "<table border=\"1\" class=\"dataframe\">\n",
       "  <thead>\n",
       "    <tr style=\"text-align: right;\">\n",
       "      <th></th>\n",
       "      <th>df</th>\n",
       "      <th>sum_sq</th>\n",
       "      <th>mean_sq</th>\n",
       "      <th>F</th>\n",
       "      <th>PR(&gt;F)</th>\n",
       "    </tr>\n",
       "  </thead>\n",
       "  <tbody>\n",
       "    <tr>\n",
       "      <th>C(Audience)</th>\n",
       "      <td>3.0</td>\n",
       "      <td>5428.4</td>\n",
       "      <td>1809.466667</td>\n",
       "      <td>9.27456</td>\n",
       "      <td>0.000866</td>\n",
       "    </tr>\n",
       "    <tr>\n",
       "      <th>Residual</th>\n",
       "      <td>16.0</td>\n",
       "      <td>3121.6</td>\n",
       "      <td>195.100000</td>\n",
       "      <td>NaN</td>\n",
       "      <td>NaN</td>\n",
       "    </tr>\n",
       "  </tbody>\n",
       "</table>\n",
       "</div>"
      ],
      "text/plain": [
       "               df  sum_sq      mean_sq        F    PR(>F)\n",
       "C(Audience)   3.0  5428.4  1809.466667  9.27456  0.000866\n",
       "Residual     16.0  3121.6   195.100000      NaN       NaN"
      ]
     },
     "execution_count": 143,
     "metadata": {},
     "output_type": "execute_result"
    }
   ],
   "source": [
    "sm.stats.anova_lm(formula)"
   ]
  },
  {
   "cell_type": "code",
   "execution_count": 144,
   "metadata": {},
   "outputs": [
    {
     "name": "stdout",
     "output_type": "stream",
     "text": [
      "            Multiple Comparison of Means - Tukey HSD,FWER=0.05            \n",
      "==========================================================================\n",
      "     group1              group2          meandiff  lower    upper   reject\n",
      "--------------------------------------------------------------------------\n",
      "PIPD Engagement      PIPD Lookalike        35.6   10.3237  60.8763   True \n",
      "PIPD Engagement       Pro-Pal Orgs         -8.2   -33.4763 17.0763  False \n",
      "PIPD Engagement Social Justice Lookalike   7.8    -17.4763 33.0763  False \n",
      " PIPD Lookalike       Pro-Pal Orgs        -43.8   -69.0763 -18.5237  True \n",
      " PIPD Lookalike Social Justice Lookalike  -27.8   -53.0763 -2.5237   True \n",
      "  Pro-Pal Orgs  Social Justice Lookalike   16.0   -9.2763  41.2763  False \n",
      "--------------------------------------------------------------------------\n"
     ]
    }
   ],
   "source": [
    "#TUKEY HSD (poss too conservative)\n",
    "mc = MultiComparison(data['Link_clicks'], data['Audience'])\n",
    "mc_results = mc.tukeyhsd()\n",
    "print(mc_results)"
   ]
  },
  {
   "cell_type": "code",
   "execution_count": 146,
   "metadata": {},
   "outputs": [
    {
     "name": "stdout",
     "output_type": "stream",
     "text": [
      "('Pro-Pal Orgs', 'PIPD Lookalike') \n",
      "p-val:  0.001  || reject:  True\n",
      "('Pro-Pal Orgs', 'PIPD Engagement') \n",
      "p-val:  0.419  || reject:  False\n",
      "('Pro-Pal Orgs', 'Social Justice Lookalike') \n",
      "p-val:  0.09  || reject:  False\n",
      "('PIPD Lookalike', 'PIPD Engagement') \n",
      "p-val:  0.005  || reject:  True\n",
      "('PIPD Lookalike', 'Social Justice Lookalike') \n",
      "p-val:  0.008  || reject:  True\n",
      "('PIPD Engagement', 'Social Justice Lookalike') \n",
      "p-val:  0.379  || reject:  False\n"
     ]
    }
   ],
   "source": [
    "#PAIRED T-TESTS\n",
    "for combo in itertools.combinations(data['Audience'].unique(), 2) :\n",
    "    a = data[data['Audience'] == combo[0]]['Link_clicks']\n",
    "    b = data[data['Audience'] == combo[1]]['Link_clicks']\n",
    "    pval = round(stats.ttest_ind(a, b)[1], 3)\n",
    "    print (combo, '\\np-val: ', pval,  ' || reject: ', pval < 0.05)"
   ]
  },
  {
   "cell_type": "code",
   "execution_count": null,
   "metadata": {},
   "outputs": [],
   "source": []
  }
 ],
 "metadata": {
  "kernelspec": {
   "display_name": "Python 3",
   "language": "python",
   "name": "python3"
  },
  "language_info": {
   "codemirror_mode": {
    "name": "ipython",
    "version": 3
   },
   "file_extension": ".py",
   "mimetype": "text/x-python",
   "name": "python",
   "nbconvert_exporter": "python",
   "pygments_lexer": "ipython3",
   "version": "3.6.8"
  }
 },
 "nbformat": 4,
 "nbformat_minor": 2
}

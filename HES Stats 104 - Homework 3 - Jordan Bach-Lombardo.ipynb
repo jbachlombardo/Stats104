{
 "cells": [
  {
   "cell_type": "code",
   "execution_count": 1,
   "metadata": {},
   "outputs": [],
   "source": [
    "import pandas as pd\n",
    "import numpy as np\n",
    "import matplotlib.pyplot as plt\n",
    "from scipy import stats"
   ]
  },
  {
   "cell_type": "markdown",
   "metadata": {},
   "source": [
    "<b><font size=4>Question 2</font></b>"
   ]
  },
  {
   "cell_type": "code",
   "execution_count": 8,
   "metadata": {},
   "outputs": [
    {
     "name": "stdout",
     "output_type": "stream",
     "text": [
      "a) - confirming hand calculations\n",
      "dbinom: 0.01002259575761855\n",
      "calculator: 0.010022595757618546\n"
     ]
    }
   ],
   "source": [
    "print ('a) - confirming hand calculations')\n",
    "print ('dbinom:', stats.binom.pmf(0,16,0.25))\n",
    "print ('calculator:', 0.75**16)"
   ]
  },
  {
   "cell_type": "code",
   "execution_count": 11,
   "metadata": {},
   "outputs": [
    {
     "name": "stdout",
     "output_type": "stream",
     "text": [
      "b) - confirming hand calculations\n",
      "dbinom: 0.13363461010158098\n",
      "calculator: 0.13363461010158062\n"
     ]
    }
   ],
   "source": [
    "print ('b) - confirming hand calculations')\n",
    "print ('dbinom:', stats.binom.pmf(2,16,0.25))\n",
    "print ('calculator:', ((16*15/2)*(0.25**2)*(0.75**14)))"
   ]
  },
  {
   "cell_type": "code",
   "execution_count": 14,
   "metadata": {},
   "outputs": [
    {
     "name": "stdout",
     "output_type": "stream",
     "text": [
      "c)\n",
      "pbinom: 0.0634764397982508\n"
     ]
    }
   ],
   "source": [
    "print ('c)')\n",
    "print ('pbinom:', stats.binom.cdf(1,16,0.25))"
   ]
  },
  {
   "cell_type": "code",
   "execution_count": 15,
   "metadata": {},
   "outputs": [
    {
     "name": "stdout",
     "output_type": "stream",
     "text": [
      "d)\n",
      "1 - pbinom: 0.0074697204399853945\n"
     ]
    }
   ],
   "source": [
    "print ('d)')\n",
    "print ('1 - pbinom:', 1 - stats.binom.cdf(8,16,0.25))"
   ]
  },
  {
   "cell_type": "markdown",
   "metadata": {},
   "source": [
    "<b><font size=4>Question 3</font></b>"
   ]
  },
  {
   "cell_type": "code",
   "execution_count": 17,
   "metadata": {},
   "outputs": [
    {
     "name": "stdout",
     "output_type": "stream",
     "text": [
      "a) hand calculations: 0.9436864852905273\n"
     ]
    }
   ],
   "source": [
    "print ('a.i) hand calculations:', 1-((1-0.25)**10))"
   ]
  },
  {
   "cell_type": "code",
   "execution_count": 18,
   "metadata": {},
   "outputs": [
    {
     "name": "stdout",
     "output_type": "stream",
     "text": [
      "b) 1 - pbinom: 0.019727706909179688\n"
     ]
    }
   ],
   "source": [
    "print ('a.ii) 1 - pbinom:', 1 - stats.binom.cdf(5, 10, 0.25))"
   ]
  },
  {
   "cell_type": "code",
   "execution_count": 19,
   "metadata": {},
   "outputs": [
    {
     "name": "stdout",
     "output_type": "stream",
     "text": [
      "c) 1 - pbinom: 2.956390380859375e-05\n"
     ]
    }
   ],
   "source": [
    "print ('a.iii) 1 - pbinom:', 1 - stats.binom.cdf(8, 10, 0.25))"
   ]
  },
  {
   "cell_type": "code",
   "execution_count": 20,
   "metadata": {},
   "outputs": [
    {
     "name": "stdout",
     "output_type": "stream",
     "text": [
      "c) hand calculations: 1.3693063937629153\n"
     ]
    }
   ],
   "source": [
    "print ('c) hand calculations:', (10*0.25*(1-0.25))**(1/2))"
   ]
  },
  {
   "cell_type": "markdown",
   "metadata": {},
   "source": [
    "<b><font size=4>Question 4</font></b>"
   ]
  },
  {
   "cell_type": "code",
   "execution_count": 21,
   "metadata": {},
   "outputs": [
    {
     "name": "stdout",
     "output_type": "stream",
     "text": [
      "1 - pbinom: 0.96190821\n"
     ]
    }
   ],
   "source": [
    "print ('1 - pbinom:', 1 - stats.binom.cdf(5, 8, 0.9))"
   ]
  },
  {
   "cell_type": "markdown",
   "metadata": {},
   "source": [
    "<b><font size=4>Question 9</font></b>"
   ]
  },
  {
   "cell_type": "code",
   "execution_count": 28,
   "metadata": {},
   "outputs": [
    {
     "name": "stdout",
     "output_type": "stream",
     "text": [
      "Check of b): 0.851216875818248\n"
     ]
    }
   ],
   "source": [
    "print ('Check of b):', stats.norm.cdf(215,190,24))"
   ]
  },
  {
   "cell_type": "code",
   "execution_count": 29,
   "metadata": {},
   "outputs": [
    {
     "name": "stdout",
     "output_type": "stream",
     "text": [
      "Check of c): 0.4337325226387705\n"
     ]
    }
   ],
   "source": [
    "print ('Check of c):', stats.norm.cdf(195,190,24) - stats.norm.cdf(165,190,24))"
   ]
  },
  {
   "cell_type": "code",
   "execution_count": 30,
   "metadata": {},
   "outputs": [
    {
     "name": "stdout",
     "output_type": "stream",
     "text": [
      "Check of d): 0.12016469557431253\n"
     ]
    }
   ],
   "source": [
    "print ('Check of d):', 1 - stats.norm.cdf(225,190,24) + stats.norm.cdf(150,190,24))"
   ]
  },
  {
   "cell_type": "markdown",
   "metadata": {},
   "source": [
    "<b><font size=4>Question 10</font></b>"
   ]
  },
  {
   "cell_type": "code",
   "execution_count": 31,
   "metadata": {},
   "outputs": [
    {
     "name": "stdout",
     "output_type": "stream",
     "text": [
      "Check of a): 0.5746650823765531\n"
     ]
    }
   ],
   "source": [
    "print ('Check of a):', stats.norm.cdf(72,65,5) - stats.norm.cdf(63,65,5))"
   ]
  },
  {
   "cell_type": "code",
   "execution_count": null,
   "metadata": {},
   "outputs": [],
   "source": []
  }
 ],
 "metadata": {
  "kernelspec": {
   "display_name": "Python 3",
   "language": "python",
   "name": "python3"
  },
  "language_info": {
   "codemirror_mode": {
    "name": "ipython",
    "version": 3
   },
   "file_extension": ".py",
   "mimetype": "text/x-python",
   "name": "python",
   "nbconvert_exporter": "python",
   "pygments_lexer": "ipython3",
   "version": "3.6.8"
  }
 },
 "nbformat": 4,
 "nbformat_minor": 2
}
